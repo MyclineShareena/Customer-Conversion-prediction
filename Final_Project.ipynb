{
  "nbformat": 4,
  "nbformat_minor": 0,
  "metadata": {
    "colab": {
      "provenance": [],
      "collapsed_sections": [
        "SrjQpNzQE76U"
      ],
      "mount_file_id": "1WrOhZf_G0RXlYWZ3r83T_r_hcDOPrNkv",
      "authorship_tag": "ABX9TyMaKOKRL9GWX9tXJljmGos3",
      "include_colab_link": true
    },
    "kernelspec": {
      "name": "python3",
      "display_name": "Python 3"
    },
    "language_info": {
      "name": "python"
    }
  },
  "cells": [
    {
      "cell_type": "markdown",
      "metadata": {
        "id": "view-in-github",
        "colab_type": "text"
      },
      "source": [
        "<a href=\"https://colab.research.google.com/github/MyclineShareena/Customer-Conversion-prediction/blob/main/Final_Project.ipynb\" target=\"_parent\"><img src=\"https://colab.research.google.com/assets/colab-badge.svg\" alt=\"Open In Colab\"/></a>"
      ]
    },
    {
      "cell_type": "markdown",
      "source": [
        "## **Importing Libraries**"
      ],
      "metadata": {
        "id": "XiGrYaJ2_mi0"
      }
    },
    {
      "cell_type": "code",
      "execution_count": 17,
      "metadata": {
        "id": "yPE-Yc4X9KEZ"
      },
      "outputs": [],
      "source": [
        "import pandas as pd\n",
        "import numpy as np\n",
        "import matplotlib.pyplot as plt\n",
        "import seaborn as sns\n",
        "import plotly.express as px\n",
        "from numpy import NaN"
      ]
    },
    {
      "cell_type": "code",
      "source": [
        "#Load the csv file into Pandas Dataframe\n",
        "customer_data = pd.read_csv(\"/content/train.csv\")"
      ],
      "metadata": {
        "id": "H2k97-4lCeJz"
      },
      "execution_count": 3,
      "outputs": []
    },
    {
      "cell_type": "code",
      "source": [
        "#print the dataset of first and last five rows\n",
        "customer_data"
      ],
      "metadata": {
        "colab": {
          "base_uri": "https://localhost:8080/",
          "height": 423
        },
        "id": "fmK1TIf1DdvP",
        "outputId": "74b6716f-717f-4aa1-ed9c-0c48a46584c2"
      },
      "execution_count": 6,
      "outputs": [
        {
          "output_type": "execute_result",
          "data": {
            "text/plain": [
              "       age           job   marital education_qual  call_type  day  mon   dur  \\\n",
              "0       58    management   married       tertiary    unknown    5  may   261   \n",
              "1       44    technician    single      secondary    unknown    5  may   151   \n",
              "2       33  entrepreneur   married      secondary    unknown    5  may    76   \n",
              "3       47   blue-collar   married        unknown    unknown    5  may    92   \n",
              "4       33       unknown    single        unknown    unknown    5  may   198   \n",
              "...    ...           ...       ...            ...        ...  ...  ...   ...   \n",
              "45206   51    technician   married       tertiary   cellular   17  nov   977   \n",
              "45207   71       retired  divorced        primary   cellular   17  nov   456   \n",
              "45208   72       retired   married      secondary   cellular   17  nov  1127   \n",
              "45209   57   blue-collar   married      secondary  telephone   17  nov   508   \n",
              "45210   37  entrepreneur   married      secondary   cellular   17  nov   361   \n",
              "\n",
              "       num_calls prev_outcome    y  \n",
              "0              1      unknown   no  \n",
              "1              1      unknown   no  \n",
              "2              1      unknown   no  \n",
              "3              1      unknown   no  \n",
              "4              1      unknown   no  \n",
              "...          ...          ...  ...  \n",
              "45206          3      unknown  yes  \n",
              "45207          2      unknown  yes  \n",
              "45208          5      success  yes  \n",
              "45209          4      unknown   no  \n",
              "45210          2        other   no  \n",
              "\n",
              "[45211 rows x 11 columns]"
            ],
            "text/html": [
              "\n",
              "  <div id=\"df-f91bedb9-5f25-42b2-8d47-02845508063c\" class=\"colab-df-container\">\n",
              "    <div>\n",
              "<style scoped>\n",
              "    .dataframe tbody tr th:only-of-type {\n",
              "        vertical-align: middle;\n",
              "    }\n",
              "\n",
              "    .dataframe tbody tr th {\n",
              "        vertical-align: top;\n",
              "    }\n",
              "\n",
              "    .dataframe thead th {\n",
              "        text-align: right;\n",
              "    }\n",
              "</style>\n",
              "<table border=\"1\" class=\"dataframe\">\n",
              "  <thead>\n",
              "    <tr style=\"text-align: right;\">\n",
              "      <th></th>\n",
              "      <th>age</th>\n",
              "      <th>job</th>\n",
              "      <th>marital</th>\n",
              "      <th>education_qual</th>\n",
              "      <th>call_type</th>\n",
              "      <th>day</th>\n",
              "      <th>mon</th>\n",
              "      <th>dur</th>\n",
              "      <th>num_calls</th>\n",
              "      <th>prev_outcome</th>\n",
              "      <th>y</th>\n",
              "    </tr>\n",
              "  </thead>\n",
              "  <tbody>\n",
              "    <tr>\n",
              "      <th>0</th>\n",
              "      <td>58</td>\n",
              "      <td>management</td>\n",
              "      <td>married</td>\n",
              "      <td>tertiary</td>\n",
              "      <td>unknown</td>\n",
              "      <td>5</td>\n",
              "      <td>may</td>\n",
              "      <td>261</td>\n",
              "      <td>1</td>\n",
              "      <td>unknown</td>\n",
              "      <td>no</td>\n",
              "    </tr>\n",
              "    <tr>\n",
              "      <th>1</th>\n",
              "      <td>44</td>\n",
              "      <td>technician</td>\n",
              "      <td>single</td>\n",
              "      <td>secondary</td>\n",
              "      <td>unknown</td>\n",
              "      <td>5</td>\n",
              "      <td>may</td>\n",
              "      <td>151</td>\n",
              "      <td>1</td>\n",
              "      <td>unknown</td>\n",
              "      <td>no</td>\n",
              "    </tr>\n",
              "    <tr>\n",
              "      <th>2</th>\n",
              "      <td>33</td>\n",
              "      <td>entrepreneur</td>\n",
              "      <td>married</td>\n",
              "      <td>secondary</td>\n",
              "      <td>unknown</td>\n",
              "      <td>5</td>\n",
              "      <td>may</td>\n",
              "      <td>76</td>\n",
              "      <td>1</td>\n",
              "      <td>unknown</td>\n",
              "      <td>no</td>\n",
              "    </tr>\n",
              "    <tr>\n",
              "      <th>3</th>\n",
              "      <td>47</td>\n",
              "      <td>blue-collar</td>\n",
              "      <td>married</td>\n",
              "      <td>unknown</td>\n",
              "      <td>unknown</td>\n",
              "      <td>5</td>\n",
              "      <td>may</td>\n",
              "      <td>92</td>\n",
              "      <td>1</td>\n",
              "      <td>unknown</td>\n",
              "      <td>no</td>\n",
              "    </tr>\n",
              "    <tr>\n",
              "      <th>4</th>\n",
              "      <td>33</td>\n",
              "      <td>unknown</td>\n",
              "      <td>single</td>\n",
              "      <td>unknown</td>\n",
              "      <td>unknown</td>\n",
              "      <td>5</td>\n",
              "      <td>may</td>\n",
              "      <td>198</td>\n",
              "      <td>1</td>\n",
              "      <td>unknown</td>\n",
              "      <td>no</td>\n",
              "    </tr>\n",
              "    <tr>\n",
              "      <th>...</th>\n",
              "      <td>...</td>\n",
              "      <td>...</td>\n",
              "      <td>...</td>\n",
              "      <td>...</td>\n",
              "      <td>...</td>\n",
              "      <td>...</td>\n",
              "      <td>...</td>\n",
              "      <td>...</td>\n",
              "      <td>...</td>\n",
              "      <td>...</td>\n",
              "      <td>...</td>\n",
              "    </tr>\n",
              "    <tr>\n",
              "      <th>45206</th>\n",
              "      <td>51</td>\n",
              "      <td>technician</td>\n",
              "      <td>married</td>\n",
              "      <td>tertiary</td>\n",
              "      <td>cellular</td>\n",
              "      <td>17</td>\n",
              "      <td>nov</td>\n",
              "      <td>977</td>\n",
              "      <td>3</td>\n",
              "      <td>unknown</td>\n",
              "      <td>yes</td>\n",
              "    </tr>\n",
              "    <tr>\n",
              "      <th>45207</th>\n",
              "      <td>71</td>\n",
              "      <td>retired</td>\n",
              "      <td>divorced</td>\n",
              "      <td>primary</td>\n",
              "      <td>cellular</td>\n",
              "      <td>17</td>\n",
              "      <td>nov</td>\n",
              "      <td>456</td>\n",
              "      <td>2</td>\n",
              "      <td>unknown</td>\n",
              "      <td>yes</td>\n",
              "    </tr>\n",
              "    <tr>\n",
              "      <th>45208</th>\n",
              "      <td>72</td>\n",
              "      <td>retired</td>\n",
              "      <td>married</td>\n",
              "      <td>secondary</td>\n",
              "      <td>cellular</td>\n",
              "      <td>17</td>\n",
              "      <td>nov</td>\n",
              "      <td>1127</td>\n",
              "      <td>5</td>\n",
              "      <td>success</td>\n",
              "      <td>yes</td>\n",
              "    </tr>\n",
              "    <tr>\n",
              "      <th>45209</th>\n",
              "      <td>57</td>\n",
              "      <td>blue-collar</td>\n",
              "      <td>married</td>\n",
              "      <td>secondary</td>\n",
              "      <td>telephone</td>\n",
              "      <td>17</td>\n",
              "      <td>nov</td>\n",
              "      <td>508</td>\n",
              "      <td>4</td>\n",
              "      <td>unknown</td>\n",
              "      <td>no</td>\n",
              "    </tr>\n",
              "    <tr>\n",
              "      <th>45210</th>\n",
              "      <td>37</td>\n",
              "      <td>entrepreneur</td>\n",
              "      <td>married</td>\n",
              "      <td>secondary</td>\n",
              "      <td>cellular</td>\n",
              "      <td>17</td>\n",
              "      <td>nov</td>\n",
              "      <td>361</td>\n",
              "      <td>2</td>\n",
              "      <td>other</td>\n",
              "      <td>no</td>\n",
              "    </tr>\n",
              "  </tbody>\n",
              "</table>\n",
              "<p>45211 rows × 11 columns</p>\n",
              "</div>\n",
              "    <div class=\"colab-df-buttons\">\n",
              "\n",
              "  <div class=\"colab-df-container\">\n",
              "    <button class=\"colab-df-convert\" onclick=\"convertToInteractive('df-f91bedb9-5f25-42b2-8d47-02845508063c')\"\n",
              "            title=\"Convert this dataframe to an interactive table.\"\n",
              "            style=\"display:none;\">\n",
              "\n",
              "  <svg xmlns=\"http://www.w3.org/2000/svg\" height=\"24px\" viewBox=\"0 -960 960 960\">\n",
              "    <path d=\"M120-120v-720h720v720H120Zm60-500h600v-160H180v160Zm220 220h160v-160H400v160Zm0 220h160v-160H400v160ZM180-400h160v-160H180v160Zm440 0h160v-160H620v160ZM180-180h160v-160H180v160Zm440 0h160v-160H620v160Z\"/>\n",
              "  </svg>\n",
              "    </button>\n",
              "\n",
              "  <style>\n",
              "    .colab-df-container {\n",
              "      display:flex;\n",
              "      gap: 12px;\n",
              "    }\n",
              "\n",
              "    .colab-df-convert {\n",
              "      background-color: #E8F0FE;\n",
              "      border: none;\n",
              "      border-radius: 50%;\n",
              "      cursor: pointer;\n",
              "      display: none;\n",
              "      fill: #1967D2;\n",
              "      height: 32px;\n",
              "      padding: 0 0 0 0;\n",
              "      width: 32px;\n",
              "    }\n",
              "\n",
              "    .colab-df-convert:hover {\n",
              "      background-color: #E2EBFA;\n",
              "      box-shadow: 0px 1px 2px rgba(60, 64, 67, 0.3), 0px 1px 3px 1px rgba(60, 64, 67, 0.15);\n",
              "      fill: #174EA6;\n",
              "    }\n",
              "\n",
              "    .colab-df-buttons div {\n",
              "      margin-bottom: 4px;\n",
              "    }\n",
              "\n",
              "    [theme=dark] .colab-df-convert {\n",
              "      background-color: #3B4455;\n",
              "      fill: #D2E3FC;\n",
              "    }\n",
              "\n",
              "    [theme=dark] .colab-df-convert:hover {\n",
              "      background-color: #434B5C;\n",
              "      box-shadow: 0px 1px 3px 1px rgba(0, 0, 0, 0.15);\n",
              "      filter: drop-shadow(0px 1px 2px rgba(0, 0, 0, 0.3));\n",
              "      fill: #FFFFFF;\n",
              "    }\n",
              "  </style>\n",
              "\n",
              "    <script>\n",
              "      const buttonEl =\n",
              "        document.querySelector('#df-f91bedb9-5f25-42b2-8d47-02845508063c button.colab-df-convert');\n",
              "      buttonEl.style.display =\n",
              "        google.colab.kernel.accessAllowed ? 'block' : 'none';\n",
              "\n",
              "      async function convertToInteractive(key) {\n",
              "        const element = document.querySelector('#df-f91bedb9-5f25-42b2-8d47-02845508063c');\n",
              "        const dataTable =\n",
              "          await google.colab.kernel.invokeFunction('convertToInteractive',\n",
              "                                                    [key], {});\n",
              "        if (!dataTable) return;\n",
              "\n",
              "        const docLinkHtml = 'Like what you see? Visit the ' +\n",
              "          '<a target=\"_blank\" href=https://colab.research.google.com/notebooks/data_table.ipynb>data table notebook</a>'\n",
              "          + ' to learn more about interactive tables.';\n",
              "        element.innerHTML = '';\n",
              "        dataTable['output_type'] = 'display_data';\n",
              "        await google.colab.output.renderOutput(dataTable, element);\n",
              "        const docLink = document.createElement('div');\n",
              "        docLink.innerHTML = docLinkHtml;\n",
              "        element.appendChild(docLink);\n",
              "      }\n",
              "    </script>\n",
              "  </div>\n",
              "\n",
              "\n",
              "<div id=\"df-fb417562-541c-4b39-9dbc-94972dd6324d\">\n",
              "  <button class=\"colab-df-quickchart\" onclick=\"quickchart('df-fb417562-541c-4b39-9dbc-94972dd6324d')\"\n",
              "            title=\"Suggest charts\"\n",
              "            style=\"display:none;\">\n",
              "\n",
              "<svg xmlns=\"http://www.w3.org/2000/svg\" height=\"24px\"viewBox=\"0 0 24 24\"\n",
              "     width=\"24px\">\n",
              "    <g>\n",
              "        <path d=\"M19 3H5c-1.1 0-2 .9-2 2v14c0 1.1.9 2 2 2h14c1.1 0 2-.9 2-2V5c0-1.1-.9-2-2-2zM9 17H7v-7h2v7zm4 0h-2V7h2v10zm4 0h-2v-4h2v4z\"/>\n",
              "    </g>\n",
              "</svg>\n",
              "  </button>\n",
              "\n",
              "<style>\n",
              "  .colab-df-quickchart {\n",
              "      --bg-color: #E8F0FE;\n",
              "      --fill-color: #1967D2;\n",
              "      --hover-bg-color: #E2EBFA;\n",
              "      --hover-fill-color: #174EA6;\n",
              "      --disabled-fill-color: #AAA;\n",
              "      --disabled-bg-color: #DDD;\n",
              "  }\n",
              "\n",
              "  [theme=dark] .colab-df-quickchart {\n",
              "      --bg-color: #3B4455;\n",
              "      --fill-color: #D2E3FC;\n",
              "      --hover-bg-color: #434B5C;\n",
              "      --hover-fill-color: #FFFFFF;\n",
              "      --disabled-bg-color: #3B4455;\n",
              "      --disabled-fill-color: #666;\n",
              "  }\n",
              "\n",
              "  .colab-df-quickchart {\n",
              "    background-color: var(--bg-color);\n",
              "    border: none;\n",
              "    border-radius: 50%;\n",
              "    cursor: pointer;\n",
              "    display: none;\n",
              "    fill: var(--fill-color);\n",
              "    height: 32px;\n",
              "    padding: 0;\n",
              "    width: 32px;\n",
              "  }\n",
              "\n",
              "  .colab-df-quickchart:hover {\n",
              "    background-color: var(--hover-bg-color);\n",
              "    box-shadow: 0 1px 2px rgba(60, 64, 67, 0.3), 0 1px 3px 1px rgba(60, 64, 67, 0.15);\n",
              "    fill: var(--button-hover-fill-color);\n",
              "  }\n",
              "\n",
              "  .colab-df-quickchart-complete:disabled,\n",
              "  .colab-df-quickchart-complete:disabled:hover {\n",
              "    background-color: var(--disabled-bg-color);\n",
              "    fill: var(--disabled-fill-color);\n",
              "    box-shadow: none;\n",
              "  }\n",
              "\n",
              "  .colab-df-spinner {\n",
              "    border: 2px solid var(--fill-color);\n",
              "    border-color: transparent;\n",
              "    border-bottom-color: var(--fill-color);\n",
              "    animation:\n",
              "      spin 1s steps(1) infinite;\n",
              "  }\n",
              "\n",
              "  @keyframes spin {\n",
              "    0% {\n",
              "      border-color: transparent;\n",
              "      border-bottom-color: var(--fill-color);\n",
              "      border-left-color: var(--fill-color);\n",
              "    }\n",
              "    20% {\n",
              "      border-color: transparent;\n",
              "      border-left-color: var(--fill-color);\n",
              "      border-top-color: var(--fill-color);\n",
              "    }\n",
              "    30% {\n",
              "      border-color: transparent;\n",
              "      border-left-color: var(--fill-color);\n",
              "      border-top-color: var(--fill-color);\n",
              "      border-right-color: var(--fill-color);\n",
              "    }\n",
              "    40% {\n",
              "      border-color: transparent;\n",
              "      border-right-color: var(--fill-color);\n",
              "      border-top-color: var(--fill-color);\n",
              "    }\n",
              "    60% {\n",
              "      border-color: transparent;\n",
              "      border-right-color: var(--fill-color);\n",
              "    }\n",
              "    80% {\n",
              "      border-color: transparent;\n",
              "      border-right-color: var(--fill-color);\n",
              "      border-bottom-color: var(--fill-color);\n",
              "    }\n",
              "    90% {\n",
              "      border-color: transparent;\n",
              "      border-bottom-color: var(--fill-color);\n",
              "    }\n",
              "  }\n",
              "</style>\n",
              "\n",
              "  <script>\n",
              "    async function quickchart(key) {\n",
              "      const quickchartButtonEl =\n",
              "        document.querySelector('#' + key + ' button');\n",
              "      quickchartButtonEl.disabled = true;  // To prevent multiple clicks.\n",
              "      quickchartButtonEl.classList.add('colab-df-spinner');\n",
              "      try {\n",
              "        const charts = await google.colab.kernel.invokeFunction(\n",
              "            'suggestCharts', [key], {});\n",
              "      } catch (error) {\n",
              "        console.error('Error during call to suggestCharts:', error);\n",
              "      }\n",
              "      quickchartButtonEl.classList.remove('colab-df-spinner');\n",
              "      quickchartButtonEl.classList.add('colab-df-quickchart-complete');\n",
              "    }\n",
              "    (() => {\n",
              "      let quickchartButtonEl =\n",
              "        document.querySelector('#df-fb417562-541c-4b39-9dbc-94972dd6324d button');\n",
              "      quickchartButtonEl.style.display =\n",
              "        google.colab.kernel.accessAllowed ? 'block' : 'none';\n",
              "    })();\n",
              "  </script>\n",
              "</div>\n",
              "    </div>\n",
              "  </div>\n"
            ]
          },
          "metadata": {},
          "execution_count": 6
        }
      ]
    },
    {
      "cell_type": "code",
      "source": [
        "#print the data information\n",
        "customer_data.info()"
      ],
      "metadata": {
        "colab": {
          "base_uri": "https://localhost:8080/"
        },
        "id": "oJgqQ5G4Dxd7",
        "outputId": "9c994f39-63d2-4856-b8b2-546e3924adf8"
      },
      "execution_count": 8,
      "outputs": [
        {
          "output_type": "stream",
          "name": "stdout",
          "text": [
            "<class 'pandas.core.frame.DataFrame'>\n",
            "RangeIndex: 45211 entries, 0 to 45210\n",
            "Data columns (total 11 columns):\n",
            " #   Column          Non-Null Count  Dtype \n",
            "---  ------          --------------  ----- \n",
            " 0   age             45211 non-null  int64 \n",
            " 1   job             45211 non-null  object\n",
            " 2   marital         45211 non-null  object\n",
            " 3   education_qual  45211 non-null  object\n",
            " 4   call_type       45211 non-null  object\n",
            " 5   day             45211 non-null  int64 \n",
            " 6   mon             45211 non-null  object\n",
            " 7   dur             45211 non-null  int64 \n",
            " 8   num_calls       45211 non-null  int64 \n",
            " 9   prev_outcome    45211 non-null  object\n",
            " 10  y               45211 non-null  object\n",
            "dtypes: int64(4), object(7)\n",
            "memory usage: 3.8+ MB\n"
          ]
        }
      ]
    },
    {
      "cell_type": "code",
      "source": [
        "#number of rows and columns in dataset\n",
        "customer_data.shape"
      ],
      "metadata": {
        "colab": {
          "base_uri": "https://localhost:8080/"
        },
        "id": "m6n4SodtEMZJ",
        "outputId": "47c4cc3b-4f0d-4af2-8709-0c786b3bd586"
      },
      "execution_count": 9,
      "outputs": [
        {
          "output_type": "execute_result",
          "data": {
            "text/plain": [
              "(45211, 11)"
            ]
          },
          "metadata": {},
          "execution_count": 9
        }
      ]
    },
    {
      "cell_type": "code",
      "source": [
        "#total number of null values in data\n",
        "customer_data.isnull().sum()"
      ],
      "metadata": {
        "colab": {
          "base_uri": "https://localhost:8080/"
        },
        "id": "nz8d6BTgEdmh",
        "outputId": "7a2d4699-6345-4cba-e8b0-55d9127b326c"
      },
      "execution_count": 10,
      "outputs": [
        {
          "output_type": "execute_result",
          "data": {
            "text/plain": [
              "age               0\n",
              "job               0\n",
              "marital           0\n",
              "education_qual    0\n",
              "call_type         0\n",
              "day               0\n",
              "mon               0\n",
              "dur               0\n",
              "num_calls         0\n",
              "prev_outcome      0\n",
              "y                 0\n",
              "dtype: int64"
            ]
          },
          "metadata": {},
          "execution_count": 10
        }
      ]
    },
    {
      "cell_type": "markdown",
      "source": [
        "# Exploring different data points for Categorical Data"
      ],
      "metadata": {
        "id": "SrjQpNzQE76U"
      }
    },
    {
      "cell_type": "code",
      "source": [
        "customer_data['job'].value_counts()"
      ],
      "metadata": {
        "colab": {
          "base_uri": "https://localhost:8080/"
        },
        "id": "NfyswNTrFCtF",
        "outputId": "62486df5-5096-41fb-eedb-23810d1b72f9"
      },
      "execution_count": 12,
      "outputs": [
        {
          "output_type": "execute_result",
          "data": {
            "text/plain": [
              "blue-collar      9732\n",
              "management       9458\n",
              "technician       7597\n",
              "admin.           5171\n",
              "services         4154\n",
              "retired          2264\n",
              "self-employed    1579\n",
              "entrepreneur     1487\n",
              "unemployed       1303\n",
              "housemaid        1240\n",
              "student           938\n",
              "unknown           288\n",
              "Name: job, dtype: int64"
            ]
          },
          "metadata": {},
          "execution_count": 12
        }
      ]
    },
    {
      "cell_type": "code",
      "source": [
        "customer_data['marital'].value_counts()"
      ],
      "metadata": {
        "colab": {
          "base_uri": "https://localhost:8080/"
        },
        "id": "H5cCs062HQj4",
        "outputId": "99cd6b68-f6ae-4068-debe-62ff743061e1"
      },
      "execution_count": 13,
      "outputs": [
        {
          "output_type": "execute_result",
          "data": {
            "text/plain": [
              "married     27214\n",
              "single      12790\n",
              "divorced     5207\n",
              "Name: marital, dtype: int64"
            ]
          },
          "metadata": {},
          "execution_count": 13
        }
      ]
    },
    {
      "cell_type": "code",
      "source": [
        "customer_data['education_qual'].value_counts()"
      ],
      "metadata": {
        "colab": {
          "base_uri": "https://localhost:8080/"
        },
        "id": "oxPfFnAAHY1y",
        "outputId": "0fbe754f-4401-487e-fbf2-e7ba4204706b"
      },
      "execution_count": 14,
      "outputs": [
        {
          "output_type": "execute_result",
          "data": {
            "text/plain": [
              "secondary    23202\n",
              "tertiary     13301\n",
              "primary       6851\n",
              "unknown       1857\n",
              "Name: education_qual, dtype: int64"
            ]
          },
          "metadata": {},
          "execution_count": 14
        }
      ]
    },
    {
      "cell_type": "code",
      "source": [
        "customer_data['call_type'].value_counts()"
      ],
      "metadata": {
        "colab": {
          "base_uri": "https://localhost:8080/"
        },
        "id": "2Mp2NRHCHj3Q",
        "outputId": "b0ccd2e9-4cef-48ec-cf41-328c6bba0e3d"
      },
      "execution_count": 15,
      "outputs": [
        {
          "output_type": "execute_result",
          "data": {
            "text/plain": [
              "cellular     29285\n",
              "unknown      13020\n",
              "telephone     2906\n",
              "Name: call_type, dtype: int64"
            ]
          },
          "metadata": {},
          "execution_count": 15
        }
      ]
    },
    {
      "cell_type": "code",
      "source": [
        "customer_data['prev_outcome'].value_counts()"
      ],
      "metadata": {
        "colab": {
          "base_uri": "https://localhost:8080/"
        },
        "id": "7RjNKRsLHufo",
        "outputId": "53939afa-e9e8-435d-c794-53267ed82b17"
      },
      "execution_count": 16,
      "outputs": [
        {
          "output_type": "execute_result",
          "data": {
            "text/plain": [
              "unknown    36959\n",
              "failure     4901\n",
              "other       1840\n",
              "success     1511\n",
              "Name: prev_outcome, dtype: int64"
            ]
          },
          "metadata": {},
          "execution_count": 16
        }
      ]
    },
    {
      "cell_type": "markdown",
      "source": [
        "# Relationship between Feature data vs Outcome"
      ],
      "metadata": {
        "id": "e1Z15l9tJye_"
      }
    },
    {
      "cell_type": "code",
      "source": [
        "#age vs outcome\n",
        "pd.crosstab(customer_data['age'],customer_data['y'])\n",
        "\n",
        "#Plot the figure for Outcome - Yes\n",
        "fig = plt.figure(figsize = (40,10))\n",
        "plt.subplot(1,2,1)\n",
        "sns.barplot(x=pd.crosstab(customer_data['age'],customer_data['y']).index, y=\"yes\", data = pd.crosstab(customer_data['age'],customer_data['y']))\n",
        "plt.title(\"Age vs Outcome\")\n",
        "plt.xlabel(\"Age\")\n",
        "plt.ylabel(\"Yes count\")\n",
        "\n",
        "#Plot the figure for Outcome - No\n",
        "plt.subplot(1,2,2)\n",
        "sns.barplot(x=pd.crosstab(customer_data['age'],customer_data['y']).index, y=\"no\", data = pd.crosstab(customer_data['age'],customer_data['y']))\n",
        "plt.xlabel(\"Age\")\n",
        "plt.ylabel(\"No count\")\n",
        "plt.show()"
      ],
      "metadata": {
        "colab": {
          "base_uri": "https://localhost:8080/",
          "height": 398
        },
        "id": "WZgdaQx2IcIJ",
        "outputId": "35a08490-d579-4d79-ea20-ca596232af38"
      },
      "execution_count": 23,
      "outputs": [
        {
          "output_type": "display_data",
          "data": {
            "text/plain": [
              "<Figure size 4000x1000 with 2 Axes>"
            ],
            "image/png": "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\n"
          },
          "metadata": {}
        }
      ]
    },
    {
      "cell_type": "markdown",
      "source": [
        "INTUTION BY AGE:\n",
        "\n",
        "\n",
        "1.   The age group of successive convertion is ranges from 24 to 60 and they are more likely to concvert as our customer.\n",
        "2.   The age group of rejection also lies as the same range of 24 to 60. But in this case after 60 years they are more likelt to say yes rather than no.\n",
        "  \n",
        "Conclusion : Customers above the age of 60 have more chance of convertion. But they are less contacted."
      ],
      "metadata": {
        "id": "pySq68g4N1mk"
      }
    },
    {
      "cell_type": "code",
      "source": [
        "#Job vs Outcome\n",
        "job_vs_outcome = pd.crosstab(customer_data['job'],customer_data['y'])\n",
        "job_vs_outcome[\"Convertion Rate in percent\"] = round(job_vs_outcome[\"yes\"]/(job_vs_outcome[\"yes\"]+job_vs_outcome[\"no\"])*100, 2)\n",
        "job_vs_outcome = job_vs_outcome.sort_values(\"Convertion Rate in percent\", ascending = False)\n",
        "job_vs_outcome\n",
        "\n",
        "#plot the figure\n",
        "fig_job = px.bar(x = job_vs_outcome.index, y =job_vs_outcome[\"Convertion Rate in percent\"].tolist(), color = job_vs_outcome.index, width=1000, height=400)\n",
        "fig_job.update_layout(showlegend=False)"
      ],
      "metadata": {
        "colab": {
          "base_uri": "https://localhost:8080/",
          "height": 417
        },
        "id": "Z_LSwQAdOdqM",
        "outputId": "ae9737ae-e46c-406b-e7db-1def883b183d"
      },
      "execution_count": 28,
      "outputs": [
        {
          "output_type": "display_data",
          "data": {
            "text/html": [
              "<html>\n",
              "<head><meta charset=\"utf-8\" /></head>\n",
              "<body>\n",
              "    <div>            <script src=\"https://cdnjs.cloudflare.com/ajax/libs/mathjax/2.7.5/MathJax.js?config=TeX-AMS-MML_SVG\"></script><script type=\"text/javascript\">if (window.MathJax && window.MathJax.Hub && window.MathJax.Hub.Config) {window.MathJax.Hub.Config({SVG: {font: \"STIX-Web\"}});}</script>                <script type=\"text/javascript\">window.PlotlyConfig = {MathJaxConfig: 'local'};</script>\n",
              "        <script charset=\"utf-8\" src=\"https://cdn.plot.ly/plotly-2.24.1.min.js\"></script>                <div id=\"59b4fc62-f2ae-4fb4-b40b-b8f2a371b3b4\" class=\"plotly-graph-div\" style=\"height:400px; width:1000px;\"></div>            <script type=\"text/javascript\">                                    window.PLOTLYENV=window.PLOTLYENV || {};                                    if (document.getElementById(\"59b4fc62-f2ae-4fb4-b40b-b8f2a371b3b4\")) {                    Plotly.newPlot(                        \"59b4fc62-f2ae-4fb4-b40b-b8f2a371b3b4\",                        [{\"alignmentgroup\":\"True\",\"hovertemplate\":\"color=student\\u003cbr\\u003ex=%{x}\\u003cbr\\u003ey=%{y}\\u003cextra\\u003e\\u003c\\u002fextra\\u003e\",\"legendgroup\":\"student\",\"marker\":{\"color\":\"#636efa\",\"pattern\":{\"shape\":\"\"}},\"name\":\"student\",\"offsetgroup\":\"student\",\"orientation\":\"v\",\"showlegend\":true,\"textposition\":\"auto\",\"x\":[\"student\"],\"xaxis\":\"x\",\"y\":[28.68],\"yaxis\":\"y\",\"type\":\"bar\"},{\"alignmentgroup\":\"True\",\"hovertemplate\":\"color=retired\\u003cbr\\u003ex=%{x}\\u003cbr\\u003ey=%{y}\\u003cextra\\u003e\\u003c\\u002fextra\\u003e\",\"legendgroup\":\"retired\",\"marker\":{\"color\":\"#EF553B\",\"pattern\":{\"shape\":\"\"}},\"name\":\"retired\",\"offsetgroup\":\"retired\",\"orientation\":\"v\",\"showlegend\":true,\"textposition\":\"auto\",\"x\":[\"retired\"],\"xaxis\":\"x\",\"y\":[22.79],\"yaxis\":\"y\",\"type\":\"bar\"},{\"alignmentgroup\":\"True\",\"hovertemplate\":\"color=unemployed\\u003cbr\\u003ex=%{x}\\u003cbr\\u003ey=%{y}\\u003cextra\\u003e\\u003c\\u002fextra\\u003e\",\"legendgroup\":\"unemployed\",\"marker\":{\"color\":\"#00cc96\",\"pattern\":{\"shape\":\"\"}},\"name\":\"unemployed\",\"offsetgroup\":\"unemployed\",\"orientation\":\"v\",\"showlegend\":true,\"textposition\":\"auto\",\"x\":[\"unemployed\"],\"xaxis\":\"x\",\"y\":[15.5],\"yaxis\":\"y\",\"type\":\"bar\"},{\"alignmentgroup\":\"True\",\"hovertemplate\":\"color=management\\u003cbr\\u003ex=%{x}\\u003cbr\\u003ey=%{y}\\u003cextra\\u003e\\u003c\\u002fextra\\u003e\",\"legendgroup\":\"management\",\"marker\":{\"color\":\"#ab63fa\",\"pattern\":{\"shape\":\"\"}},\"name\":\"management\",\"offsetgroup\":\"management\",\"orientation\":\"v\",\"showlegend\":true,\"textposition\":\"auto\",\"x\":[\"management\"],\"xaxis\":\"x\",\"y\":[13.76],\"yaxis\":\"y\",\"type\":\"bar\"},{\"alignmentgroup\":\"True\",\"hovertemplate\":\"color=admin.\\u003cbr\\u003ex=%{x}\\u003cbr\\u003ey=%{y}\\u003cextra\\u003e\\u003c\\u002fextra\\u003e\",\"legendgroup\":\"admin.\",\"marker\":{\"color\":\"#FFA15A\",\"pattern\":{\"shape\":\"\"}},\"name\":\"admin.\",\"offsetgroup\":\"admin.\",\"orientation\":\"v\",\"showlegend\":true,\"textposition\":\"auto\",\"x\":[\"admin.\"],\"xaxis\":\"x\",\"y\":[12.2],\"yaxis\":\"y\",\"type\":\"bar\"},{\"alignmentgroup\":\"True\",\"hovertemplate\":\"color=self-employed\\u003cbr\\u003ex=%{x}\\u003cbr\\u003ey=%{y}\\u003cextra\\u003e\\u003c\\u002fextra\\u003e\",\"legendgroup\":\"self-employed\",\"marker\":{\"color\":\"#19d3f3\",\"pattern\":{\"shape\":\"\"}},\"name\":\"self-employed\",\"offsetgroup\":\"self-employed\",\"orientation\":\"v\",\"showlegend\":true,\"textposition\":\"auto\",\"x\":[\"self-employed\"],\"xaxis\":\"x\",\"y\":[11.84],\"yaxis\":\"y\",\"type\":\"bar\"},{\"alignmentgroup\":\"True\",\"hovertemplate\":\"color=unknown\\u003cbr\\u003ex=%{x}\\u003cbr\\u003ey=%{y}\\u003cextra\\u003e\\u003c\\u002fextra\\u003e\",\"legendgroup\":\"unknown\",\"marker\":{\"color\":\"#FF6692\",\"pattern\":{\"shape\":\"\"}},\"name\":\"unknown\",\"offsetgroup\":\"unknown\",\"orientation\":\"v\",\"showlegend\":true,\"textposition\":\"auto\",\"x\":[\"unknown\"],\"xaxis\":\"x\",\"y\":[11.81],\"yaxis\":\"y\",\"type\":\"bar\"},{\"alignmentgroup\":\"True\",\"hovertemplate\":\"color=technician\\u003cbr\\u003ex=%{x}\\u003cbr\\u003ey=%{y}\\u003cextra\\u003e\\u003c\\u002fextra\\u003e\",\"legendgroup\":\"technician\",\"marker\":{\"color\":\"#B6E880\",\"pattern\":{\"shape\":\"\"}},\"name\":\"technician\",\"offsetgroup\":\"technician\",\"orientation\":\"v\",\"showlegend\":true,\"textposition\":\"auto\",\"x\":[\"technician\"],\"xaxis\":\"x\",\"y\":[11.06],\"yaxis\":\"y\",\"type\":\"bar\"},{\"alignmentgroup\":\"True\",\"hovertemplate\":\"color=services\\u003cbr\\u003ex=%{x}\\u003cbr\\u003ey=%{y}\\u003cextra\\u003e\\u003c\\u002fextra\\u003e\",\"legendgroup\":\"services\",\"marker\":{\"color\":\"#FF97FF\",\"pattern\":{\"shape\":\"\"}},\"name\":\"services\",\"offsetgroup\":\"services\",\"orientation\":\"v\",\"showlegend\":true,\"textposition\":\"auto\",\"x\":[\"services\"],\"xaxis\":\"x\",\"y\":[8.88],\"yaxis\":\"y\",\"type\":\"bar\"},{\"alignmentgroup\":\"True\",\"hovertemplate\":\"color=housemaid\\u003cbr\\u003ex=%{x}\\u003cbr\\u003ey=%{y}\\u003cextra\\u003e\\u003c\\u002fextra\\u003e\",\"legendgroup\":\"housemaid\",\"marker\":{\"color\":\"#FECB52\",\"pattern\":{\"shape\":\"\"}},\"name\":\"housemaid\",\"offsetgroup\":\"housemaid\",\"orientation\":\"v\",\"showlegend\":true,\"textposition\":\"auto\",\"x\":[\"housemaid\"],\"xaxis\":\"x\",\"y\":[8.79],\"yaxis\":\"y\",\"type\":\"bar\"},{\"alignmentgroup\":\"True\",\"hovertemplate\":\"color=entrepreneur\\u003cbr\\u003ex=%{x}\\u003cbr\\u003ey=%{y}\\u003cextra\\u003e\\u003c\\u002fextra\\u003e\",\"legendgroup\":\"entrepreneur\",\"marker\":{\"color\":\"#636efa\",\"pattern\":{\"shape\":\"\"}},\"name\":\"entrepreneur\",\"offsetgroup\":\"entrepreneur\",\"orientation\":\"v\",\"showlegend\":true,\"textposition\":\"auto\",\"x\":[\"entrepreneur\"],\"xaxis\":\"x\",\"y\":[8.27],\"yaxis\":\"y\",\"type\":\"bar\"},{\"alignmentgroup\":\"True\",\"hovertemplate\":\"color=blue-collar\\u003cbr\\u003ex=%{x}\\u003cbr\\u003ey=%{y}\\u003cextra\\u003e\\u003c\\u002fextra\\u003e\",\"legendgroup\":\"blue-collar\",\"marker\":{\"color\":\"#EF553B\",\"pattern\":{\"shape\":\"\"}},\"name\":\"blue-collar\",\"offsetgroup\":\"blue-collar\",\"orientation\":\"v\",\"showlegend\":true,\"textposition\":\"auto\",\"x\":[\"blue-collar\"],\"xaxis\":\"x\",\"y\":[7.27],\"yaxis\":\"y\",\"type\":\"bar\"}],                        {\"template\":{\"data\":{\"histogram2dcontour\":[{\"type\":\"histogram2dcontour\",\"colorbar\":{\"outlinewidth\":0,\"ticks\":\"\"},\"colorscale\":[[0.0,\"#0d0887\"],[0.1111111111111111,\"#46039f\"],[0.2222222222222222,\"#7201a8\"],[0.3333333333333333,\"#9c179e\"],[0.4444444444444444,\"#bd3786\"],[0.5555555555555556,\"#d8576b\"],[0.6666666666666666,\"#ed7953\"],[0.7777777777777778,\"#fb9f3a\"],[0.8888888888888888,\"#fdca26\"],[1.0,\"#f0f921\"]]}],\"choropleth\":[{\"type\":\"choropleth\",\"colorbar\":{\"outlinewidth\":0,\"ticks\":\"\"}}],\"histogram2d\":[{\"type\":\"histogram2d\",\"colorbar\":{\"outlinewidth\":0,\"ticks\":\"\"},\"colorscale\":[[0.0,\"#0d0887\"],[0.1111111111111111,\"#46039f\"],[0.2222222222222222,\"#7201a8\"],[0.3333333333333333,\"#9c179e\"],[0.4444444444444444,\"#bd3786\"],[0.5555555555555556,\"#d8576b\"],[0.6666666666666666,\"#ed7953\"],[0.7777777777777778,\"#fb9f3a\"],[0.8888888888888888,\"#fdca26\"],[1.0,\"#f0f921\"]]}],\"heatmap\":[{\"type\":\"heatmap\",\"colorbar\":{\"outlinewidth\":0,\"ticks\":\"\"},\"colorscale\":[[0.0,\"#0d0887\"],[0.1111111111111111,\"#46039f\"],[0.2222222222222222,\"#7201a8\"],[0.3333333333333333,\"#9c179e\"],[0.4444444444444444,\"#bd3786\"],[0.5555555555555556,\"#d8576b\"],[0.6666666666666666,\"#ed7953\"],[0.7777777777777778,\"#fb9f3a\"],[0.8888888888888888,\"#fdca26\"],[1.0,\"#f0f921\"]]}],\"heatmapgl\":[{\"type\":\"heatmapgl\",\"colorbar\":{\"outlinewidth\":0,\"ticks\":\"\"},\"colorscale\":[[0.0,\"#0d0887\"],[0.1111111111111111,\"#46039f\"],[0.2222222222222222,\"#7201a8\"],[0.3333333333333333,\"#9c179e\"],[0.4444444444444444,\"#bd3786\"],[0.5555555555555556,\"#d8576b\"],[0.6666666666666666,\"#ed7953\"],[0.7777777777777778,\"#fb9f3a\"],[0.8888888888888888,\"#fdca26\"],[1.0,\"#f0f921\"]]}],\"contourcarpet\":[{\"type\":\"contourcarpet\",\"colorbar\":{\"outlinewidth\":0,\"ticks\":\"\"}}],\"contour\":[{\"type\":\"contour\",\"colorbar\":{\"outlinewidth\":0,\"ticks\":\"\"},\"colorscale\":[[0.0,\"#0d0887\"],[0.1111111111111111,\"#46039f\"],[0.2222222222222222,\"#7201a8\"],[0.3333333333333333,\"#9c179e\"],[0.4444444444444444,\"#bd3786\"],[0.5555555555555556,\"#d8576b\"],[0.6666666666666666,\"#ed7953\"],[0.7777777777777778,\"#fb9f3a\"],[0.8888888888888888,\"#fdca26\"],[1.0,\"#f0f921\"]]}],\"surface\":[{\"type\":\"surface\",\"colorbar\":{\"outlinewidth\":0,\"ticks\":\"\"},\"colorscale\":[[0.0,\"#0d0887\"],[0.1111111111111111,\"#46039f\"],[0.2222222222222222,\"#7201a8\"],[0.3333333333333333,\"#9c179e\"],[0.4444444444444444,\"#bd3786\"],[0.5555555555555556,\"#d8576b\"],[0.6666666666666666,\"#ed7953\"],[0.7777777777777778,\"#fb9f3a\"],[0.8888888888888888,\"#fdca26\"],[1.0,\"#f0f921\"]]}],\"mesh3d\":[{\"type\":\"mesh3d\",\"colorbar\":{\"outlinewidth\":0,\"ticks\":\"\"}}],\"scatter\":[{\"fillpattern\":{\"fillmode\":\"overlay\",\"size\":10,\"solidity\":0.2},\"type\":\"scatter\"}],\"parcoords\":[{\"type\":\"parcoords\",\"line\":{\"colorbar\":{\"outlinewidth\":0,\"ticks\":\"\"}}}],\"scatterpolargl\":[{\"type\":\"scatterpolargl\",\"marker\":{\"colorbar\":{\"outlinewidth\":0,\"ticks\":\"\"}}}],\"bar\":[{\"error_x\":{\"color\":\"#2a3f5f\"},\"error_y\":{\"color\":\"#2a3f5f\"},\"marker\":{\"line\":{\"color\":\"#E5ECF6\",\"width\":0.5},\"pattern\":{\"fillmode\":\"overlay\",\"size\":10,\"solidity\":0.2}},\"type\":\"bar\"}],\"scattergeo\":[{\"type\":\"scattergeo\",\"marker\":{\"colorbar\":{\"outlinewidth\":0,\"ticks\":\"\"}}}],\"scatterpolar\":[{\"type\":\"scatterpolar\",\"marker\":{\"colorbar\":{\"outlinewidth\":0,\"ticks\":\"\"}}}],\"histogram\":[{\"marker\":{\"pattern\":{\"fillmode\":\"overlay\",\"size\":10,\"solidity\":0.2}},\"type\":\"histogram\"}],\"scattergl\":[{\"type\":\"scattergl\",\"marker\":{\"colorbar\":{\"outlinewidth\":0,\"ticks\":\"\"}}}],\"scatter3d\":[{\"type\":\"scatter3d\",\"line\":{\"colorbar\":{\"outlinewidth\":0,\"ticks\":\"\"}},\"marker\":{\"colorbar\":{\"outlinewidth\":0,\"ticks\":\"\"}}}],\"scattermapbox\":[{\"type\":\"scattermapbox\",\"marker\":{\"colorbar\":{\"outlinewidth\":0,\"ticks\":\"\"}}}],\"scatterternary\":[{\"type\":\"scatterternary\",\"marker\":{\"colorbar\":{\"outlinewidth\":0,\"ticks\":\"\"}}}],\"scattercarpet\":[{\"type\":\"scattercarpet\",\"marker\":{\"colorbar\":{\"outlinewidth\":0,\"ticks\":\"\"}}}],\"carpet\":[{\"aaxis\":{\"endlinecolor\":\"#2a3f5f\",\"gridcolor\":\"white\",\"linecolor\":\"white\",\"minorgridcolor\":\"white\",\"startlinecolor\":\"#2a3f5f\"},\"baxis\":{\"endlinecolor\":\"#2a3f5f\",\"gridcolor\":\"white\",\"linecolor\":\"white\",\"minorgridcolor\":\"white\",\"startlinecolor\":\"#2a3f5f\"},\"type\":\"carpet\"}],\"table\":[{\"cells\":{\"fill\":{\"color\":\"#EBF0F8\"},\"line\":{\"color\":\"white\"}},\"header\":{\"fill\":{\"color\":\"#C8D4E3\"},\"line\":{\"color\":\"white\"}},\"type\":\"table\"}],\"barpolar\":[{\"marker\":{\"line\":{\"color\":\"#E5ECF6\",\"width\":0.5},\"pattern\":{\"fillmode\":\"overlay\",\"size\":10,\"solidity\":0.2}},\"type\":\"barpolar\"}],\"pie\":[{\"automargin\":true,\"type\":\"pie\"}]},\"layout\":{\"autotypenumbers\":\"strict\",\"colorway\":[\"#636efa\",\"#EF553B\",\"#00cc96\",\"#ab63fa\",\"#FFA15A\",\"#19d3f3\",\"#FF6692\",\"#B6E880\",\"#FF97FF\",\"#FECB52\"],\"font\":{\"color\":\"#2a3f5f\"},\"hovermode\":\"closest\",\"hoverlabel\":{\"align\":\"left\"},\"paper_bgcolor\":\"white\",\"plot_bgcolor\":\"#E5ECF6\",\"polar\":{\"bgcolor\":\"#E5ECF6\",\"angularaxis\":{\"gridcolor\":\"white\",\"linecolor\":\"white\",\"ticks\":\"\"},\"radialaxis\":{\"gridcolor\":\"white\",\"linecolor\":\"white\",\"ticks\":\"\"}},\"ternary\":{\"bgcolor\":\"#E5ECF6\",\"aaxis\":{\"gridcolor\":\"white\",\"linecolor\":\"white\",\"ticks\":\"\"},\"baxis\":{\"gridcolor\":\"white\",\"linecolor\":\"white\",\"ticks\":\"\"},\"caxis\":{\"gridcolor\":\"white\",\"linecolor\":\"white\",\"ticks\":\"\"}},\"coloraxis\":{\"colorbar\":{\"outlinewidth\":0,\"ticks\":\"\"}},\"colorscale\":{\"sequential\":[[0.0,\"#0d0887\"],[0.1111111111111111,\"#46039f\"],[0.2222222222222222,\"#7201a8\"],[0.3333333333333333,\"#9c179e\"],[0.4444444444444444,\"#bd3786\"],[0.5555555555555556,\"#d8576b\"],[0.6666666666666666,\"#ed7953\"],[0.7777777777777778,\"#fb9f3a\"],[0.8888888888888888,\"#fdca26\"],[1.0,\"#f0f921\"]],\"sequentialminus\":[[0.0,\"#0d0887\"],[0.1111111111111111,\"#46039f\"],[0.2222222222222222,\"#7201a8\"],[0.3333333333333333,\"#9c179e\"],[0.4444444444444444,\"#bd3786\"],[0.5555555555555556,\"#d8576b\"],[0.6666666666666666,\"#ed7953\"],[0.7777777777777778,\"#fb9f3a\"],[0.8888888888888888,\"#fdca26\"],[1.0,\"#f0f921\"]],\"diverging\":[[0,\"#8e0152\"],[0.1,\"#c51b7d\"],[0.2,\"#de77ae\"],[0.3,\"#f1b6da\"],[0.4,\"#fde0ef\"],[0.5,\"#f7f7f7\"],[0.6,\"#e6f5d0\"],[0.7,\"#b8e186\"],[0.8,\"#7fbc41\"],[0.9,\"#4d9221\"],[1,\"#276419\"]]},\"xaxis\":{\"gridcolor\":\"white\",\"linecolor\":\"white\",\"ticks\":\"\",\"title\":{\"standoff\":15},\"zerolinecolor\":\"white\",\"automargin\":true,\"zerolinewidth\":2},\"yaxis\":{\"gridcolor\":\"white\",\"linecolor\":\"white\",\"ticks\":\"\",\"title\":{\"standoff\":15},\"zerolinecolor\":\"white\",\"automargin\":true,\"zerolinewidth\":2},\"scene\":{\"xaxis\":{\"backgroundcolor\":\"#E5ECF6\",\"gridcolor\":\"white\",\"linecolor\":\"white\",\"showbackground\":true,\"ticks\":\"\",\"zerolinecolor\":\"white\",\"gridwidth\":2},\"yaxis\":{\"backgroundcolor\":\"#E5ECF6\",\"gridcolor\":\"white\",\"linecolor\":\"white\",\"showbackground\":true,\"ticks\":\"\",\"zerolinecolor\":\"white\",\"gridwidth\":2},\"zaxis\":{\"backgroundcolor\":\"#E5ECF6\",\"gridcolor\":\"white\",\"linecolor\":\"white\",\"showbackground\":true,\"ticks\":\"\",\"zerolinecolor\":\"white\",\"gridwidth\":2}},\"shapedefaults\":{\"line\":{\"color\":\"#2a3f5f\"}},\"annotationdefaults\":{\"arrowcolor\":\"#2a3f5f\",\"arrowhead\":0,\"arrowwidth\":1},\"geo\":{\"bgcolor\":\"white\",\"landcolor\":\"#E5ECF6\",\"subunitcolor\":\"white\",\"showland\":true,\"showlakes\":true,\"lakecolor\":\"white\"},\"title\":{\"x\":0.05},\"mapbox\":{\"style\":\"light\"}}},\"xaxis\":{\"anchor\":\"y\",\"domain\":[0.0,1.0],\"title\":{\"text\":\"x\"}},\"yaxis\":{\"anchor\":\"x\",\"domain\":[0.0,1.0],\"title\":{\"text\":\"y\"}},\"legend\":{\"title\":{\"text\":\"color\"},\"tracegroupgap\":0},\"margin\":{\"t\":60},\"barmode\":\"relative\",\"height\":400,\"width\":1000,\"showlegend\":false},                        {\"responsive\": true}                    ).then(function(){\n",
              "                            \n",
              "var gd = document.getElementById('59b4fc62-f2ae-4fb4-b40b-b8f2a371b3b4');\n",
              "var x = new MutationObserver(function (mutations, observer) {{\n",
              "        var display = window.getComputedStyle(gd).display;\n",
              "        if (!display || display === 'none') {{\n",
              "            console.log([gd, 'removed!']);\n",
              "            Plotly.purge(gd);\n",
              "            observer.disconnect();\n",
              "        }}\n",
              "}});\n",
              "\n",
              "// Listen for the removal of the full notebook cells\n",
              "var notebookContainer = gd.closest('#notebook-container');\n",
              "if (notebookContainer) {{\n",
              "    x.observe(notebookContainer, {childList: true});\n",
              "}}\n",
              "\n",
              "// Listen for the clearing of the current output cell\n",
              "var outputEl = gd.closest('.output');\n",
              "if (outputEl) {{\n",
              "    x.observe(outputEl, {childList: true});\n",
              "}}\n",
              "\n",
              "                        })                };                            </script>        </div>\n",
              "</body>\n",
              "</html>"
            ]
          },
          "metadata": {}
        }
      ]
    },
    {
      "cell_type": "markdown",
      "source": [
        "Intution by Job role :\n",
        "1. By analysing the data the highest convertion rate to customers is Student catogery.\n",
        "2. The most contacted job role by the company is blue collar and the response from them was least when compared to other roles.\n",
        "3. Top 3 prefered job role with high convertion rate is Students, Retired, Unemployed"
      ],
      "metadata": {
        "id": "xm21RpGiRDpK"
      }
    },
    {
      "cell_type": "code",
      "source": [
        "#Marital status vs Outcome\n",
        "maritual_status_vs_outcome = pd.crosstab(customer_data[\"marital\"], customer_data[\"y\"])\n",
        "maritual_status_vs_outcome[\"Convertion Rate in percent\"] = round((maritual_status_vs_outcome[\"yes\"]/(maritual_status_vs_outcome[\"yes\"]+maritual_status_vs_outcome[\"no\"]))*100, 2)\n",
        "maritual_status_vs_outcome = maritual_status_vs_outcome.sort_values(\"Convertion Rate in percent\", ascending = False)\n",
        "maritual_status_vs_outcome\n",
        "\n",
        "#plot the figure\n",
        "fig_marital = px.bar(x = maritual_status_vs_outcome.index, y =maritual_status_vs_outcome[\"Convertion Rate in percent\"].tolist(), color = maritual_status_vs_outcome.index,width=500, height=400)\n",
        "fig_marital.update_layout(showlegend=False)\n"
      ],
      "metadata": {
        "colab": {
          "base_uri": "https://localhost:8080/",
          "height": 417
        },
        "id": "RKwf7yktR2cX",
        "outputId": "8c4cf3f4-559b-43d0-9a1b-e6b9e54c3417"
      },
      "execution_count": 29,
      "outputs": [
        {
          "output_type": "display_data",
          "data": {
            "text/html": [
              "<html>\n",
              "<head><meta charset=\"utf-8\" /></head>\n",
              "<body>\n",
              "    <div>            <script src=\"https://cdnjs.cloudflare.com/ajax/libs/mathjax/2.7.5/MathJax.js?config=TeX-AMS-MML_SVG\"></script><script type=\"text/javascript\">if (window.MathJax && window.MathJax.Hub && window.MathJax.Hub.Config) {window.MathJax.Hub.Config({SVG: {font: \"STIX-Web\"}});}</script>                <script type=\"text/javascript\">window.PlotlyConfig = {MathJaxConfig: 'local'};</script>\n",
              "        <script charset=\"utf-8\" src=\"https://cdn.plot.ly/plotly-2.24.1.min.js\"></script>                <div id=\"7ffc95a1-971e-41b8-8650-ca31b740e300\" class=\"plotly-graph-div\" style=\"height:400px; width:500px;\"></div>            <script type=\"text/javascript\">                                    window.PLOTLYENV=window.PLOTLYENV || {};                                    if (document.getElementById(\"7ffc95a1-971e-41b8-8650-ca31b740e300\")) {                    Plotly.newPlot(                        \"7ffc95a1-971e-41b8-8650-ca31b740e300\",                        [{\"alignmentgroup\":\"True\",\"hovertemplate\":\"color=single\\u003cbr\\u003ex=%{x}\\u003cbr\\u003ey=%{y}\\u003cextra\\u003e\\u003c\\u002fextra\\u003e\",\"legendgroup\":\"single\",\"marker\":{\"color\":\"#636efa\",\"pattern\":{\"shape\":\"\"}},\"name\":\"single\",\"offsetgroup\":\"single\",\"orientation\":\"v\",\"showlegend\":true,\"textposition\":\"auto\",\"x\":[\"single\"],\"xaxis\":\"x\",\"y\":[14.95],\"yaxis\":\"y\",\"type\":\"bar\"},{\"alignmentgroup\":\"True\",\"hovertemplate\":\"color=divorced\\u003cbr\\u003ex=%{x}\\u003cbr\\u003ey=%{y}\\u003cextra\\u003e\\u003c\\u002fextra\\u003e\",\"legendgroup\":\"divorced\",\"marker\":{\"color\":\"#EF553B\",\"pattern\":{\"shape\":\"\"}},\"name\":\"divorced\",\"offsetgroup\":\"divorced\",\"orientation\":\"v\",\"showlegend\":true,\"textposition\":\"auto\",\"x\":[\"divorced\"],\"xaxis\":\"x\",\"y\":[11.95],\"yaxis\":\"y\",\"type\":\"bar\"},{\"alignmentgroup\":\"True\",\"hovertemplate\":\"color=married\\u003cbr\\u003ex=%{x}\\u003cbr\\u003ey=%{y}\\u003cextra\\u003e\\u003c\\u002fextra\\u003e\",\"legendgroup\":\"married\",\"marker\":{\"color\":\"#00cc96\",\"pattern\":{\"shape\":\"\"}},\"name\":\"married\",\"offsetgroup\":\"married\",\"orientation\":\"v\",\"showlegend\":true,\"textposition\":\"auto\",\"x\":[\"married\"],\"xaxis\":\"x\",\"y\":[10.12],\"yaxis\":\"y\",\"type\":\"bar\"}],                        {\"template\":{\"data\":{\"histogram2dcontour\":[{\"type\":\"histogram2dcontour\",\"colorbar\":{\"outlinewidth\":0,\"ticks\":\"\"},\"colorscale\":[[0.0,\"#0d0887\"],[0.1111111111111111,\"#46039f\"],[0.2222222222222222,\"#7201a8\"],[0.3333333333333333,\"#9c179e\"],[0.4444444444444444,\"#bd3786\"],[0.5555555555555556,\"#d8576b\"],[0.6666666666666666,\"#ed7953\"],[0.7777777777777778,\"#fb9f3a\"],[0.8888888888888888,\"#fdca26\"],[1.0,\"#f0f921\"]]}],\"choropleth\":[{\"type\":\"choropleth\",\"colorbar\":{\"outlinewidth\":0,\"ticks\":\"\"}}],\"histogram2d\":[{\"type\":\"histogram2d\",\"colorbar\":{\"outlinewidth\":0,\"ticks\":\"\"},\"colorscale\":[[0.0,\"#0d0887\"],[0.1111111111111111,\"#46039f\"],[0.2222222222222222,\"#7201a8\"],[0.3333333333333333,\"#9c179e\"],[0.4444444444444444,\"#bd3786\"],[0.5555555555555556,\"#d8576b\"],[0.6666666666666666,\"#ed7953\"],[0.7777777777777778,\"#fb9f3a\"],[0.8888888888888888,\"#fdca26\"],[1.0,\"#f0f921\"]]}],\"heatmap\":[{\"type\":\"heatmap\",\"colorbar\":{\"outlinewidth\":0,\"ticks\":\"\"},\"colorscale\":[[0.0,\"#0d0887\"],[0.1111111111111111,\"#46039f\"],[0.2222222222222222,\"#7201a8\"],[0.3333333333333333,\"#9c179e\"],[0.4444444444444444,\"#bd3786\"],[0.5555555555555556,\"#d8576b\"],[0.6666666666666666,\"#ed7953\"],[0.7777777777777778,\"#fb9f3a\"],[0.8888888888888888,\"#fdca26\"],[1.0,\"#f0f921\"]]}],\"heatmapgl\":[{\"type\":\"heatmapgl\",\"colorbar\":{\"outlinewidth\":0,\"ticks\":\"\"},\"colorscale\":[[0.0,\"#0d0887\"],[0.1111111111111111,\"#46039f\"],[0.2222222222222222,\"#7201a8\"],[0.3333333333333333,\"#9c179e\"],[0.4444444444444444,\"#bd3786\"],[0.5555555555555556,\"#d8576b\"],[0.6666666666666666,\"#ed7953\"],[0.7777777777777778,\"#fb9f3a\"],[0.8888888888888888,\"#fdca26\"],[1.0,\"#f0f921\"]]}],\"contourcarpet\":[{\"type\":\"contourcarpet\",\"colorbar\":{\"outlinewidth\":0,\"ticks\":\"\"}}],\"contour\":[{\"type\":\"contour\",\"colorbar\":{\"outlinewidth\":0,\"ticks\":\"\"},\"colorscale\":[[0.0,\"#0d0887\"],[0.1111111111111111,\"#46039f\"],[0.2222222222222222,\"#7201a8\"],[0.3333333333333333,\"#9c179e\"],[0.4444444444444444,\"#bd3786\"],[0.5555555555555556,\"#d8576b\"],[0.6666666666666666,\"#ed7953\"],[0.7777777777777778,\"#fb9f3a\"],[0.8888888888888888,\"#fdca26\"],[1.0,\"#f0f921\"]]}],\"surface\":[{\"type\":\"surface\",\"colorbar\":{\"outlinewidth\":0,\"ticks\":\"\"},\"colorscale\":[[0.0,\"#0d0887\"],[0.1111111111111111,\"#46039f\"],[0.2222222222222222,\"#7201a8\"],[0.3333333333333333,\"#9c179e\"],[0.4444444444444444,\"#bd3786\"],[0.5555555555555556,\"#d8576b\"],[0.6666666666666666,\"#ed7953\"],[0.7777777777777778,\"#fb9f3a\"],[0.8888888888888888,\"#fdca26\"],[1.0,\"#f0f921\"]]}],\"mesh3d\":[{\"type\":\"mesh3d\",\"colorbar\":{\"outlinewidth\":0,\"ticks\":\"\"}}],\"scatter\":[{\"fillpattern\":{\"fillmode\":\"overlay\",\"size\":10,\"solidity\":0.2},\"type\":\"scatter\"}],\"parcoords\":[{\"type\":\"parcoords\",\"line\":{\"colorbar\":{\"outlinewidth\":0,\"ticks\":\"\"}}}],\"scatterpolargl\":[{\"type\":\"scatterpolargl\",\"marker\":{\"colorbar\":{\"outlinewidth\":0,\"ticks\":\"\"}}}],\"bar\":[{\"error_x\":{\"color\":\"#2a3f5f\"},\"error_y\":{\"color\":\"#2a3f5f\"},\"marker\":{\"line\":{\"color\":\"#E5ECF6\",\"width\":0.5},\"pattern\":{\"fillmode\":\"overlay\",\"size\":10,\"solidity\":0.2}},\"type\":\"bar\"}],\"scattergeo\":[{\"type\":\"scattergeo\",\"marker\":{\"colorbar\":{\"outlinewidth\":0,\"ticks\":\"\"}}}],\"scatterpolar\":[{\"type\":\"scatterpolar\",\"marker\":{\"colorbar\":{\"outlinewidth\":0,\"ticks\":\"\"}}}],\"histogram\":[{\"marker\":{\"pattern\":{\"fillmode\":\"overlay\",\"size\":10,\"solidity\":0.2}},\"type\":\"histogram\"}],\"scattergl\":[{\"type\":\"scattergl\",\"marker\":{\"colorbar\":{\"outlinewidth\":0,\"ticks\":\"\"}}}],\"scatter3d\":[{\"type\":\"scatter3d\",\"line\":{\"colorbar\":{\"outlinewidth\":0,\"ticks\":\"\"}},\"marker\":{\"colorbar\":{\"outlinewidth\":0,\"ticks\":\"\"}}}],\"scattermapbox\":[{\"type\":\"scattermapbox\",\"marker\":{\"colorbar\":{\"outlinewidth\":0,\"ticks\":\"\"}}}],\"scatterternary\":[{\"type\":\"scatterternary\",\"marker\":{\"colorbar\":{\"outlinewidth\":0,\"ticks\":\"\"}}}],\"scattercarpet\":[{\"type\":\"scattercarpet\",\"marker\":{\"colorbar\":{\"outlinewidth\":0,\"ticks\":\"\"}}}],\"carpet\":[{\"aaxis\":{\"endlinecolor\":\"#2a3f5f\",\"gridcolor\":\"white\",\"linecolor\":\"white\",\"minorgridcolor\":\"white\",\"startlinecolor\":\"#2a3f5f\"},\"baxis\":{\"endlinecolor\":\"#2a3f5f\",\"gridcolor\":\"white\",\"linecolor\":\"white\",\"minorgridcolor\":\"white\",\"startlinecolor\":\"#2a3f5f\"},\"type\":\"carpet\"}],\"table\":[{\"cells\":{\"fill\":{\"color\":\"#EBF0F8\"},\"line\":{\"color\":\"white\"}},\"header\":{\"fill\":{\"color\":\"#C8D4E3\"},\"line\":{\"color\":\"white\"}},\"type\":\"table\"}],\"barpolar\":[{\"marker\":{\"line\":{\"color\":\"#E5ECF6\",\"width\":0.5},\"pattern\":{\"fillmode\":\"overlay\",\"size\":10,\"solidity\":0.2}},\"type\":\"barpolar\"}],\"pie\":[{\"automargin\":true,\"type\":\"pie\"}]},\"layout\":{\"autotypenumbers\":\"strict\",\"colorway\":[\"#636efa\",\"#EF553B\",\"#00cc96\",\"#ab63fa\",\"#FFA15A\",\"#19d3f3\",\"#FF6692\",\"#B6E880\",\"#FF97FF\",\"#FECB52\"],\"font\":{\"color\":\"#2a3f5f\"},\"hovermode\":\"closest\",\"hoverlabel\":{\"align\":\"left\"},\"paper_bgcolor\":\"white\",\"plot_bgcolor\":\"#E5ECF6\",\"polar\":{\"bgcolor\":\"#E5ECF6\",\"angularaxis\":{\"gridcolor\":\"white\",\"linecolor\":\"white\",\"ticks\":\"\"},\"radialaxis\":{\"gridcolor\":\"white\",\"linecolor\":\"white\",\"ticks\":\"\"}},\"ternary\":{\"bgcolor\":\"#E5ECF6\",\"aaxis\":{\"gridcolor\":\"white\",\"linecolor\":\"white\",\"ticks\":\"\"},\"baxis\":{\"gridcolor\":\"white\",\"linecolor\":\"white\",\"ticks\":\"\"},\"caxis\":{\"gridcolor\":\"white\",\"linecolor\":\"white\",\"ticks\":\"\"}},\"coloraxis\":{\"colorbar\":{\"outlinewidth\":0,\"ticks\":\"\"}},\"colorscale\":{\"sequential\":[[0.0,\"#0d0887\"],[0.1111111111111111,\"#46039f\"],[0.2222222222222222,\"#7201a8\"],[0.3333333333333333,\"#9c179e\"],[0.4444444444444444,\"#bd3786\"],[0.5555555555555556,\"#d8576b\"],[0.6666666666666666,\"#ed7953\"],[0.7777777777777778,\"#fb9f3a\"],[0.8888888888888888,\"#fdca26\"],[1.0,\"#f0f921\"]],\"sequentialminus\":[[0.0,\"#0d0887\"],[0.1111111111111111,\"#46039f\"],[0.2222222222222222,\"#7201a8\"],[0.3333333333333333,\"#9c179e\"],[0.4444444444444444,\"#bd3786\"],[0.5555555555555556,\"#d8576b\"],[0.6666666666666666,\"#ed7953\"],[0.7777777777777778,\"#fb9f3a\"],[0.8888888888888888,\"#fdca26\"],[1.0,\"#f0f921\"]],\"diverging\":[[0,\"#8e0152\"],[0.1,\"#c51b7d\"],[0.2,\"#de77ae\"],[0.3,\"#f1b6da\"],[0.4,\"#fde0ef\"],[0.5,\"#f7f7f7\"],[0.6,\"#e6f5d0\"],[0.7,\"#b8e186\"],[0.8,\"#7fbc41\"],[0.9,\"#4d9221\"],[1,\"#276419\"]]},\"xaxis\":{\"gridcolor\":\"white\",\"linecolor\":\"white\",\"ticks\":\"\",\"title\":{\"standoff\":15},\"zerolinecolor\":\"white\",\"automargin\":true,\"zerolinewidth\":2},\"yaxis\":{\"gridcolor\":\"white\",\"linecolor\":\"white\",\"ticks\":\"\",\"title\":{\"standoff\":15},\"zerolinecolor\":\"white\",\"automargin\":true,\"zerolinewidth\":2},\"scene\":{\"xaxis\":{\"backgroundcolor\":\"#E5ECF6\",\"gridcolor\":\"white\",\"linecolor\":\"white\",\"showbackground\":true,\"ticks\":\"\",\"zerolinecolor\":\"white\",\"gridwidth\":2},\"yaxis\":{\"backgroundcolor\":\"#E5ECF6\",\"gridcolor\":\"white\",\"linecolor\":\"white\",\"showbackground\":true,\"ticks\":\"\",\"zerolinecolor\":\"white\",\"gridwidth\":2},\"zaxis\":{\"backgroundcolor\":\"#E5ECF6\",\"gridcolor\":\"white\",\"linecolor\":\"white\",\"showbackground\":true,\"ticks\":\"\",\"zerolinecolor\":\"white\",\"gridwidth\":2}},\"shapedefaults\":{\"line\":{\"color\":\"#2a3f5f\"}},\"annotationdefaults\":{\"arrowcolor\":\"#2a3f5f\",\"arrowhead\":0,\"arrowwidth\":1},\"geo\":{\"bgcolor\":\"white\",\"landcolor\":\"#E5ECF6\",\"subunitcolor\":\"white\",\"showland\":true,\"showlakes\":true,\"lakecolor\":\"white\"},\"title\":{\"x\":0.05},\"mapbox\":{\"style\":\"light\"}}},\"xaxis\":{\"anchor\":\"y\",\"domain\":[0.0,1.0],\"title\":{\"text\":\"x\"}},\"yaxis\":{\"anchor\":\"x\",\"domain\":[0.0,1.0],\"title\":{\"text\":\"y\"}},\"legend\":{\"title\":{\"text\":\"color\"},\"tracegroupgap\":0},\"margin\":{\"t\":60},\"barmode\":\"relative\",\"height\":400,\"width\":500,\"showlegend\":false},                        {\"responsive\": true}                    ).then(function(){\n",
              "                            \n",
              "var gd = document.getElementById('7ffc95a1-971e-41b8-8650-ca31b740e300');\n",
              "var x = new MutationObserver(function (mutations, observer) {{\n",
              "        var display = window.getComputedStyle(gd).display;\n",
              "        if (!display || display === 'none') {{\n",
              "            console.log([gd, 'removed!']);\n",
              "            Plotly.purge(gd);\n",
              "            observer.disconnect();\n",
              "        }}\n",
              "}});\n",
              "\n",
              "// Listen for the removal of the full notebook cells\n",
              "var notebookContainer = gd.closest('#notebook-container');\n",
              "if (notebookContainer) {{\n",
              "    x.observe(notebookContainer, {childList: true});\n",
              "}}\n",
              "\n",
              "// Listen for the clearing of the current output cell\n",
              "var outputEl = gd.closest('.output');\n",
              "if (outputEl) {{\n",
              "    x.observe(outputEl, {childList: true});\n",
              "}}\n",
              "\n",
              "                        })                };                            </script>        </div>\n",
              "</body>\n",
              "</html>"
            ]
          },
          "metadata": {}
        }
      ]
    },
    {
      "cell_type": "markdown",
      "source": [
        "Intution by Marital status :\n",
        "\n",
        "Highest convertion rate of the customers with respect to the marital states is Single"
      ],
      "metadata": {
        "id": "APzZRK7TShzM"
      }
    },
    {
      "cell_type": "code",
      "source": [
        "#Educational Qualification vs Outcome\n",
        "education_vs_outcome = pd.crosstab(customer_data[\"education_qual\"], customer_data[\"y\"])\n",
        "education_vs_outcome[\"Convertion Rate in percent\"] = round(education_vs_outcome[\"yes\"]/(education_vs_outcome[\"yes\"]+education_vs_outcome[\"no\"])*100, 2)\n",
        "education_vs_outcome = education_vs_outcome.sort_values(\"Convertion Rate in percent\", ascending = False)\n",
        "education_vs_outcome\n",
        "\n",
        "#plot the figure\n",
        "fig_education = px.bar(x = education_vs_outcome.index, y =education_vs_outcome[\"Convertion Rate in percent\"].tolist(), color = education_vs_outcome.index,width=600, height=400)\n",
        "fig_education.update_layout(showlegend=False)"
      ],
      "metadata": {
        "colab": {
          "base_uri": "https://localhost:8080/",
          "height": 417
        },
        "id": "_UESGtIsSJdH",
        "outputId": "55703be9-b6cd-4d1e-9da4-f716053d89e2"
      },
      "execution_count": 31,
      "outputs": [
        {
          "output_type": "display_data",
          "data": {
            "text/html": [
              "<html>\n",
              "<head><meta charset=\"utf-8\" /></head>\n",
              "<body>\n",
              "    <div>            <script src=\"https://cdnjs.cloudflare.com/ajax/libs/mathjax/2.7.5/MathJax.js?config=TeX-AMS-MML_SVG\"></script><script type=\"text/javascript\">if (window.MathJax && window.MathJax.Hub && window.MathJax.Hub.Config) {window.MathJax.Hub.Config({SVG: {font: \"STIX-Web\"}});}</script>                <script type=\"text/javascript\">window.PlotlyConfig = {MathJaxConfig: 'local'};</script>\n",
              "        <script charset=\"utf-8\" src=\"https://cdn.plot.ly/plotly-2.24.1.min.js\"></script>                <div id=\"bef43bee-6ee5-4cd7-8257-56896705b574\" class=\"plotly-graph-div\" style=\"height:400px; width:600px;\"></div>            <script type=\"text/javascript\">                                    window.PLOTLYENV=window.PLOTLYENV || {};                                    if (document.getElementById(\"bef43bee-6ee5-4cd7-8257-56896705b574\")) {                    Plotly.newPlot(                        \"bef43bee-6ee5-4cd7-8257-56896705b574\",                        [{\"alignmentgroup\":\"True\",\"hovertemplate\":\"color=tertiary\\u003cbr\\u003ex=%{x}\\u003cbr\\u003ey=%{y}\\u003cextra\\u003e\\u003c\\u002fextra\\u003e\",\"legendgroup\":\"tertiary\",\"marker\":{\"color\":\"#636efa\",\"pattern\":{\"shape\":\"\"}},\"name\":\"tertiary\",\"offsetgroup\":\"tertiary\",\"orientation\":\"v\",\"showlegend\":true,\"textposition\":\"auto\",\"x\":[\"tertiary\"],\"xaxis\":\"x\",\"y\":[15.01],\"yaxis\":\"y\",\"type\":\"bar\"},{\"alignmentgroup\":\"True\",\"hovertemplate\":\"color=unknown\\u003cbr\\u003ex=%{x}\\u003cbr\\u003ey=%{y}\\u003cextra\\u003e\\u003c\\u002fextra\\u003e\",\"legendgroup\":\"unknown\",\"marker\":{\"color\":\"#EF553B\",\"pattern\":{\"shape\":\"\"}},\"name\":\"unknown\",\"offsetgroup\":\"unknown\",\"orientation\":\"v\",\"showlegend\":true,\"textposition\":\"auto\",\"x\":[\"unknown\"],\"xaxis\":\"x\",\"y\":[13.57],\"yaxis\":\"y\",\"type\":\"bar\"},{\"alignmentgroup\":\"True\",\"hovertemplate\":\"color=secondary\\u003cbr\\u003ex=%{x}\\u003cbr\\u003ey=%{y}\\u003cextra\\u003e\\u003c\\u002fextra\\u003e\",\"legendgroup\":\"secondary\",\"marker\":{\"color\":\"#00cc96\",\"pattern\":{\"shape\":\"\"}},\"name\":\"secondary\",\"offsetgroup\":\"secondary\",\"orientation\":\"v\",\"showlegend\":true,\"textposition\":\"auto\",\"x\":[\"secondary\"],\"xaxis\":\"x\",\"y\":[10.56],\"yaxis\":\"y\",\"type\":\"bar\"},{\"alignmentgroup\":\"True\",\"hovertemplate\":\"color=primary\\u003cbr\\u003ex=%{x}\\u003cbr\\u003ey=%{y}\\u003cextra\\u003e\\u003c\\u002fextra\\u003e\",\"legendgroup\":\"primary\",\"marker\":{\"color\":\"#ab63fa\",\"pattern\":{\"shape\":\"\"}},\"name\":\"primary\",\"offsetgroup\":\"primary\",\"orientation\":\"v\",\"showlegend\":true,\"textposition\":\"auto\",\"x\":[\"primary\"],\"xaxis\":\"x\",\"y\":[8.63],\"yaxis\":\"y\",\"type\":\"bar\"}],                        {\"template\":{\"data\":{\"histogram2dcontour\":[{\"type\":\"histogram2dcontour\",\"colorbar\":{\"outlinewidth\":0,\"ticks\":\"\"},\"colorscale\":[[0.0,\"#0d0887\"],[0.1111111111111111,\"#46039f\"],[0.2222222222222222,\"#7201a8\"],[0.3333333333333333,\"#9c179e\"],[0.4444444444444444,\"#bd3786\"],[0.5555555555555556,\"#d8576b\"],[0.6666666666666666,\"#ed7953\"],[0.7777777777777778,\"#fb9f3a\"],[0.8888888888888888,\"#fdca26\"],[1.0,\"#f0f921\"]]}],\"choropleth\":[{\"type\":\"choropleth\",\"colorbar\":{\"outlinewidth\":0,\"ticks\":\"\"}}],\"histogram2d\":[{\"type\":\"histogram2d\",\"colorbar\":{\"outlinewidth\":0,\"ticks\":\"\"},\"colorscale\":[[0.0,\"#0d0887\"],[0.1111111111111111,\"#46039f\"],[0.2222222222222222,\"#7201a8\"],[0.3333333333333333,\"#9c179e\"],[0.4444444444444444,\"#bd3786\"],[0.5555555555555556,\"#d8576b\"],[0.6666666666666666,\"#ed7953\"],[0.7777777777777778,\"#fb9f3a\"],[0.8888888888888888,\"#fdca26\"],[1.0,\"#f0f921\"]]}],\"heatmap\":[{\"type\":\"heatmap\",\"colorbar\":{\"outlinewidth\":0,\"ticks\":\"\"},\"colorscale\":[[0.0,\"#0d0887\"],[0.1111111111111111,\"#46039f\"],[0.2222222222222222,\"#7201a8\"],[0.3333333333333333,\"#9c179e\"],[0.4444444444444444,\"#bd3786\"],[0.5555555555555556,\"#d8576b\"],[0.6666666666666666,\"#ed7953\"],[0.7777777777777778,\"#fb9f3a\"],[0.8888888888888888,\"#fdca26\"],[1.0,\"#f0f921\"]]}],\"heatmapgl\":[{\"type\":\"heatmapgl\",\"colorbar\":{\"outlinewidth\":0,\"ticks\":\"\"},\"colorscale\":[[0.0,\"#0d0887\"],[0.1111111111111111,\"#46039f\"],[0.2222222222222222,\"#7201a8\"],[0.3333333333333333,\"#9c179e\"],[0.4444444444444444,\"#bd3786\"],[0.5555555555555556,\"#d8576b\"],[0.6666666666666666,\"#ed7953\"],[0.7777777777777778,\"#fb9f3a\"],[0.8888888888888888,\"#fdca26\"],[1.0,\"#f0f921\"]]}],\"contourcarpet\":[{\"type\":\"contourcarpet\",\"colorbar\":{\"outlinewidth\":0,\"ticks\":\"\"}}],\"contour\":[{\"type\":\"contour\",\"colorbar\":{\"outlinewidth\":0,\"ticks\":\"\"},\"colorscale\":[[0.0,\"#0d0887\"],[0.1111111111111111,\"#46039f\"],[0.2222222222222222,\"#7201a8\"],[0.3333333333333333,\"#9c179e\"],[0.4444444444444444,\"#bd3786\"],[0.5555555555555556,\"#d8576b\"],[0.6666666666666666,\"#ed7953\"],[0.7777777777777778,\"#fb9f3a\"],[0.8888888888888888,\"#fdca26\"],[1.0,\"#f0f921\"]]}],\"surface\":[{\"type\":\"surface\",\"colorbar\":{\"outlinewidth\":0,\"ticks\":\"\"},\"colorscale\":[[0.0,\"#0d0887\"],[0.1111111111111111,\"#46039f\"],[0.2222222222222222,\"#7201a8\"],[0.3333333333333333,\"#9c179e\"],[0.4444444444444444,\"#bd3786\"],[0.5555555555555556,\"#d8576b\"],[0.6666666666666666,\"#ed7953\"],[0.7777777777777778,\"#fb9f3a\"],[0.8888888888888888,\"#fdca26\"],[1.0,\"#f0f921\"]]}],\"mesh3d\":[{\"type\":\"mesh3d\",\"colorbar\":{\"outlinewidth\":0,\"ticks\":\"\"}}],\"scatter\":[{\"fillpattern\":{\"fillmode\":\"overlay\",\"size\":10,\"solidity\":0.2},\"type\":\"scatter\"}],\"parcoords\":[{\"type\":\"parcoords\",\"line\":{\"colorbar\":{\"outlinewidth\":0,\"ticks\":\"\"}}}],\"scatterpolargl\":[{\"type\":\"scatterpolargl\",\"marker\":{\"colorbar\":{\"outlinewidth\":0,\"ticks\":\"\"}}}],\"bar\":[{\"error_x\":{\"color\":\"#2a3f5f\"},\"error_y\":{\"color\":\"#2a3f5f\"},\"marker\":{\"line\":{\"color\":\"#E5ECF6\",\"width\":0.5},\"pattern\":{\"fillmode\":\"overlay\",\"size\":10,\"solidity\":0.2}},\"type\":\"bar\"}],\"scattergeo\":[{\"type\":\"scattergeo\",\"marker\":{\"colorbar\":{\"outlinewidth\":0,\"ticks\":\"\"}}}],\"scatterpolar\":[{\"type\":\"scatterpolar\",\"marker\":{\"colorbar\":{\"outlinewidth\":0,\"ticks\":\"\"}}}],\"histogram\":[{\"marker\":{\"pattern\":{\"fillmode\":\"overlay\",\"size\":10,\"solidity\":0.2}},\"type\":\"histogram\"}],\"scattergl\":[{\"type\":\"scattergl\",\"marker\":{\"colorbar\":{\"outlinewidth\":0,\"ticks\":\"\"}}}],\"scatter3d\":[{\"type\":\"scatter3d\",\"line\":{\"colorbar\":{\"outlinewidth\":0,\"ticks\":\"\"}},\"marker\":{\"colorbar\":{\"outlinewidth\":0,\"ticks\":\"\"}}}],\"scattermapbox\":[{\"type\":\"scattermapbox\",\"marker\":{\"colorbar\":{\"outlinewidth\":0,\"ticks\":\"\"}}}],\"scatterternary\":[{\"type\":\"scatterternary\",\"marker\":{\"colorbar\":{\"outlinewidth\":0,\"ticks\":\"\"}}}],\"scattercarpet\":[{\"type\":\"scattercarpet\",\"marker\":{\"colorbar\":{\"outlinewidth\":0,\"ticks\":\"\"}}}],\"carpet\":[{\"aaxis\":{\"endlinecolor\":\"#2a3f5f\",\"gridcolor\":\"white\",\"linecolor\":\"white\",\"minorgridcolor\":\"white\",\"startlinecolor\":\"#2a3f5f\"},\"baxis\":{\"endlinecolor\":\"#2a3f5f\",\"gridcolor\":\"white\",\"linecolor\":\"white\",\"minorgridcolor\":\"white\",\"startlinecolor\":\"#2a3f5f\"},\"type\":\"carpet\"}],\"table\":[{\"cells\":{\"fill\":{\"color\":\"#EBF0F8\"},\"line\":{\"color\":\"white\"}},\"header\":{\"fill\":{\"color\":\"#C8D4E3\"},\"line\":{\"color\":\"white\"}},\"type\":\"table\"}],\"barpolar\":[{\"marker\":{\"line\":{\"color\":\"#E5ECF6\",\"width\":0.5},\"pattern\":{\"fillmode\":\"overlay\",\"size\":10,\"solidity\":0.2}},\"type\":\"barpolar\"}],\"pie\":[{\"automargin\":true,\"type\":\"pie\"}]},\"layout\":{\"autotypenumbers\":\"strict\",\"colorway\":[\"#636efa\",\"#EF553B\",\"#00cc96\",\"#ab63fa\",\"#FFA15A\",\"#19d3f3\",\"#FF6692\",\"#B6E880\",\"#FF97FF\",\"#FECB52\"],\"font\":{\"color\":\"#2a3f5f\"},\"hovermode\":\"closest\",\"hoverlabel\":{\"align\":\"left\"},\"paper_bgcolor\":\"white\",\"plot_bgcolor\":\"#E5ECF6\",\"polar\":{\"bgcolor\":\"#E5ECF6\",\"angularaxis\":{\"gridcolor\":\"white\",\"linecolor\":\"white\",\"ticks\":\"\"},\"radialaxis\":{\"gridcolor\":\"white\",\"linecolor\":\"white\",\"ticks\":\"\"}},\"ternary\":{\"bgcolor\":\"#E5ECF6\",\"aaxis\":{\"gridcolor\":\"white\",\"linecolor\":\"white\",\"ticks\":\"\"},\"baxis\":{\"gridcolor\":\"white\",\"linecolor\":\"white\",\"ticks\":\"\"},\"caxis\":{\"gridcolor\":\"white\",\"linecolor\":\"white\",\"ticks\":\"\"}},\"coloraxis\":{\"colorbar\":{\"outlinewidth\":0,\"ticks\":\"\"}},\"colorscale\":{\"sequential\":[[0.0,\"#0d0887\"],[0.1111111111111111,\"#46039f\"],[0.2222222222222222,\"#7201a8\"],[0.3333333333333333,\"#9c179e\"],[0.4444444444444444,\"#bd3786\"],[0.5555555555555556,\"#d8576b\"],[0.6666666666666666,\"#ed7953\"],[0.7777777777777778,\"#fb9f3a\"],[0.8888888888888888,\"#fdca26\"],[1.0,\"#f0f921\"]],\"sequentialminus\":[[0.0,\"#0d0887\"],[0.1111111111111111,\"#46039f\"],[0.2222222222222222,\"#7201a8\"],[0.3333333333333333,\"#9c179e\"],[0.4444444444444444,\"#bd3786\"],[0.5555555555555556,\"#d8576b\"],[0.6666666666666666,\"#ed7953\"],[0.7777777777777778,\"#fb9f3a\"],[0.8888888888888888,\"#fdca26\"],[1.0,\"#f0f921\"]],\"diverging\":[[0,\"#8e0152\"],[0.1,\"#c51b7d\"],[0.2,\"#de77ae\"],[0.3,\"#f1b6da\"],[0.4,\"#fde0ef\"],[0.5,\"#f7f7f7\"],[0.6,\"#e6f5d0\"],[0.7,\"#b8e186\"],[0.8,\"#7fbc41\"],[0.9,\"#4d9221\"],[1,\"#276419\"]]},\"xaxis\":{\"gridcolor\":\"white\",\"linecolor\":\"white\",\"ticks\":\"\",\"title\":{\"standoff\":15},\"zerolinecolor\":\"white\",\"automargin\":true,\"zerolinewidth\":2},\"yaxis\":{\"gridcolor\":\"white\",\"linecolor\":\"white\",\"ticks\":\"\",\"title\":{\"standoff\":15},\"zerolinecolor\":\"white\",\"automargin\":true,\"zerolinewidth\":2},\"scene\":{\"xaxis\":{\"backgroundcolor\":\"#E5ECF6\",\"gridcolor\":\"white\",\"linecolor\":\"white\",\"showbackground\":true,\"ticks\":\"\",\"zerolinecolor\":\"white\",\"gridwidth\":2},\"yaxis\":{\"backgroundcolor\":\"#E5ECF6\",\"gridcolor\":\"white\",\"linecolor\":\"white\",\"showbackground\":true,\"ticks\":\"\",\"zerolinecolor\":\"white\",\"gridwidth\":2},\"zaxis\":{\"backgroundcolor\":\"#E5ECF6\",\"gridcolor\":\"white\",\"linecolor\":\"white\",\"showbackground\":true,\"ticks\":\"\",\"zerolinecolor\":\"white\",\"gridwidth\":2}},\"shapedefaults\":{\"line\":{\"color\":\"#2a3f5f\"}},\"annotationdefaults\":{\"arrowcolor\":\"#2a3f5f\",\"arrowhead\":0,\"arrowwidth\":1},\"geo\":{\"bgcolor\":\"white\",\"landcolor\":\"#E5ECF6\",\"subunitcolor\":\"white\",\"showland\":true,\"showlakes\":true,\"lakecolor\":\"white\"},\"title\":{\"x\":0.05},\"mapbox\":{\"style\":\"light\"}}},\"xaxis\":{\"anchor\":\"y\",\"domain\":[0.0,1.0],\"title\":{\"text\":\"x\"}},\"yaxis\":{\"anchor\":\"x\",\"domain\":[0.0,1.0],\"title\":{\"text\":\"y\"}},\"legend\":{\"title\":{\"text\":\"color\"},\"tracegroupgap\":0},\"margin\":{\"t\":60},\"barmode\":\"relative\",\"height\":400,\"width\":600,\"showlegend\":false},                        {\"responsive\": true}                    ).then(function(){\n",
              "                            \n",
              "var gd = document.getElementById('bef43bee-6ee5-4cd7-8257-56896705b574');\n",
              "var x = new MutationObserver(function (mutations, observer) {{\n",
              "        var display = window.getComputedStyle(gd).display;\n",
              "        if (!display || display === 'none') {{\n",
              "            console.log([gd, 'removed!']);\n",
              "            Plotly.purge(gd);\n",
              "            observer.disconnect();\n",
              "        }}\n",
              "}});\n",
              "\n",
              "// Listen for the removal of the full notebook cells\n",
              "var notebookContainer = gd.closest('#notebook-container');\n",
              "if (notebookContainer) {{\n",
              "    x.observe(notebookContainer, {childList: true});\n",
              "}}\n",
              "\n",
              "// Listen for the clearing of the current output cell\n",
              "var outputEl = gd.closest('.output');\n",
              "if (outputEl) {{\n",
              "    x.observe(outputEl, {childList: true});\n",
              "}}\n",
              "\n",
              "                        })                };                            </script>        </div>\n",
              "</body>\n",
              "</html>"
            ]
          },
          "metadata": {}
        }
      ]
    },
    {
      "cell_type": "code",
      "source": [
        "#call_type vs Outcome\n",
        "call_type_vs_outcome = pd.crosstab(customer_data[\"call_type\"], customer_data[\"y\"])\n",
        "call_type_vs_outcome[\"Convertion Rate in percent\"] = round(call_type_vs_outcome[\"yes\"]/(call_type_vs_outcome[\"yes\"]+call_type_vs_outcome[\"no\"])*100, 2)\n",
        "call_type_vs_outcome = call_type_vs_outcome.sort_values(\"Convertion Rate in percent\", ascending = False)\n",
        "call_type_vs_outcome\n",
        "\n",
        "#plot the figure\n",
        "fig_call_type = px.bar(x = call_type_vs_outcome.index, y =call_type_vs_outcome[\"Convertion Rate in percent\"].tolist(), color = call_type_vs_outcome.index,width=500, height=400)\n",
        "fig_call_type.update_layout(showlegend=False)"
      ],
      "metadata": {
        "colab": {
          "base_uri": "https://localhost:8080/",
          "height": 417
        },
        "id": "1zhFR8gETPnu",
        "outputId": "687b0d5c-a193-49de-ced7-22af36cecf9c"
      },
      "execution_count": 32,
      "outputs": [
        {
          "output_type": "display_data",
          "data": {
            "text/html": [
              "<html>\n",
              "<head><meta charset=\"utf-8\" /></head>\n",
              "<body>\n",
              "    <div>            <script src=\"https://cdnjs.cloudflare.com/ajax/libs/mathjax/2.7.5/MathJax.js?config=TeX-AMS-MML_SVG\"></script><script type=\"text/javascript\">if (window.MathJax && window.MathJax.Hub && window.MathJax.Hub.Config) {window.MathJax.Hub.Config({SVG: {font: \"STIX-Web\"}});}</script>                <script type=\"text/javascript\">window.PlotlyConfig = {MathJaxConfig: 'local'};</script>\n",
              "        <script charset=\"utf-8\" src=\"https://cdn.plot.ly/plotly-2.24.1.min.js\"></script>                <div id=\"b1cb8e6f-1ed9-4ad2-b338-dc8f5894deed\" class=\"plotly-graph-div\" style=\"height:400px; width:500px;\"></div>            <script type=\"text/javascript\">                                    window.PLOTLYENV=window.PLOTLYENV || {};                                    if (document.getElementById(\"b1cb8e6f-1ed9-4ad2-b338-dc8f5894deed\")) {                    Plotly.newPlot(                        \"b1cb8e6f-1ed9-4ad2-b338-dc8f5894deed\",                        [{\"alignmentgroup\":\"True\",\"hovertemplate\":\"color=cellular\\u003cbr\\u003ex=%{x}\\u003cbr\\u003ey=%{y}\\u003cextra\\u003e\\u003c\\u002fextra\\u003e\",\"legendgroup\":\"cellular\",\"marker\":{\"color\":\"#636efa\",\"pattern\":{\"shape\":\"\"}},\"name\":\"cellular\",\"offsetgroup\":\"cellular\",\"orientation\":\"v\",\"showlegend\":true,\"textposition\":\"auto\",\"x\":[\"cellular\"],\"xaxis\":\"x\",\"y\":[14.92],\"yaxis\":\"y\",\"type\":\"bar\"},{\"alignmentgroup\":\"True\",\"hovertemplate\":\"color=telephone\\u003cbr\\u003ex=%{x}\\u003cbr\\u003ey=%{y}\\u003cextra\\u003e\\u003c\\u002fextra\\u003e\",\"legendgroup\":\"telephone\",\"marker\":{\"color\":\"#EF553B\",\"pattern\":{\"shape\":\"\"}},\"name\":\"telephone\",\"offsetgroup\":\"telephone\",\"orientation\":\"v\",\"showlegend\":true,\"textposition\":\"auto\",\"x\":[\"telephone\"],\"xaxis\":\"x\",\"y\":[13.42],\"yaxis\":\"y\",\"type\":\"bar\"},{\"alignmentgroup\":\"True\",\"hovertemplate\":\"color=unknown\\u003cbr\\u003ex=%{x}\\u003cbr\\u003ey=%{y}\\u003cextra\\u003e\\u003c\\u002fextra\\u003e\",\"legendgroup\":\"unknown\",\"marker\":{\"color\":\"#00cc96\",\"pattern\":{\"shape\":\"\"}},\"name\":\"unknown\",\"offsetgroup\":\"unknown\",\"orientation\":\"v\",\"showlegend\":true,\"textposition\":\"auto\",\"x\":[\"unknown\"],\"xaxis\":\"x\",\"y\":[4.07],\"yaxis\":\"y\",\"type\":\"bar\"}],                        {\"template\":{\"data\":{\"histogram2dcontour\":[{\"type\":\"histogram2dcontour\",\"colorbar\":{\"outlinewidth\":0,\"ticks\":\"\"},\"colorscale\":[[0.0,\"#0d0887\"],[0.1111111111111111,\"#46039f\"],[0.2222222222222222,\"#7201a8\"],[0.3333333333333333,\"#9c179e\"],[0.4444444444444444,\"#bd3786\"],[0.5555555555555556,\"#d8576b\"],[0.6666666666666666,\"#ed7953\"],[0.7777777777777778,\"#fb9f3a\"],[0.8888888888888888,\"#fdca26\"],[1.0,\"#f0f921\"]]}],\"choropleth\":[{\"type\":\"choropleth\",\"colorbar\":{\"outlinewidth\":0,\"ticks\":\"\"}}],\"histogram2d\":[{\"type\":\"histogram2d\",\"colorbar\":{\"outlinewidth\":0,\"ticks\":\"\"},\"colorscale\":[[0.0,\"#0d0887\"],[0.1111111111111111,\"#46039f\"],[0.2222222222222222,\"#7201a8\"],[0.3333333333333333,\"#9c179e\"],[0.4444444444444444,\"#bd3786\"],[0.5555555555555556,\"#d8576b\"],[0.6666666666666666,\"#ed7953\"],[0.7777777777777778,\"#fb9f3a\"],[0.8888888888888888,\"#fdca26\"],[1.0,\"#f0f921\"]]}],\"heatmap\":[{\"type\":\"heatmap\",\"colorbar\":{\"outlinewidth\":0,\"ticks\":\"\"},\"colorscale\":[[0.0,\"#0d0887\"],[0.1111111111111111,\"#46039f\"],[0.2222222222222222,\"#7201a8\"],[0.3333333333333333,\"#9c179e\"],[0.4444444444444444,\"#bd3786\"],[0.5555555555555556,\"#d8576b\"],[0.6666666666666666,\"#ed7953\"],[0.7777777777777778,\"#fb9f3a\"],[0.8888888888888888,\"#fdca26\"],[1.0,\"#f0f921\"]]}],\"heatmapgl\":[{\"type\":\"heatmapgl\",\"colorbar\":{\"outlinewidth\":0,\"ticks\":\"\"},\"colorscale\":[[0.0,\"#0d0887\"],[0.1111111111111111,\"#46039f\"],[0.2222222222222222,\"#7201a8\"],[0.3333333333333333,\"#9c179e\"],[0.4444444444444444,\"#bd3786\"],[0.5555555555555556,\"#d8576b\"],[0.6666666666666666,\"#ed7953\"],[0.7777777777777778,\"#fb9f3a\"],[0.8888888888888888,\"#fdca26\"],[1.0,\"#f0f921\"]]}],\"contourcarpet\":[{\"type\":\"contourcarpet\",\"colorbar\":{\"outlinewidth\":0,\"ticks\":\"\"}}],\"contour\":[{\"type\":\"contour\",\"colorbar\":{\"outlinewidth\":0,\"ticks\":\"\"},\"colorscale\":[[0.0,\"#0d0887\"],[0.1111111111111111,\"#46039f\"],[0.2222222222222222,\"#7201a8\"],[0.3333333333333333,\"#9c179e\"],[0.4444444444444444,\"#bd3786\"],[0.5555555555555556,\"#d8576b\"],[0.6666666666666666,\"#ed7953\"],[0.7777777777777778,\"#fb9f3a\"],[0.8888888888888888,\"#fdca26\"],[1.0,\"#f0f921\"]]}],\"surface\":[{\"type\":\"surface\",\"colorbar\":{\"outlinewidth\":0,\"ticks\":\"\"},\"colorscale\":[[0.0,\"#0d0887\"],[0.1111111111111111,\"#46039f\"],[0.2222222222222222,\"#7201a8\"],[0.3333333333333333,\"#9c179e\"],[0.4444444444444444,\"#bd3786\"],[0.5555555555555556,\"#d8576b\"],[0.6666666666666666,\"#ed7953\"],[0.7777777777777778,\"#fb9f3a\"],[0.8888888888888888,\"#fdca26\"],[1.0,\"#f0f921\"]]}],\"mesh3d\":[{\"type\":\"mesh3d\",\"colorbar\":{\"outlinewidth\":0,\"ticks\":\"\"}}],\"scatter\":[{\"fillpattern\":{\"fillmode\":\"overlay\",\"size\":10,\"solidity\":0.2},\"type\":\"scatter\"}],\"parcoords\":[{\"type\":\"parcoords\",\"line\":{\"colorbar\":{\"outlinewidth\":0,\"ticks\":\"\"}}}],\"scatterpolargl\":[{\"type\":\"scatterpolargl\",\"marker\":{\"colorbar\":{\"outlinewidth\":0,\"ticks\":\"\"}}}],\"bar\":[{\"error_x\":{\"color\":\"#2a3f5f\"},\"error_y\":{\"color\":\"#2a3f5f\"},\"marker\":{\"line\":{\"color\":\"#E5ECF6\",\"width\":0.5},\"pattern\":{\"fillmode\":\"overlay\",\"size\":10,\"solidity\":0.2}},\"type\":\"bar\"}],\"scattergeo\":[{\"type\":\"scattergeo\",\"marker\":{\"colorbar\":{\"outlinewidth\":0,\"ticks\":\"\"}}}],\"scatterpolar\":[{\"type\":\"scatterpolar\",\"marker\":{\"colorbar\":{\"outlinewidth\":0,\"ticks\":\"\"}}}],\"histogram\":[{\"marker\":{\"pattern\":{\"fillmode\":\"overlay\",\"size\":10,\"solidity\":0.2}},\"type\":\"histogram\"}],\"scattergl\":[{\"type\":\"scattergl\",\"marker\":{\"colorbar\":{\"outlinewidth\":0,\"ticks\":\"\"}}}],\"scatter3d\":[{\"type\":\"scatter3d\",\"line\":{\"colorbar\":{\"outlinewidth\":0,\"ticks\":\"\"}},\"marker\":{\"colorbar\":{\"outlinewidth\":0,\"ticks\":\"\"}}}],\"scattermapbox\":[{\"type\":\"scattermapbox\",\"marker\":{\"colorbar\":{\"outlinewidth\":0,\"ticks\":\"\"}}}],\"scatterternary\":[{\"type\":\"scatterternary\",\"marker\":{\"colorbar\":{\"outlinewidth\":0,\"ticks\":\"\"}}}],\"scattercarpet\":[{\"type\":\"scattercarpet\",\"marker\":{\"colorbar\":{\"outlinewidth\":0,\"ticks\":\"\"}}}],\"carpet\":[{\"aaxis\":{\"endlinecolor\":\"#2a3f5f\",\"gridcolor\":\"white\",\"linecolor\":\"white\",\"minorgridcolor\":\"white\",\"startlinecolor\":\"#2a3f5f\"},\"baxis\":{\"endlinecolor\":\"#2a3f5f\",\"gridcolor\":\"white\",\"linecolor\":\"white\",\"minorgridcolor\":\"white\",\"startlinecolor\":\"#2a3f5f\"},\"type\":\"carpet\"}],\"table\":[{\"cells\":{\"fill\":{\"color\":\"#EBF0F8\"},\"line\":{\"color\":\"white\"}},\"header\":{\"fill\":{\"color\":\"#C8D4E3\"},\"line\":{\"color\":\"white\"}},\"type\":\"table\"}],\"barpolar\":[{\"marker\":{\"line\":{\"color\":\"#E5ECF6\",\"width\":0.5},\"pattern\":{\"fillmode\":\"overlay\",\"size\":10,\"solidity\":0.2}},\"type\":\"barpolar\"}],\"pie\":[{\"automargin\":true,\"type\":\"pie\"}]},\"layout\":{\"autotypenumbers\":\"strict\",\"colorway\":[\"#636efa\",\"#EF553B\",\"#00cc96\",\"#ab63fa\",\"#FFA15A\",\"#19d3f3\",\"#FF6692\",\"#B6E880\",\"#FF97FF\",\"#FECB52\"],\"font\":{\"color\":\"#2a3f5f\"},\"hovermode\":\"closest\",\"hoverlabel\":{\"align\":\"left\"},\"paper_bgcolor\":\"white\",\"plot_bgcolor\":\"#E5ECF6\",\"polar\":{\"bgcolor\":\"#E5ECF6\",\"angularaxis\":{\"gridcolor\":\"white\",\"linecolor\":\"white\",\"ticks\":\"\"},\"radialaxis\":{\"gridcolor\":\"white\",\"linecolor\":\"white\",\"ticks\":\"\"}},\"ternary\":{\"bgcolor\":\"#E5ECF6\",\"aaxis\":{\"gridcolor\":\"white\",\"linecolor\":\"white\",\"ticks\":\"\"},\"baxis\":{\"gridcolor\":\"white\",\"linecolor\":\"white\",\"ticks\":\"\"},\"caxis\":{\"gridcolor\":\"white\",\"linecolor\":\"white\",\"ticks\":\"\"}},\"coloraxis\":{\"colorbar\":{\"outlinewidth\":0,\"ticks\":\"\"}},\"colorscale\":{\"sequential\":[[0.0,\"#0d0887\"],[0.1111111111111111,\"#46039f\"],[0.2222222222222222,\"#7201a8\"],[0.3333333333333333,\"#9c179e\"],[0.4444444444444444,\"#bd3786\"],[0.5555555555555556,\"#d8576b\"],[0.6666666666666666,\"#ed7953\"],[0.7777777777777778,\"#fb9f3a\"],[0.8888888888888888,\"#fdca26\"],[1.0,\"#f0f921\"]],\"sequentialminus\":[[0.0,\"#0d0887\"],[0.1111111111111111,\"#46039f\"],[0.2222222222222222,\"#7201a8\"],[0.3333333333333333,\"#9c179e\"],[0.4444444444444444,\"#bd3786\"],[0.5555555555555556,\"#d8576b\"],[0.6666666666666666,\"#ed7953\"],[0.7777777777777778,\"#fb9f3a\"],[0.8888888888888888,\"#fdca26\"],[1.0,\"#f0f921\"]],\"diverging\":[[0,\"#8e0152\"],[0.1,\"#c51b7d\"],[0.2,\"#de77ae\"],[0.3,\"#f1b6da\"],[0.4,\"#fde0ef\"],[0.5,\"#f7f7f7\"],[0.6,\"#e6f5d0\"],[0.7,\"#b8e186\"],[0.8,\"#7fbc41\"],[0.9,\"#4d9221\"],[1,\"#276419\"]]},\"xaxis\":{\"gridcolor\":\"white\",\"linecolor\":\"white\",\"ticks\":\"\",\"title\":{\"standoff\":15},\"zerolinecolor\":\"white\",\"automargin\":true,\"zerolinewidth\":2},\"yaxis\":{\"gridcolor\":\"white\",\"linecolor\":\"white\",\"ticks\":\"\",\"title\":{\"standoff\":15},\"zerolinecolor\":\"white\",\"automargin\":true,\"zerolinewidth\":2},\"scene\":{\"xaxis\":{\"backgroundcolor\":\"#E5ECF6\",\"gridcolor\":\"white\",\"linecolor\":\"white\",\"showbackground\":true,\"ticks\":\"\",\"zerolinecolor\":\"white\",\"gridwidth\":2},\"yaxis\":{\"backgroundcolor\":\"#E5ECF6\",\"gridcolor\":\"white\",\"linecolor\":\"white\",\"showbackground\":true,\"ticks\":\"\",\"zerolinecolor\":\"white\",\"gridwidth\":2},\"zaxis\":{\"backgroundcolor\":\"#E5ECF6\",\"gridcolor\":\"white\",\"linecolor\":\"white\",\"showbackground\":true,\"ticks\":\"\",\"zerolinecolor\":\"white\",\"gridwidth\":2}},\"shapedefaults\":{\"line\":{\"color\":\"#2a3f5f\"}},\"annotationdefaults\":{\"arrowcolor\":\"#2a3f5f\",\"arrowhead\":0,\"arrowwidth\":1},\"geo\":{\"bgcolor\":\"white\",\"landcolor\":\"#E5ECF6\",\"subunitcolor\":\"white\",\"showland\":true,\"showlakes\":true,\"lakecolor\":\"white\"},\"title\":{\"x\":0.05},\"mapbox\":{\"style\":\"light\"}}},\"xaxis\":{\"anchor\":\"y\",\"domain\":[0.0,1.0],\"title\":{\"text\":\"x\"}},\"yaxis\":{\"anchor\":\"x\",\"domain\":[0.0,1.0],\"title\":{\"text\":\"y\"}},\"legend\":{\"title\":{\"text\":\"color\"},\"tracegroupgap\":0},\"margin\":{\"t\":60},\"barmode\":\"relative\",\"height\":400,\"width\":500,\"showlegend\":false},                        {\"responsive\": true}                    ).then(function(){\n",
              "                            \n",
              "var gd = document.getElementById('b1cb8e6f-1ed9-4ad2-b338-dc8f5894deed');\n",
              "var x = new MutationObserver(function (mutations, observer) {{\n",
              "        var display = window.getComputedStyle(gd).display;\n",
              "        if (!display || display === 'none') {{\n",
              "            console.log([gd, 'removed!']);\n",
              "            Plotly.purge(gd);\n",
              "            observer.disconnect();\n",
              "        }}\n",
              "}});\n",
              "\n",
              "// Listen for the removal of the full notebook cells\n",
              "var notebookContainer = gd.closest('#notebook-container');\n",
              "if (notebookContainer) {{\n",
              "    x.observe(notebookContainer, {childList: true});\n",
              "}}\n",
              "\n",
              "// Listen for the clearing of the current output cell\n",
              "var outputEl = gd.closest('.output');\n",
              "if (outputEl) {{\n",
              "    x.observe(outputEl, {childList: true});\n",
              "}}\n",
              "\n",
              "                        })                };                            </script>        </div>\n",
              "</body>\n",
              "</html>"
            ]
          },
          "metadata": {}
        }
      ]
    },
    {
      "cell_type": "code",
      "source": [
        "#month_type vs Outcome\n",
        "month_type_vs_outcome = pd.crosstab(customer_data[\"mon\"], customer_data[\"y\"])\n",
        "month_type_vs_outcome[\"Convertion Rate in percent\"] = round(month_type_vs_outcome[\"yes\"]/(month_type_vs_outcome[\"yes\"]+month_type_vs_outcome[\"no\"])*100, 2)\n",
        "month_type_vs_outcome = month_type_vs_outcome.sort_values(\"Convertion Rate in percent\", ascending = False)\n",
        "month_type_vs_outcome\n",
        "\n",
        "#plot the figure\n",
        "fig_month = px.bar(x = month_type_vs_outcome.index, y =month_type_vs_outcome[\"Convertion Rate in percent\"].tolist(), color = month_type_vs_outcome.index,width=800, height=400)\n",
        "fig_month.update_layout(showlegend=False)"
      ],
      "metadata": {
        "colab": {
          "base_uri": "https://localhost:8080/",
          "height": 417
        },
        "id": "rBSeISdzTjYs",
        "outputId": "59e02a40-3358-484f-ef0b-90024d935073"
      },
      "execution_count": 34,
      "outputs": [
        {
          "output_type": "display_data",
          "data": {
            "text/html": [
              "<html>\n",
              "<head><meta charset=\"utf-8\" /></head>\n",
              "<body>\n",
              "    <div>            <script src=\"https://cdnjs.cloudflare.com/ajax/libs/mathjax/2.7.5/MathJax.js?config=TeX-AMS-MML_SVG\"></script><script type=\"text/javascript\">if (window.MathJax && window.MathJax.Hub && window.MathJax.Hub.Config) {window.MathJax.Hub.Config({SVG: {font: \"STIX-Web\"}});}</script>                <script type=\"text/javascript\">window.PlotlyConfig = {MathJaxConfig: 'local'};</script>\n",
              "        <script charset=\"utf-8\" src=\"https://cdn.plot.ly/plotly-2.24.1.min.js\"></script>                <div id=\"7b22b175-ef5e-425b-af5b-249481b87cb9\" class=\"plotly-graph-div\" style=\"height:400px; width:800px;\"></div>            <script type=\"text/javascript\">                                    window.PLOTLYENV=window.PLOTLYENV || {};                                    if (document.getElementById(\"7b22b175-ef5e-425b-af5b-249481b87cb9\")) {                    Plotly.newPlot(                        \"7b22b175-ef5e-425b-af5b-249481b87cb9\",                        [{\"alignmentgroup\":\"True\",\"hovertemplate\":\"color=mar\\u003cbr\\u003ex=%{x}\\u003cbr\\u003ey=%{y}\\u003cextra\\u003e\\u003c\\u002fextra\\u003e\",\"legendgroup\":\"mar\",\"marker\":{\"color\":\"#636efa\",\"pattern\":{\"shape\":\"\"}},\"name\":\"mar\",\"offsetgroup\":\"mar\",\"orientation\":\"v\",\"showlegend\":true,\"textposition\":\"auto\",\"x\":[\"mar\"],\"xaxis\":\"x\",\"y\":[51.99],\"yaxis\":\"y\",\"type\":\"bar\"},{\"alignmentgroup\":\"True\",\"hovertemplate\":\"color=dec\\u003cbr\\u003ex=%{x}\\u003cbr\\u003ey=%{y}\\u003cextra\\u003e\\u003c\\u002fextra\\u003e\",\"legendgroup\":\"dec\",\"marker\":{\"color\":\"#EF553B\",\"pattern\":{\"shape\":\"\"}},\"name\":\"dec\",\"offsetgroup\":\"dec\",\"orientation\":\"v\",\"showlegend\":true,\"textposition\":\"auto\",\"x\":[\"dec\"],\"xaxis\":\"x\",\"y\":[46.73],\"yaxis\":\"y\",\"type\":\"bar\"},{\"alignmentgroup\":\"True\",\"hovertemplate\":\"color=sep\\u003cbr\\u003ex=%{x}\\u003cbr\\u003ey=%{y}\\u003cextra\\u003e\\u003c\\u002fextra\\u003e\",\"legendgroup\":\"sep\",\"marker\":{\"color\":\"#00cc96\",\"pattern\":{\"shape\":\"\"}},\"name\":\"sep\",\"offsetgroup\":\"sep\",\"orientation\":\"v\",\"showlegend\":true,\"textposition\":\"auto\",\"x\":[\"sep\"],\"xaxis\":\"x\",\"y\":[46.46],\"yaxis\":\"y\",\"type\":\"bar\"},{\"alignmentgroup\":\"True\",\"hovertemplate\":\"color=oct\\u003cbr\\u003ex=%{x}\\u003cbr\\u003ey=%{y}\\u003cextra\\u003e\\u003c\\u002fextra\\u003e\",\"legendgroup\":\"oct\",\"marker\":{\"color\":\"#ab63fa\",\"pattern\":{\"shape\":\"\"}},\"name\":\"oct\",\"offsetgroup\":\"oct\",\"orientation\":\"v\",\"showlegend\":true,\"textposition\":\"auto\",\"x\":[\"oct\"],\"xaxis\":\"x\",\"y\":[43.77],\"yaxis\":\"y\",\"type\":\"bar\"},{\"alignmentgroup\":\"True\",\"hovertemplate\":\"color=apr\\u003cbr\\u003ex=%{x}\\u003cbr\\u003ey=%{y}\\u003cextra\\u003e\\u003c\\u002fextra\\u003e\",\"legendgroup\":\"apr\",\"marker\":{\"color\":\"#FFA15A\",\"pattern\":{\"shape\":\"\"}},\"name\":\"apr\",\"offsetgroup\":\"apr\",\"orientation\":\"v\",\"showlegend\":true,\"textposition\":\"auto\",\"x\":[\"apr\"],\"xaxis\":\"x\",\"y\":[19.68],\"yaxis\":\"y\",\"type\":\"bar\"},{\"alignmentgroup\":\"True\",\"hovertemplate\":\"color=feb\\u003cbr\\u003ex=%{x}\\u003cbr\\u003ey=%{y}\\u003cextra\\u003e\\u003c\\u002fextra\\u003e\",\"legendgroup\":\"feb\",\"marker\":{\"color\":\"#19d3f3\",\"pattern\":{\"shape\":\"\"}},\"name\":\"feb\",\"offsetgroup\":\"feb\",\"orientation\":\"v\",\"showlegend\":true,\"textposition\":\"auto\",\"x\":[\"feb\"],\"xaxis\":\"x\",\"y\":[16.65],\"yaxis\":\"y\",\"type\":\"bar\"},{\"alignmentgroup\":\"True\",\"hovertemplate\":\"color=aug\\u003cbr\\u003ex=%{x}\\u003cbr\\u003ey=%{y}\\u003cextra\\u003e\\u003c\\u002fextra\\u003e\",\"legendgroup\":\"aug\",\"marker\":{\"color\":\"#FF6692\",\"pattern\":{\"shape\":\"\"}},\"name\":\"aug\",\"offsetgroup\":\"aug\",\"orientation\":\"v\",\"showlegend\":true,\"textposition\":\"auto\",\"x\":[\"aug\"],\"xaxis\":\"x\",\"y\":[11.01],\"yaxis\":\"y\",\"type\":\"bar\"},{\"alignmentgroup\":\"True\",\"hovertemplate\":\"color=jun\\u003cbr\\u003ex=%{x}\\u003cbr\\u003ey=%{y}\\u003cextra\\u003e\\u003c\\u002fextra\\u003e\",\"legendgroup\":\"jun\",\"marker\":{\"color\":\"#B6E880\",\"pattern\":{\"shape\":\"\"}},\"name\":\"jun\",\"offsetgroup\":\"jun\",\"orientation\":\"v\",\"showlegend\":true,\"textposition\":\"auto\",\"x\":[\"jun\"],\"xaxis\":\"x\",\"y\":[10.22],\"yaxis\":\"y\",\"type\":\"bar\"},{\"alignmentgroup\":\"True\",\"hovertemplate\":\"color=nov\\u003cbr\\u003ex=%{x}\\u003cbr\\u003ey=%{y}\\u003cextra\\u003e\\u003c\\u002fextra\\u003e\",\"legendgroup\":\"nov\",\"marker\":{\"color\":\"#FF97FF\",\"pattern\":{\"shape\":\"\"}},\"name\":\"nov\",\"offsetgroup\":\"nov\",\"orientation\":\"v\",\"showlegend\":true,\"textposition\":\"auto\",\"x\":[\"nov\"],\"xaxis\":\"x\",\"y\":[10.15],\"yaxis\":\"y\",\"type\":\"bar\"},{\"alignmentgroup\":\"True\",\"hovertemplate\":\"color=jan\\u003cbr\\u003ex=%{x}\\u003cbr\\u003ey=%{y}\\u003cextra\\u003e\\u003c\\u002fextra\\u003e\",\"legendgroup\":\"jan\",\"marker\":{\"color\":\"#FECB52\",\"pattern\":{\"shape\":\"\"}},\"name\":\"jan\",\"offsetgroup\":\"jan\",\"orientation\":\"v\",\"showlegend\":true,\"textposition\":\"auto\",\"x\":[\"jan\"],\"xaxis\":\"x\",\"y\":[10.12],\"yaxis\":\"y\",\"type\":\"bar\"},{\"alignmentgroup\":\"True\",\"hovertemplate\":\"color=jul\\u003cbr\\u003ex=%{x}\\u003cbr\\u003ey=%{y}\\u003cextra\\u003e\\u003c\\u002fextra\\u003e\",\"legendgroup\":\"jul\",\"marker\":{\"color\":\"#636efa\",\"pattern\":{\"shape\":\"\"}},\"name\":\"jul\",\"offsetgroup\":\"jul\",\"orientation\":\"v\",\"showlegend\":true,\"textposition\":\"auto\",\"x\":[\"jul\"],\"xaxis\":\"x\",\"y\":[9.09],\"yaxis\":\"y\",\"type\":\"bar\"},{\"alignmentgroup\":\"True\",\"hovertemplate\":\"color=may\\u003cbr\\u003ex=%{x}\\u003cbr\\u003ey=%{y}\\u003cextra\\u003e\\u003c\\u002fextra\\u003e\",\"legendgroup\":\"may\",\"marker\":{\"color\":\"#EF553B\",\"pattern\":{\"shape\":\"\"}},\"name\":\"may\",\"offsetgroup\":\"may\",\"orientation\":\"v\",\"showlegend\":true,\"textposition\":\"auto\",\"x\":[\"may\"],\"xaxis\":\"x\",\"y\":[6.72],\"yaxis\":\"y\",\"type\":\"bar\"}],                        {\"template\":{\"data\":{\"histogram2dcontour\":[{\"type\":\"histogram2dcontour\",\"colorbar\":{\"outlinewidth\":0,\"ticks\":\"\"},\"colorscale\":[[0.0,\"#0d0887\"],[0.1111111111111111,\"#46039f\"],[0.2222222222222222,\"#7201a8\"],[0.3333333333333333,\"#9c179e\"],[0.4444444444444444,\"#bd3786\"],[0.5555555555555556,\"#d8576b\"],[0.6666666666666666,\"#ed7953\"],[0.7777777777777778,\"#fb9f3a\"],[0.8888888888888888,\"#fdca26\"],[1.0,\"#f0f921\"]]}],\"choropleth\":[{\"type\":\"choropleth\",\"colorbar\":{\"outlinewidth\":0,\"ticks\":\"\"}}],\"histogram2d\":[{\"type\":\"histogram2d\",\"colorbar\":{\"outlinewidth\":0,\"ticks\":\"\"},\"colorscale\":[[0.0,\"#0d0887\"],[0.1111111111111111,\"#46039f\"],[0.2222222222222222,\"#7201a8\"],[0.3333333333333333,\"#9c179e\"],[0.4444444444444444,\"#bd3786\"],[0.5555555555555556,\"#d8576b\"],[0.6666666666666666,\"#ed7953\"],[0.7777777777777778,\"#fb9f3a\"],[0.8888888888888888,\"#fdca26\"],[1.0,\"#f0f921\"]]}],\"heatmap\":[{\"type\":\"heatmap\",\"colorbar\":{\"outlinewidth\":0,\"ticks\":\"\"},\"colorscale\":[[0.0,\"#0d0887\"],[0.1111111111111111,\"#46039f\"],[0.2222222222222222,\"#7201a8\"],[0.3333333333333333,\"#9c179e\"],[0.4444444444444444,\"#bd3786\"],[0.5555555555555556,\"#d8576b\"],[0.6666666666666666,\"#ed7953\"],[0.7777777777777778,\"#fb9f3a\"],[0.8888888888888888,\"#fdca26\"],[1.0,\"#f0f921\"]]}],\"heatmapgl\":[{\"type\":\"heatmapgl\",\"colorbar\":{\"outlinewidth\":0,\"ticks\":\"\"},\"colorscale\":[[0.0,\"#0d0887\"],[0.1111111111111111,\"#46039f\"],[0.2222222222222222,\"#7201a8\"],[0.3333333333333333,\"#9c179e\"],[0.4444444444444444,\"#bd3786\"],[0.5555555555555556,\"#d8576b\"],[0.6666666666666666,\"#ed7953\"],[0.7777777777777778,\"#fb9f3a\"],[0.8888888888888888,\"#fdca26\"],[1.0,\"#f0f921\"]]}],\"contourcarpet\":[{\"type\":\"contourcarpet\",\"colorbar\":{\"outlinewidth\":0,\"ticks\":\"\"}}],\"contour\":[{\"type\":\"contour\",\"colorbar\":{\"outlinewidth\":0,\"ticks\":\"\"},\"colorscale\":[[0.0,\"#0d0887\"],[0.1111111111111111,\"#46039f\"],[0.2222222222222222,\"#7201a8\"],[0.3333333333333333,\"#9c179e\"],[0.4444444444444444,\"#bd3786\"],[0.5555555555555556,\"#d8576b\"],[0.6666666666666666,\"#ed7953\"],[0.7777777777777778,\"#fb9f3a\"],[0.8888888888888888,\"#fdca26\"],[1.0,\"#f0f921\"]]}],\"surface\":[{\"type\":\"surface\",\"colorbar\":{\"outlinewidth\":0,\"ticks\":\"\"},\"colorscale\":[[0.0,\"#0d0887\"],[0.1111111111111111,\"#46039f\"],[0.2222222222222222,\"#7201a8\"],[0.3333333333333333,\"#9c179e\"],[0.4444444444444444,\"#bd3786\"],[0.5555555555555556,\"#d8576b\"],[0.6666666666666666,\"#ed7953\"],[0.7777777777777778,\"#fb9f3a\"],[0.8888888888888888,\"#fdca26\"],[1.0,\"#f0f921\"]]}],\"mesh3d\":[{\"type\":\"mesh3d\",\"colorbar\":{\"outlinewidth\":0,\"ticks\":\"\"}}],\"scatter\":[{\"fillpattern\":{\"fillmode\":\"overlay\",\"size\":10,\"solidity\":0.2},\"type\":\"scatter\"}],\"parcoords\":[{\"type\":\"parcoords\",\"line\":{\"colorbar\":{\"outlinewidth\":0,\"ticks\":\"\"}}}],\"scatterpolargl\":[{\"type\":\"scatterpolargl\",\"marker\":{\"colorbar\":{\"outlinewidth\":0,\"ticks\":\"\"}}}],\"bar\":[{\"error_x\":{\"color\":\"#2a3f5f\"},\"error_y\":{\"color\":\"#2a3f5f\"},\"marker\":{\"line\":{\"color\":\"#E5ECF6\",\"width\":0.5},\"pattern\":{\"fillmode\":\"overlay\",\"size\":10,\"solidity\":0.2}},\"type\":\"bar\"}],\"scattergeo\":[{\"type\":\"scattergeo\",\"marker\":{\"colorbar\":{\"outlinewidth\":0,\"ticks\":\"\"}}}],\"scatterpolar\":[{\"type\":\"scatterpolar\",\"marker\":{\"colorbar\":{\"outlinewidth\":0,\"ticks\":\"\"}}}],\"histogram\":[{\"marker\":{\"pattern\":{\"fillmode\":\"overlay\",\"size\":10,\"solidity\":0.2}},\"type\":\"histogram\"}],\"scattergl\":[{\"type\":\"scattergl\",\"marker\":{\"colorbar\":{\"outlinewidth\":0,\"ticks\":\"\"}}}],\"scatter3d\":[{\"type\":\"scatter3d\",\"line\":{\"colorbar\":{\"outlinewidth\":0,\"ticks\":\"\"}},\"marker\":{\"colorbar\":{\"outlinewidth\":0,\"ticks\":\"\"}}}],\"scattermapbox\":[{\"type\":\"scattermapbox\",\"marker\":{\"colorbar\":{\"outlinewidth\":0,\"ticks\":\"\"}}}],\"scatterternary\":[{\"type\":\"scatterternary\",\"marker\":{\"colorbar\":{\"outlinewidth\":0,\"ticks\":\"\"}}}],\"scattercarpet\":[{\"type\":\"scattercarpet\",\"marker\":{\"colorbar\":{\"outlinewidth\":0,\"ticks\":\"\"}}}],\"carpet\":[{\"aaxis\":{\"endlinecolor\":\"#2a3f5f\",\"gridcolor\":\"white\",\"linecolor\":\"white\",\"minorgridcolor\":\"white\",\"startlinecolor\":\"#2a3f5f\"},\"baxis\":{\"endlinecolor\":\"#2a3f5f\",\"gridcolor\":\"white\",\"linecolor\":\"white\",\"minorgridcolor\":\"white\",\"startlinecolor\":\"#2a3f5f\"},\"type\":\"carpet\"}],\"table\":[{\"cells\":{\"fill\":{\"color\":\"#EBF0F8\"},\"line\":{\"color\":\"white\"}},\"header\":{\"fill\":{\"color\":\"#C8D4E3\"},\"line\":{\"color\":\"white\"}},\"type\":\"table\"}],\"barpolar\":[{\"marker\":{\"line\":{\"color\":\"#E5ECF6\",\"width\":0.5},\"pattern\":{\"fillmode\":\"overlay\",\"size\":10,\"solidity\":0.2}},\"type\":\"barpolar\"}],\"pie\":[{\"automargin\":true,\"type\":\"pie\"}]},\"layout\":{\"autotypenumbers\":\"strict\",\"colorway\":[\"#636efa\",\"#EF553B\",\"#00cc96\",\"#ab63fa\",\"#FFA15A\",\"#19d3f3\",\"#FF6692\",\"#B6E880\",\"#FF97FF\",\"#FECB52\"],\"font\":{\"color\":\"#2a3f5f\"},\"hovermode\":\"closest\",\"hoverlabel\":{\"align\":\"left\"},\"paper_bgcolor\":\"white\",\"plot_bgcolor\":\"#E5ECF6\",\"polar\":{\"bgcolor\":\"#E5ECF6\",\"angularaxis\":{\"gridcolor\":\"white\",\"linecolor\":\"white\",\"ticks\":\"\"},\"radialaxis\":{\"gridcolor\":\"white\",\"linecolor\":\"white\",\"ticks\":\"\"}},\"ternary\":{\"bgcolor\":\"#E5ECF6\",\"aaxis\":{\"gridcolor\":\"white\",\"linecolor\":\"white\",\"ticks\":\"\"},\"baxis\":{\"gridcolor\":\"white\",\"linecolor\":\"white\",\"ticks\":\"\"},\"caxis\":{\"gridcolor\":\"white\",\"linecolor\":\"white\",\"ticks\":\"\"}},\"coloraxis\":{\"colorbar\":{\"outlinewidth\":0,\"ticks\":\"\"}},\"colorscale\":{\"sequential\":[[0.0,\"#0d0887\"],[0.1111111111111111,\"#46039f\"],[0.2222222222222222,\"#7201a8\"],[0.3333333333333333,\"#9c179e\"],[0.4444444444444444,\"#bd3786\"],[0.5555555555555556,\"#d8576b\"],[0.6666666666666666,\"#ed7953\"],[0.7777777777777778,\"#fb9f3a\"],[0.8888888888888888,\"#fdca26\"],[1.0,\"#f0f921\"]],\"sequentialminus\":[[0.0,\"#0d0887\"],[0.1111111111111111,\"#46039f\"],[0.2222222222222222,\"#7201a8\"],[0.3333333333333333,\"#9c179e\"],[0.4444444444444444,\"#bd3786\"],[0.5555555555555556,\"#d8576b\"],[0.6666666666666666,\"#ed7953\"],[0.7777777777777778,\"#fb9f3a\"],[0.8888888888888888,\"#fdca26\"],[1.0,\"#f0f921\"]],\"diverging\":[[0,\"#8e0152\"],[0.1,\"#c51b7d\"],[0.2,\"#de77ae\"],[0.3,\"#f1b6da\"],[0.4,\"#fde0ef\"],[0.5,\"#f7f7f7\"],[0.6,\"#e6f5d0\"],[0.7,\"#b8e186\"],[0.8,\"#7fbc41\"],[0.9,\"#4d9221\"],[1,\"#276419\"]]},\"xaxis\":{\"gridcolor\":\"white\",\"linecolor\":\"white\",\"ticks\":\"\",\"title\":{\"standoff\":15},\"zerolinecolor\":\"white\",\"automargin\":true,\"zerolinewidth\":2},\"yaxis\":{\"gridcolor\":\"white\",\"linecolor\":\"white\",\"ticks\":\"\",\"title\":{\"standoff\":15},\"zerolinecolor\":\"white\",\"automargin\":true,\"zerolinewidth\":2},\"scene\":{\"xaxis\":{\"backgroundcolor\":\"#E5ECF6\",\"gridcolor\":\"white\",\"linecolor\":\"white\",\"showbackground\":true,\"ticks\":\"\",\"zerolinecolor\":\"white\",\"gridwidth\":2},\"yaxis\":{\"backgroundcolor\":\"#E5ECF6\",\"gridcolor\":\"white\",\"linecolor\":\"white\",\"showbackground\":true,\"ticks\":\"\",\"zerolinecolor\":\"white\",\"gridwidth\":2},\"zaxis\":{\"backgroundcolor\":\"#E5ECF6\",\"gridcolor\":\"white\",\"linecolor\":\"white\",\"showbackground\":true,\"ticks\":\"\",\"zerolinecolor\":\"white\",\"gridwidth\":2}},\"shapedefaults\":{\"line\":{\"color\":\"#2a3f5f\"}},\"annotationdefaults\":{\"arrowcolor\":\"#2a3f5f\",\"arrowhead\":0,\"arrowwidth\":1},\"geo\":{\"bgcolor\":\"white\",\"landcolor\":\"#E5ECF6\",\"subunitcolor\":\"white\",\"showland\":true,\"showlakes\":true,\"lakecolor\":\"white\"},\"title\":{\"x\":0.05},\"mapbox\":{\"style\":\"light\"}}},\"xaxis\":{\"anchor\":\"y\",\"domain\":[0.0,1.0],\"title\":{\"text\":\"x\"}},\"yaxis\":{\"anchor\":\"x\",\"domain\":[0.0,1.0],\"title\":{\"text\":\"y\"}},\"legend\":{\"title\":{\"text\":\"color\"},\"tracegroupgap\":0},\"margin\":{\"t\":60},\"barmode\":\"relative\",\"height\":400,\"width\":800,\"showlegend\":false},                        {\"responsive\": true}                    ).then(function(){\n",
              "                            \n",
              "var gd = document.getElementById('7b22b175-ef5e-425b-af5b-249481b87cb9');\n",
              "var x = new MutationObserver(function (mutations, observer) {{\n",
              "        var display = window.getComputedStyle(gd).display;\n",
              "        if (!display || display === 'none') {{\n",
              "            console.log([gd, 'removed!']);\n",
              "            Plotly.purge(gd);\n",
              "            observer.disconnect();\n",
              "        }}\n",
              "}});\n",
              "\n",
              "// Listen for the removal of the full notebook cells\n",
              "var notebookContainer = gd.closest('#notebook-container');\n",
              "if (notebookContainer) {{\n",
              "    x.observe(notebookContainer, {childList: true});\n",
              "}}\n",
              "\n",
              "// Listen for the clearing of the current output cell\n",
              "var outputEl = gd.closest('.output');\n",
              "if (outputEl) {{\n",
              "    x.observe(outputEl, {childList: true});\n",
              "}}\n",
              "\n",
              "                        })                };                            </script>        </div>\n",
              "</body>\n",
              "</html>"
            ]
          },
          "metadata": {}
        }
      ]
    },
    {
      "cell_type": "markdown",
      "source": [
        "Intution by month :\n",
        "\n",
        "1. This comparison shows the clear relation ship of the convertion rate dependency on the contacted month.\n",
        "2. March month attacts most of the customers for insurence. And this high convertion rate depends on the end of the financial year.\n",
        "3. There is also a another evidence that the convertion rate depends on the financial year is that the drastic change in the may month convertion rate"
      ],
      "metadata": {
        "id": "4cJlv3cpT4MU"
      }
    },
    {
      "cell_type": "code",
      "source": [
        "#prev_outcome vs Outcome\n",
        "prev_outcome_type_vs_outcome = pd.crosstab(customer_data[\"prev_outcome\"], customer_data[\"y\"])\n",
        "prev_outcome_type_vs_outcome[\"Convertion Rate in percent\"] = round(prev_outcome_type_vs_outcome[\"yes\"]/(prev_outcome_type_vs_outcome[\"yes\"]+prev_outcome_type_vs_outcome[\"no\"])*100, 2)\n",
        "prev_outcome_type_vs_outcome = prev_outcome_type_vs_outcome.sort_values(\"Convertion Rate in percent\", ascending = False)\n",
        "prev_outcome_type_vs_outcome\n",
        "\n",
        "#plot the figure\n",
        "fig_prev_call = px.bar(x = prev_outcome_type_vs_outcome.index, y =prev_outcome_type_vs_outcome[\"Convertion Rate in percent\"].tolist(), color = prev_outcome_type_vs_outcome.index,width=500, height=400)\n",
        "fig_prev_call.update_layout(showlegend=False)"
      ],
      "metadata": {
        "colab": {
          "base_uri": "https://localhost:8080/",
          "height": 417
        },
        "id": "xvZkPag3UD0r",
        "outputId": "2a15626f-94fb-4079-9e53-40c0eb512264"
      },
      "execution_count": 35,
      "outputs": [
        {
          "output_type": "display_data",
          "data": {
            "text/html": [
              "<html>\n",
              "<head><meta charset=\"utf-8\" /></head>\n",
              "<body>\n",
              "    <div>            <script src=\"https://cdnjs.cloudflare.com/ajax/libs/mathjax/2.7.5/MathJax.js?config=TeX-AMS-MML_SVG\"></script><script type=\"text/javascript\">if (window.MathJax && window.MathJax.Hub && window.MathJax.Hub.Config) {window.MathJax.Hub.Config({SVG: {font: \"STIX-Web\"}});}</script>                <script type=\"text/javascript\">window.PlotlyConfig = {MathJaxConfig: 'local'};</script>\n",
              "        <script charset=\"utf-8\" src=\"https://cdn.plot.ly/plotly-2.24.1.min.js\"></script>                <div id=\"4162fe64-f71b-43d2-b527-a8d3c552b99d\" class=\"plotly-graph-div\" style=\"height:400px; width:500px;\"></div>            <script type=\"text/javascript\">                                    window.PLOTLYENV=window.PLOTLYENV || {};                                    if (document.getElementById(\"4162fe64-f71b-43d2-b527-a8d3c552b99d\")) {                    Plotly.newPlot(                        \"4162fe64-f71b-43d2-b527-a8d3c552b99d\",                        [{\"alignmentgroup\":\"True\",\"hovertemplate\":\"color=success\\u003cbr\\u003ex=%{x}\\u003cbr\\u003ey=%{y}\\u003cextra\\u003e\\u003c\\u002fextra\\u003e\",\"legendgroup\":\"success\",\"marker\":{\"color\":\"#636efa\",\"pattern\":{\"shape\":\"\"}},\"name\":\"success\",\"offsetgroup\":\"success\",\"orientation\":\"v\",\"showlegend\":true,\"textposition\":\"auto\",\"x\":[\"success\"],\"xaxis\":\"x\",\"y\":[64.73],\"yaxis\":\"y\",\"type\":\"bar\"},{\"alignmentgroup\":\"True\",\"hovertemplate\":\"color=other\\u003cbr\\u003ex=%{x}\\u003cbr\\u003ey=%{y}\\u003cextra\\u003e\\u003c\\u002fextra\\u003e\",\"legendgroup\":\"other\",\"marker\":{\"color\":\"#EF553B\",\"pattern\":{\"shape\":\"\"}},\"name\":\"other\",\"offsetgroup\":\"other\",\"orientation\":\"v\",\"showlegend\":true,\"textposition\":\"auto\",\"x\":[\"other\"],\"xaxis\":\"x\",\"y\":[16.68],\"yaxis\":\"y\",\"type\":\"bar\"},{\"alignmentgroup\":\"True\",\"hovertemplate\":\"color=failure\\u003cbr\\u003ex=%{x}\\u003cbr\\u003ey=%{y}\\u003cextra\\u003e\\u003c\\u002fextra\\u003e\",\"legendgroup\":\"failure\",\"marker\":{\"color\":\"#00cc96\",\"pattern\":{\"shape\":\"\"}},\"name\":\"failure\",\"offsetgroup\":\"failure\",\"orientation\":\"v\",\"showlegend\":true,\"textposition\":\"auto\",\"x\":[\"failure\"],\"xaxis\":\"x\",\"y\":[12.61],\"yaxis\":\"y\",\"type\":\"bar\"},{\"alignmentgroup\":\"True\",\"hovertemplate\":\"color=unknown\\u003cbr\\u003ex=%{x}\\u003cbr\\u003ey=%{y}\\u003cextra\\u003e\\u003c\\u002fextra\\u003e\",\"legendgroup\":\"unknown\",\"marker\":{\"color\":\"#ab63fa\",\"pattern\":{\"shape\":\"\"}},\"name\":\"unknown\",\"offsetgroup\":\"unknown\",\"orientation\":\"v\",\"showlegend\":true,\"textposition\":\"auto\",\"x\":[\"unknown\"],\"xaxis\":\"x\",\"y\":[9.16],\"yaxis\":\"y\",\"type\":\"bar\"}],                        {\"template\":{\"data\":{\"histogram2dcontour\":[{\"type\":\"histogram2dcontour\",\"colorbar\":{\"outlinewidth\":0,\"ticks\":\"\"},\"colorscale\":[[0.0,\"#0d0887\"],[0.1111111111111111,\"#46039f\"],[0.2222222222222222,\"#7201a8\"],[0.3333333333333333,\"#9c179e\"],[0.4444444444444444,\"#bd3786\"],[0.5555555555555556,\"#d8576b\"],[0.6666666666666666,\"#ed7953\"],[0.7777777777777778,\"#fb9f3a\"],[0.8888888888888888,\"#fdca26\"],[1.0,\"#f0f921\"]]}],\"choropleth\":[{\"type\":\"choropleth\",\"colorbar\":{\"outlinewidth\":0,\"ticks\":\"\"}}],\"histogram2d\":[{\"type\":\"histogram2d\",\"colorbar\":{\"outlinewidth\":0,\"ticks\":\"\"},\"colorscale\":[[0.0,\"#0d0887\"],[0.1111111111111111,\"#46039f\"],[0.2222222222222222,\"#7201a8\"],[0.3333333333333333,\"#9c179e\"],[0.4444444444444444,\"#bd3786\"],[0.5555555555555556,\"#d8576b\"],[0.6666666666666666,\"#ed7953\"],[0.7777777777777778,\"#fb9f3a\"],[0.8888888888888888,\"#fdca26\"],[1.0,\"#f0f921\"]]}],\"heatmap\":[{\"type\":\"heatmap\",\"colorbar\":{\"outlinewidth\":0,\"ticks\":\"\"},\"colorscale\":[[0.0,\"#0d0887\"],[0.1111111111111111,\"#46039f\"],[0.2222222222222222,\"#7201a8\"],[0.3333333333333333,\"#9c179e\"],[0.4444444444444444,\"#bd3786\"],[0.5555555555555556,\"#d8576b\"],[0.6666666666666666,\"#ed7953\"],[0.7777777777777778,\"#fb9f3a\"],[0.8888888888888888,\"#fdca26\"],[1.0,\"#f0f921\"]]}],\"heatmapgl\":[{\"type\":\"heatmapgl\",\"colorbar\":{\"outlinewidth\":0,\"ticks\":\"\"},\"colorscale\":[[0.0,\"#0d0887\"],[0.1111111111111111,\"#46039f\"],[0.2222222222222222,\"#7201a8\"],[0.3333333333333333,\"#9c179e\"],[0.4444444444444444,\"#bd3786\"],[0.5555555555555556,\"#d8576b\"],[0.6666666666666666,\"#ed7953\"],[0.7777777777777778,\"#fb9f3a\"],[0.8888888888888888,\"#fdca26\"],[1.0,\"#f0f921\"]]}],\"contourcarpet\":[{\"type\":\"contourcarpet\",\"colorbar\":{\"outlinewidth\":0,\"ticks\":\"\"}}],\"contour\":[{\"type\":\"contour\",\"colorbar\":{\"outlinewidth\":0,\"ticks\":\"\"},\"colorscale\":[[0.0,\"#0d0887\"],[0.1111111111111111,\"#46039f\"],[0.2222222222222222,\"#7201a8\"],[0.3333333333333333,\"#9c179e\"],[0.4444444444444444,\"#bd3786\"],[0.5555555555555556,\"#d8576b\"],[0.6666666666666666,\"#ed7953\"],[0.7777777777777778,\"#fb9f3a\"],[0.8888888888888888,\"#fdca26\"],[1.0,\"#f0f921\"]]}],\"surface\":[{\"type\":\"surface\",\"colorbar\":{\"outlinewidth\":0,\"ticks\":\"\"},\"colorscale\":[[0.0,\"#0d0887\"],[0.1111111111111111,\"#46039f\"],[0.2222222222222222,\"#7201a8\"],[0.3333333333333333,\"#9c179e\"],[0.4444444444444444,\"#bd3786\"],[0.5555555555555556,\"#d8576b\"],[0.6666666666666666,\"#ed7953\"],[0.7777777777777778,\"#fb9f3a\"],[0.8888888888888888,\"#fdca26\"],[1.0,\"#f0f921\"]]}],\"mesh3d\":[{\"type\":\"mesh3d\",\"colorbar\":{\"outlinewidth\":0,\"ticks\":\"\"}}],\"scatter\":[{\"fillpattern\":{\"fillmode\":\"overlay\",\"size\":10,\"solidity\":0.2},\"type\":\"scatter\"}],\"parcoords\":[{\"type\":\"parcoords\",\"line\":{\"colorbar\":{\"outlinewidth\":0,\"ticks\":\"\"}}}],\"scatterpolargl\":[{\"type\":\"scatterpolargl\",\"marker\":{\"colorbar\":{\"outlinewidth\":0,\"ticks\":\"\"}}}],\"bar\":[{\"error_x\":{\"color\":\"#2a3f5f\"},\"error_y\":{\"color\":\"#2a3f5f\"},\"marker\":{\"line\":{\"color\":\"#E5ECF6\",\"width\":0.5},\"pattern\":{\"fillmode\":\"overlay\",\"size\":10,\"solidity\":0.2}},\"type\":\"bar\"}],\"scattergeo\":[{\"type\":\"scattergeo\",\"marker\":{\"colorbar\":{\"outlinewidth\":0,\"ticks\":\"\"}}}],\"scatterpolar\":[{\"type\":\"scatterpolar\",\"marker\":{\"colorbar\":{\"outlinewidth\":0,\"ticks\":\"\"}}}],\"histogram\":[{\"marker\":{\"pattern\":{\"fillmode\":\"overlay\",\"size\":10,\"solidity\":0.2}},\"type\":\"histogram\"}],\"scattergl\":[{\"type\":\"scattergl\",\"marker\":{\"colorbar\":{\"outlinewidth\":0,\"ticks\":\"\"}}}],\"scatter3d\":[{\"type\":\"scatter3d\",\"line\":{\"colorbar\":{\"outlinewidth\":0,\"ticks\":\"\"}},\"marker\":{\"colorbar\":{\"outlinewidth\":0,\"ticks\":\"\"}}}],\"scattermapbox\":[{\"type\":\"scattermapbox\",\"marker\":{\"colorbar\":{\"outlinewidth\":0,\"ticks\":\"\"}}}],\"scatterternary\":[{\"type\":\"scatterternary\",\"marker\":{\"colorbar\":{\"outlinewidth\":0,\"ticks\":\"\"}}}],\"scattercarpet\":[{\"type\":\"scattercarpet\",\"marker\":{\"colorbar\":{\"outlinewidth\":0,\"ticks\":\"\"}}}],\"carpet\":[{\"aaxis\":{\"endlinecolor\":\"#2a3f5f\",\"gridcolor\":\"white\",\"linecolor\":\"white\",\"minorgridcolor\":\"white\",\"startlinecolor\":\"#2a3f5f\"},\"baxis\":{\"endlinecolor\":\"#2a3f5f\",\"gridcolor\":\"white\",\"linecolor\":\"white\",\"minorgridcolor\":\"white\",\"startlinecolor\":\"#2a3f5f\"},\"type\":\"carpet\"}],\"table\":[{\"cells\":{\"fill\":{\"color\":\"#EBF0F8\"},\"line\":{\"color\":\"white\"}},\"header\":{\"fill\":{\"color\":\"#C8D4E3\"},\"line\":{\"color\":\"white\"}},\"type\":\"table\"}],\"barpolar\":[{\"marker\":{\"line\":{\"color\":\"#E5ECF6\",\"width\":0.5},\"pattern\":{\"fillmode\":\"overlay\",\"size\":10,\"solidity\":0.2}},\"type\":\"barpolar\"}],\"pie\":[{\"automargin\":true,\"type\":\"pie\"}]},\"layout\":{\"autotypenumbers\":\"strict\",\"colorway\":[\"#636efa\",\"#EF553B\",\"#00cc96\",\"#ab63fa\",\"#FFA15A\",\"#19d3f3\",\"#FF6692\",\"#B6E880\",\"#FF97FF\",\"#FECB52\"],\"font\":{\"color\":\"#2a3f5f\"},\"hovermode\":\"closest\",\"hoverlabel\":{\"align\":\"left\"},\"paper_bgcolor\":\"white\",\"plot_bgcolor\":\"#E5ECF6\",\"polar\":{\"bgcolor\":\"#E5ECF6\",\"angularaxis\":{\"gridcolor\":\"white\",\"linecolor\":\"white\",\"ticks\":\"\"},\"radialaxis\":{\"gridcolor\":\"white\",\"linecolor\":\"white\",\"ticks\":\"\"}},\"ternary\":{\"bgcolor\":\"#E5ECF6\",\"aaxis\":{\"gridcolor\":\"white\",\"linecolor\":\"white\",\"ticks\":\"\"},\"baxis\":{\"gridcolor\":\"white\",\"linecolor\":\"white\",\"ticks\":\"\"},\"caxis\":{\"gridcolor\":\"white\",\"linecolor\":\"white\",\"ticks\":\"\"}},\"coloraxis\":{\"colorbar\":{\"outlinewidth\":0,\"ticks\":\"\"}},\"colorscale\":{\"sequential\":[[0.0,\"#0d0887\"],[0.1111111111111111,\"#46039f\"],[0.2222222222222222,\"#7201a8\"],[0.3333333333333333,\"#9c179e\"],[0.4444444444444444,\"#bd3786\"],[0.5555555555555556,\"#d8576b\"],[0.6666666666666666,\"#ed7953\"],[0.7777777777777778,\"#fb9f3a\"],[0.8888888888888888,\"#fdca26\"],[1.0,\"#f0f921\"]],\"sequentialminus\":[[0.0,\"#0d0887\"],[0.1111111111111111,\"#46039f\"],[0.2222222222222222,\"#7201a8\"],[0.3333333333333333,\"#9c179e\"],[0.4444444444444444,\"#bd3786\"],[0.5555555555555556,\"#d8576b\"],[0.6666666666666666,\"#ed7953\"],[0.7777777777777778,\"#fb9f3a\"],[0.8888888888888888,\"#fdca26\"],[1.0,\"#f0f921\"]],\"diverging\":[[0,\"#8e0152\"],[0.1,\"#c51b7d\"],[0.2,\"#de77ae\"],[0.3,\"#f1b6da\"],[0.4,\"#fde0ef\"],[0.5,\"#f7f7f7\"],[0.6,\"#e6f5d0\"],[0.7,\"#b8e186\"],[0.8,\"#7fbc41\"],[0.9,\"#4d9221\"],[1,\"#276419\"]]},\"xaxis\":{\"gridcolor\":\"white\",\"linecolor\":\"white\",\"ticks\":\"\",\"title\":{\"standoff\":15},\"zerolinecolor\":\"white\",\"automargin\":true,\"zerolinewidth\":2},\"yaxis\":{\"gridcolor\":\"white\",\"linecolor\":\"white\",\"ticks\":\"\",\"title\":{\"standoff\":15},\"zerolinecolor\":\"white\",\"automargin\":true,\"zerolinewidth\":2},\"scene\":{\"xaxis\":{\"backgroundcolor\":\"#E5ECF6\",\"gridcolor\":\"white\",\"linecolor\":\"white\",\"showbackground\":true,\"ticks\":\"\",\"zerolinecolor\":\"white\",\"gridwidth\":2},\"yaxis\":{\"backgroundcolor\":\"#E5ECF6\",\"gridcolor\":\"white\",\"linecolor\":\"white\",\"showbackground\":true,\"ticks\":\"\",\"zerolinecolor\":\"white\",\"gridwidth\":2},\"zaxis\":{\"backgroundcolor\":\"#E5ECF6\",\"gridcolor\":\"white\",\"linecolor\":\"white\",\"showbackground\":true,\"ticks\":\"\",\"zerolinecolor\":\"white\",\"gridwidth\":2}},\"shapedefaults\":{\"line\":{\"color\":\"#2a3f5f\"}},\"annotationdefaults\":{\"arrowcolor\":\"#2a3f5f\",\"arrowhead\":0,\"arrowwidth\":1},\"geo\":{\"bgcolor\":\"white\",\"landcolor\":\"#E5ECF6\",\"subunitcolor\":\"white\",\"showland\":true,\"showlakes\":true,\"lakecolor\":\"white\"},\"title\":{\"x\":0.05},\"mapbox\":{\"style\":\"light\"}}},\"xaxis\":{\"anchor\":\"y\",\"domain\":[0.0,1.0],\"title\":{\"text\":\"x\"}},\"yaxis\":{\"anchor\":\"x\",\"domain\":[0.0,1.0],\"title\":{\"text\":\"y\"}},\"legend\":{\"title\":{\"text\":\"color\"},\"tracegroupgap\":0},\"margin\":{\"t\":60},\"barmode\":\"relative\",\"height\":400,\"width\":500,\"showlegend\":false},                        {\"responsive\": true}                    ).then(function(){\n",
              "                            \n",
              "var gd = document.getElementById('4162fe64-f71b-43d2-b527-a8d3c552b99d');\n",
              "var x = new MutationObserver(function (mutations, observer) {{\n",
              "        var display = window.getComputedStyle(gd).display;\n",
              "        if (!display || display === 'none') {{\n",
              "            console.log([gd, 'removed!']);\n",
              "            Plotly.purge(gd);\n",
              "            observer.disconnect();\n",
              "        }}\n",
              "}});\n",
              "\n",
              "// Listen for the removal of the full notebook cells\n",
              "var notebookContainer = gd.closest('#notebook-container');\n",
              "if (notebookContainer) {{\n",
              "    x.observe(notebookContainer, {childList: true});\n",
              "}}\n",
              "\n",
              "// Listen for the clearing of the current output cell\n",
              "var outputEl = gd.closest('.output');\n",
              "if (outputEl) {{\n",
              "    x.observe(outputEl, {childList: true});\n",
              "}}\n",
              "\n",
              "                        })                };                            </script>        </div>\n",
              "</body>\n",
              "</html>"
            ]
          },
          "metadata": {}
        }
      ]
    },
    {
      "cell_type": "markdown",
      "source": [
        "Intution by previous outcome :\n",
        "\n",
        "Success in the previous outcome will have the greater impact on the convertionn rate."
      ],
      "metadata": {
        "id": "0jaxsNW2UbRj"
      }
    },
    {
      "cell_type": "code",
      "source": [
        "#day_type vs Outcome\n",
        "day_type_vs_outcome = pd.crosstab(customer_data[\"day\"], customer_data[\"y\"])\n",
        "day_type_vs_outcome[\"Convertion Rate in percent\"] = round(day_type_vs_outcome[\"yes\"]/(day_type_vs_outcome[\"yes\"]+day_type_vs_outcome[\"no\"])*100, 2)\n",
        "day_type_vs_outcome = day_type_vs_outcome.sort_values(\"Convertion Rate in percent\", ascending = False)\n",
        "day_type_vs_outcome\n",
        "\n",
        "#plot the figure\n",
        "fig_day = px.bar(x = day_type_vs_outcome.index, y =day_type_vs_outcome[\"Convertion Rate in percent\"].tolist(), color = day_type_vs_outcome[\"Convertion Rate in percent\"].tolist(),width = 2000,height=600)\n",
        "fig_day.update_layout(showlegend=False)"
      ],
      "metadata": {
        "colab": {
          "base_uri": "https://localhost:8080/",
          "height": 637
        },
        "id": "zXcvABQ2UeGD",
        "outputId": "dabde01c-623d-4b63-e877-845204ebab6c"
      },
      "execution_count": 37,
      "outputs": [
        {
          "output_type": "display_data",
          "data": {
            "text/html": [
              "<html>\n",
              "<head><meta charset=\"utf-8\" /></head>\n",
              "<body>\n",
              "    <div>            <script src=\"https://cdnjs.cloudflare.com/ajax/libs/mathjax/2.7.5/MathJax.js?config=TeX-AMS-MML_SVG\"></script><script type=\"text/javascript\">if (window.MathJax && window.MathJax.Hub && window.MathJax.Hub.Config) {window.MathJax.Hub.Config({SVG: {font: \"STIX-Web\"}});}</script>                <script type=\"text/javascript\">window.PlotlyConfig = {MathJaxConfig: 'local'};</script>\n",
              "        <script charset=\"utf-8\" src=\"https://cdn.plot.ly/plotly-2.24.1.min.js\"></script>                <div id=\"7906509d-3dfc-4fcc-a9ea-00ba19f511e2\" class=\"plotly-graph-div\" style=\"height:600px; width:2000px;\"></div>            <script type=\"text/javascript\">                                    window.PLOTLYENV=window.PLOTLYENV || {};                                    if (document.getElementById(\"7906509d-3dfc-4fcc-a9ea-00ba19f511e2\")) {                    Plotly.newPlot(                        \"7906509d-3dfc-4fcc-a9ea-00ba19f511e2\",                        [{\"alignmentgroup\":\"True\",\"hovertemplate\":\"x=%{x}\\u003cbr\\u003ey=%{y}\\u003cbr\\u003ecolor=%{marker.color}\\u003cextra\\u003e\\u003c\\u002fextra\\u003e\",\"legendgroup\":\"\",\"marker\":{\"color\":[27.95,23.09,17.31,17.02,16.5,15.92,15.83,15.22,15.21,14.08,13.98,13.87,13.57,13.42,13.38,12.24,11.47,11.36,11.26,11.21,10.91,9.92,9.88,9.37,9.08,8.64,7.81,7.39,7.15,6.98,6.94],\"coloraxis\":\"coloraxis\",\"pattern\":{\"shape\":\"\"}},\"name\":\"\",\"offsetgroup\":\"\",\"orientation\":\"v\",\"showlegend\":false,\"textposition\":\"auto\",\"x\":[1,10,30,22,3,4,25,12,13,2,15,24,16,23,27,11,9,14,5,26,8,21,18,6,17,7,28,29,31,20,19],\"xaxis\":\"x\",\"y\":[27.95,23.09,17.31,17.02,16.5,15.92,15.83,15.22,15.21,14.08,13.98,13.87,13.57,13.42,13.38,12.24,11.47,11.36,11.26,11.21,10.91,9.92,9.88,9.37,9.08,8.64,7.81,7.39,7.15,6.98,6.94],\"yaxis\":\"y\",\"type\":\"bar\"}],                        {\"template\":{\"data\":{\"histogram2dcontour\":[{\"type\":\"histogram2dcontour\",\"colorbar\":{\"outlinewidth\":0,\"ticks\":\"\"},\"colorscale\":[[0.0,\"#0d0887\"],[0.1111111111111111,\"#46039f\"],[0.2222222222222222,\"#7201a8\"],[0.3333333333333333,\"#9c179e\"],[0.4444444444444444,\"#bd3786\"],[0.5555555555555556,\"#d8576b\"],[0.6666666666666666,\"#ed7953\"],[0.7777777777777778,\"#fb9f3a\"],[0.8888888888888888,\"#fdca26\"],[1.0,\"#f0f921\"]]}],\"choropleth\":[{\"type\":\"choropleth\",\"colorbar\":{\"outlinewidth\":0,\"ticks\":\"\"}}],\"histogram2d\":[{\"type\":\"histogram2d\",\"colorbar\":{\"outlinewidth\":0,\"ticks\":\"\"},\"colorscale\":[[0.0,\"#0d0887\"],[0.1111111111111111,\"#46039f\"],[0.2222222222222222,\"#7201a8\"],[0.3333333333333333,\"#9c179e\"],[0.4444444444444444,\"#bd3786\"],[0.5555555555555556,\"#d8576b\"],[0.6666666666666666,\"#ed7953\"],[0.7777777777777778,\"#fb9f3a\"],[0.8888888888888888,\"#fdca26\"],[1.0,\"#f0f921\"]]}],\"heatmap\":[{\"type\":\"heatmap\",\"colorbar\":{\"outlinewidth\":0,\"ticks\":\"\"},\"colorscale\":[[0.0,\"#0d0887\"],[0.1111111111111111,\"#46039f\"],[0.2222222222222222,\"#7201a8\"],[0.3333333333333333,\"#9c179e\"],[0.4444444444444444,\"#bd3786\"],[0.5555555555555556,\"#d8576b\"],[0.6666666666666666,\"#ed7953\"],[0.7777777777777778,\"#fb9f3a\"],[0.8888888888888888,\"#fdca26\"],[1.0,\"#f0f921\"]]}],\"heatmapgl\":[{\"type\":\"heatmapgl\",\"colorbar\":{\"outlinewidth\":0,\"ticks\":\"\"},\"colorscale\":[[0.0,\"#0d0887\"],[0.1111111111111111,\"#46039f\"],[0.2222222222222222,\"#7201a8\"],[0.3333333333333333,\"#9c179e\"],[0.4444444444444444,\"#bd3786\"],[0.5555555555555556,\"#d8576b\"],[0.6666666666666666,\"#ed7953\"],[0.7777777777777778,\"#fb9f3a\"],[0.8888888888888888,\"#fdca26\"],[1.0,\"#f0f921\"]]}],\"contourcarpet\":[{\"type\":\"contourcarpet\",\"colorbar\":{\"outlinewidth\":0,\"ticks\":\"\"}}],\"contour\":[{\"type\":\"contour\",\"colorbar\":{\"outlinewidth\":0,\"ticks\":\"\"},\"colorscale\":[[0.0,\"#0d0887\"],[0.1111111111111111,\"#46039f\"],[0.2222222222222222,\"#7201a8\"],[0.3333333333333333,\"#9c179e\"],[0.4444444444444444,\"#bd3786\"],[0.5555555555555556,\"#d8576b\"],[0.6666666666666666,\"#ed7953\"],[0.7777777777777778,\"#fb9f3a\"],[0.8888888888888888,\"#fdca26\"],[1.0,\"#f0f921\"]]}],\"surface\":[{\"type\":\"surface\",\"colorbar\":{\"outlinewidth\":0,\"ticks\":\"\"},\"colorscale\":[[0.0,\"#0d0887\"],[0.1111111111111111,\"#46039f\"],[0.2222222222222222,\"#7201a8\"],[0.3333333333333333,\"#9c179e\"],[0.4444444444444444,\"#bd3786\"],[0.5555555555555556,\"#d8576b\"],[0.6666666666666666,\"#ed7953\"],[0.7777777777777778,\"#fb9f3a\"],[0.8888888888888888,\"#fdca26\"],[1.0,\"#f0f921\"]]}],\"mesh3d\":[{\"type\":\"mesh3d\",\"colorbar\":{\"outlinewidth\":0,\"ticks\":\"\"}}],\"scatter\":[{\"fillpattern\":{\"fillmode\":\"overlay\",\"size\":10,\"solidity\":0.2},\"type\":\"scatter\"}],\"parcoords\":[{\"type\":\"parcoords\",\"line\":{\"colorbar\":{\"outlinewidth\":0,\"ticks\":\"\"}}}],\"scatterpolargl\":[{\"type\":\"scatterpolargl\",\"marker\":{\"colorbar\":{\"outlinewidth\":0,\"ticks\":\"\"}}}],\"bar\":[{\"error_x\":{\"color\":\"#2a3f5f\"},\"error_y\":{\"color\":\"#2a3f5f\"},\"marker\":{\"line\":{\"color\":\"#E5ECF6\",\"width\":0.5},\"pattern\":{\"fillmode\":\"overlay\",\"size\":10,\"solidity\":0.2}},\"type\":\"bar\"}],\"scattergeo\":[{\"type\":\"scattergeo\",\"marker\":{\"colorbar\":{\"outlinewidth\":0,\"ticks\":\"\"}}}],\"scatterpolar\":[{\"type\":\"scatterpolar\",\"marker\":{\"colorbar\":{\"outlinewidth\":0,\"ticks\":\"\"}}}],\"histogram\":[{\"marker\":{\"pattern\":{\"fillmode\":\"overlay\",\"size\":10,\"solidity\":0.2}},\"type\":\"histogram\"}],\"scattergl\":[{\"type\":\"scattergl\",\"marker\":{\"colorbar\":{\"outlinewidth\":0,\"ticks\":\"\"}}}],\"scatter3d\":[{\"type\":\"scatter3d\",\"line\":{\"colorbar\":{\"outlinewidth\":0,\"ticks\":\"\"}},\"marker\":{\"colorbar\":{\"outlinewidth\":0,\"ticks\":\"\"}}}],\"scattermapbox\":[{\"type\":\"scattermapbox\",\"marker\":{\"colorbar\":{\"outlinewidth\":0,\"ticks\":\"\"}}}],\"scatterternary\":[{\"type\":\"scatterternary\",\"marker\":{\"colorbar\":{\"outlinewidth\":0,\"ticks\":\"\"}}}],\"scattercarpet\":[{\"type\":\"scattercarpet\",\"marker\":{\"colorbar\":{\"outlinewidth\":0,\"ticks\":\"\"}}}],\"carpet\":[{\"aaxis\":{\"endlinecolor\":\"#2a3f5f\",\"gridcolor\":\"white\",\"linecolor\":\"white\",\"minorgridcolor\":\"white\",\"startlinecolor\":\"#2a3f5f\"},\"baxis\":{\"endlinecolor\":\"#2a3f5f\",\"gridcolor\":\"white\",\"linecolor\":\"white\",\"minorgridcolor\":\"white\",\"startlinecolor\":\"#2a3f5f\"},\"type\":\"carpet\"}],\"table\":[{\"cells\":{\"fill\":{\"color\":\"#EBF0F8\"},\"line\":{\"color\":\"white\"}},\"header\":{\"fill\":{\"color\":\"#C8D4E3\"},\"line\":{\"color\":\"white\"}},\"type\":\"table\"}],\"barpolar\":[{\"marker\":{\"line\":{\"color\":\"#E5ECF6\",\"width\":0.5},\"pattern\":{\"fillmode\":\"overlay\",\"size\":10,\"solidity\":0.2}},\"type\":\"barpolar\"}],\"pie\":[{\"automargin\":true,\"type\":\"pie\"}]},\"layout\":{\"autotypenumbers\":\"strict\",\"colorway\":[\"#636efa\",\"#EF553B\",\"#00cc96\",\"#ab63fa\",\"#FFA15A\",\"#19d3f3\",\"#FF6692\",\"#B6E880\",\"#FF97FF\",\"#FECB52\"],\"font\":{\"color\":\"#2a3f5f\"},\"hovermode\":\"closest\",\"hoverlabel\":{\"align\":\"left\"},\"paper_bgcolor\":\"white\",\"plot_bgcolor\":\"#E5ECF6\",\"polar\":{\"bgcolor\":\"#E5ECF6\",\"angularaxis\":{\"gridcolor\":\"white\",\"linecolor\":\"white\",\"ticks\":\"\"},\"radialaxis\":{\"gridcolor\":\"white\",\"linecolor\":\"white\",\"ticks\":\"\"}},\"ternary\":{\"bgcolor\":\"#E5ECF6\",\"aaxis\":{\"gridcolor\":\"white\",\"linecolor\":\"white\",\"ticks\":\"\"},\"baxis\":{\"gridcolor\":\"white\",\"linecolor\":\"white\",\"ticks\":\"\"},\"caxis\":{\"gridcolor\":\"white\",\"linecolor\":\"white\",\"ticks\":\"\"}},\"coloraxis\":{\"colorbar\":{\"outlinewidth\":0,\"ticks\":\"\"}},\"colorscale\":{\"sequential\":[[0.0,\"#0d0887\"],[0.1111111111111111,\"#46039f\"],[0.2222222222222222,\"#7201a8\"],[0.3333333333333333,\"#9c179e\"],[0.4444444444444444,\"#bd3786\"],[0.5555555555555556,\"#d8576b\"],[0.6666666666666666,\"#ed7953\"],[0.7777777777777778,\"#fb9f3a\"],[0.8888888888888888,\"#fdca26\"],[1.0,\"#f0f921\"]],\"sequentialminus\":[[0.0,\"#0d0887\"],[0.1111111111111111,\"#46039f\"],[0.2222222222222222,\"#7201a8\"],[0.3333333333333333,\"#9c179e\"],[0.4444444444444444,\"#bd3786\"],[0.5555555555555556,\"#d8576b\"],[0.6666666666666666,\"#ed7953\"],[0.7777777777777778,\"#fb9f3a\"],[0.8888888888888888,\"#fdca26\"],[1.0,\"#f0f921\"]],\"diverging\":[[0,\"#8e0152\"],[0.1,\"#c51b7d\"],[0.2,\"#de77ae\"],[0.3,\"#f1b6da\"],[0.4,\"#fde0ef\"],[0.5,\"#f7f7f7\"],[0.6,\"#e6f5d0\"],[0.7,\"#b8e186\"],[0.8,\"#7fbc41\"],[0.9,\"#4d9221\"],[1,\"#276419\"]]},\"xaxis\":{\"gridcolor\":\"white\",\"linecolor\":\"white\",\"ticks\":\"\",\"title\":{\"standoff\":15},\"zerolinecolor\":\"white\",\"automargin\":true,\"zerolinewidth\":2},\"yaxis\":{\"gridcolor\":\"white\",\"linecolor\":\"white\",\"ticks\":\"\",\"title\":{\"standoff\":15},\"zerolinecolor\":\"white\",\"automargin\":true,\"zerolinewidth\":2},\"scene\":{\"xaxis\":{\"backgroundcolor\":\"#E5ECF6\",\"gridcolor\":\"white\",\"linecolor\":\"white\",\"showbackground\":true,\"ticks\":\"\",\"zerolinecolor\":\"white\",\"gridwidth\":2},\"yaxis\":{\"backgroundcolor\":\"#E5ECF6\",\"gridcolor\":\"white\",\"linecolor\":\"white\",\"showbackground\":true,\"ticks\":\"\",\"zerolinecolor\":\"white\",\"gridwidth\":2},\"zaxis\":{\"backgroundcolor\":\"#E5ECF6\",\"gridcolor\":\"white\",\"linecolor\":\"white\",\"showbackground\":true,\"ticks\":\"\",\"zerolinecolor\":\"white\",\"gridwidth\":2}},\"shapedefaults\":{\"line\":{\"color\":\"#2a3f5f\"}},\"annotationdefaults\":{\"arrowcolor\":\"#2a3f5f\",\"arrowhead\":0,\"arrowwidth\":1},\"geo\":{\"bgcolor\":\"white\",\"landcolor\":\"#E5ECF6\",\"subunitcolor\":\"white\",\"showland\":true,\"showlakes\":true,\"lakecolor\":\"white\"},\"title\":{\"x\":0.05},\"mapbox\":{\"style\":\"light\"}}},\"xaxis\":{\"anchor\":\"y\",\"domain\":[0.0,1.0],\"title\":{\"text\":\"x\"}},\"yaxis\":{\"anchor\":\"x\",\"domain\":[0.0,1.0],\"title\":{\"text\":\"y\"}},\"coloraxis\":{\"colorbar\":{\"title\":{\"text\":\"color\"}},\"colorscale\":[[0.0,\"#0d0887\"],[0.1111111111111111,\"#46039f\"],[0.2222222222222222,\"#7201a8\"],[0.3333333333333333,\"#9c179e\"],[0.4444444444444444,\"#bd3786\"],[0.5555555555555556,\"#d8576b\"],[0.6666666666666666,\"#ed7953\"],[0.7777777777777778,\"#fb9f3a\"],[0.8888888888888888,\"#fdca26\"],[1.0,\"#f0f921\"]]},\"legend\":{\"tracegroupgap\":0},\"margin\":{\"t\":60},\"barmode\":\"relative\",\"height\":600,\"width\":2000,\"showlegend\":false},                        {\"responsive\": true}                    ).then(function(){\n",
              "                            \n",
              "var gd = document.getElementById('7906509d-3dfc-4fcc-a9ea-00ba19f511e2');\n",
              "var x = new MutationObserver(function (mutations, observer) {{\n",
              "        var display = window.getComputedStyle(gd).display;\n",
              "        if (!display || display === 'none') {{\n",
              "            console.log([gd, 'removed!']);\n",
              "            Plotly.purge(gd);\n",
              "            observer.disconnect();\n",
              "        }}\n",
              "}});\n",
              "\n",
              "// Listen for the removal of the full notebook cells\n",
              "var notebookContainer = gd.closest('#notebook-container');\n",
              "if (notebookContainer) {{\n",
              "    x.observe(notebookContainer, {childList: true});\n",
              "}}\n",
              "\n",
              "// Listen for the clearing of the current output cell\n",
              "var outputEl = gd.closest('.output');\n",
              "if (outputEl) {{\n",
              "    x.observe(outputEl, {childList: true});\n",
              "}}\n",
              "\n",
              "                        })                };                            </script>        </div>\n",
              "</body>\n",
              "</html>"
            ]
          },
          "metadata": {}
        }
      ]
    },
    {
      "cell_type": "code",
      "source": [
        "#num_calls_vs_outcome\n",
        "num_calls_vs_outcome = pd.crosstab(customer_data[\"num_calls\"], customer_data[\"y\"])\n",
        "num_calls_vs_outcome[\"Convertion Rate in percent\"] = round(num_calls_vs_outcome[\"yes\"]/(num_calls_vs_outcome[\"yes\"]+num_calls_vs_outcome[\"no\"])*100, 2)\n",
        "num_calls_vs_outcome = num_calls_vs_outcome.sort_values(\"Convertion Rate in percent\", ascending = False)\n",
        "num_calls_vs_outcome\n",
        "\n",
        "#plot the figure\n",
        "fig_day = plt.figure(figsize = (20, 10))\n",
        "fig_day = sns.barplot(x = num_calls_vs_outcome.index,y =  num_calls_vs_outcome[\"Convertion Rate in percent\"].tolist(),data= num_calls_vs_outcome)"
      ],
      "metadata": {
        "colab": {
          "base_uri": "https://localhost:8080/",
          "height": 754
        },
        "id": "uKKFYueQVak-",
        "outputId": "2b35b738-93c6-4551-9a1c-27c8eddf83e4"
      },
      "execution_count": 39,
      "outputs": [
        {
          "output_type": "display_data",
          "data": {
            "text/plain": [
              "<Figure size 2000x1000 with 1 Axes>"
            ],
            "image/png": "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\n"
          },
          "metadata": {}
        }
      ]
    },
    {
      "cell_type": "markdown",
      "source": [
        "Intution by Number of calls :\n",
        "\n",
        "1. Maximum threshold limit for number of calls to a single customer is 17\n",
        "2. After 17 calls if the customer is not responding in positive way means, the customer have very least chance of convertion."
      ],
      "metadata": {
        "id": "FkfQDbfxVxyz"
      }
    },
    {
      "cell_type": "markdown",
      "source": [
        "Removing outliers in Number of Calls"
      ],
      "metadata": {
        "id": "Nrg1LVp3V9Ej"
      }
    },
    {
      "cell_type": "code",
      "source": [
        "#encode the data\n",
        "num_call_encode1 = {}\n",
        "for i in customer_data[\"num_calls\"].unique():\n",
        "  if i > 18:\n",
        "    num_call_encode1[i] = 18\n",
        "  elif i <= 18:\n",
        "    num_call_encode1[i] = i\n",
        "\n",
        "data_22 = customer_data.copy()\n",
        "data_22[\"num_calls\"] = data_22[\"num_calls\"].map(num_call_encode1)\n",
        "\n",
        "#encoded data\n",
        "num_calls_encoded_vs_outcome = pd.crosstab(data_22[\"num_calls\"], customer_data[\"y\"])\n",
        "num_calls_encoded_vs_outcome[\"Convertion Rate in percent\"] = round(num_calls_encoded_vs_outcome[\"yes\"]/(num_calls_encoded_vs_outcome[\"yes\"]+num_calls_encoded_vs_outcome[\"no\"])*100, 2)\n",
        "num_calls_encoded_vs_outcome = num_calls_encoded_vs_outcome.sort_values(\"Convertion Rate in percent\", ascending = False)\n",
        "num_calls_encoded_vs_outcome\n",
        "\n",
        "#plot the figure\n",
        "fig_day_encoded = plt.figure(figsize = (20, 10))\n",
        "fig_day_encoded = sns.barplot(x = num_calls_encoded_vs_outcome.index,y =  num_calls_encoded_vs_outcome[\"Convertion Rate in percent\"].tolist(),data= num_calls_encoded_vs_outcome)"
      ],
      "metadata": {
        "colab": {
          "base_uri": "https://localhost:8080/",
          "height": 754
        },
        "id": "DLSdNW8XVxiZ",
        "outputId": "65603764-750b-4e8b-d1dc-e9cee0619a2c"
      },
      "execution_count": 40,
      "outputs": [
        {
          "output_type": "display_data",
          "data": {
            "text/plain": [
              "<Figure size 2000x1000 with 1 Axes>"
            ],
            "image/png": "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\n"
          },
          "metadata": {}
        }
      ]
    },
    {
      "cell_type": "code",
      "source": [
        "#Duration vs Outcome\n",
        "fig_dur = plt.figure(figsize = (30, 5))\n",
        "plt.subplot(1, 2, 1)\n",
        "sns.boxplot(x = \"dur\", data = customer_data[customer_data[\"y\"] == \"yes\"])\n",
        "plt.title(\"Customers\")\n",
        "\n",
        "plt.subplot(1, 2, 2)\n",
        "sns.boxplot(x = \"dur\", data = customer_data[customer_data[\"y\"] == \"no\"])\n",
        "plt.title(\"Non Customers\")"
      ],
      "metadata": {
        "colab": {
          "base_uri": "https://localhost:8080/",
          "height": 317
        },
        "id": "jdAPNCQOXYnt",
        "outputId": "ca1ea771-8ac7-42d5-ec8c-b73bcbb707e7"
      },
      "execution_count": 42,
      "outputs": [
        {
          "output_type": "execute_result",
          "data": {
            "text/plain": [
              "Text(0.5, 1.0, 'Non Customers')"
            ]
          },
          "metadata": {},
          "execution_count": 42
        },
        {
          "output_type": "display_data",
          "data": {
            "text/plain": [
              "<Figure size 3000x500 with 2 Axes>"
            ],
            "image/png": "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\n"
          },
          "metadata": {}
        }
      ]
    },
    {
      "cell_type": "markdown",
      "source": [
        "# Model Building"
      ],
      "metadata": {
        "id": "t_wjGtsBX72f"
      }
    },
    {
      "cell_type": "code",
      "source": [
        "#importing the Libraries\n",
        "from sklearn.preprocessing import StandardScaler, MinMaxScaler\n",
        "from sklearn.preprocessing import LabelEncoder\n",
        "from sklearn.model_selection import train_test_split\n",
        "from sklearn.model_selection import RandomizedSearchCV, GridSearchCV, cross_val_score\n",
        "from sklearn.linear_model import LogisticRegression\n",
        "from sklearn.tree import DecisionTreeClassifier\n",
        "from sklearn.ensemble import RandomForestClassifier\n",
        "from xgboost import XGBClassifier\n",
        "from sklearn.neighbors import KNeighborsClassifier\n",
        "from sklearn.ensemble import VotingClassifier\n",
        "from sklearn.svm import SVC\n",
        "from sklearn.impute import KNNImputer\n",
        "from imblearn.over_sampling import SMOTE\n",
        "from sklearn.metrics import accuracy_score, confusion_matrix, precision_score, f1_score, recall_score, classification_report, roc_curve, roc_auc_score\n",
        "from sklearn.metrics import ConfusionMatrixDisplay, confusion_matrix"
      ],
      "metadata": {
        "id": "7Lg1JunpYCxv"
      },
      "execution_count": 44,
      "outputs": []
    },
    {
      "cell_type": "code",
      "source": [
        "#Encoding each features\n",
        "job_encode = {\"blue-collar\" : 1,\n",
        "              \"entrepreneur\" : 2,\n",
        "              \"services\" : 3,\n",
        "              \"housemaid\" : 4,\n",
        "              \"technician\" : 5,\n",
        "              \"self-employed\" : 6,\n",
        "              \"admin\" : 7,\n",
        "              \"management\" : 8,\n",
        "              \"unemployed\" : 9,\n",
        "              \"retired\" : 10,\n",
        "              \"student\" : 11}\n",
        "\n",
        "marital_encoded = {\"married\" : 1,\n",
        "                   \"divorced\" : 2,\n",
        "                   \"single\" : 3}\n",
        "\n",
        "education_qual_encoded = {\"primary\" : 1,\n",
        "                          \"secondary\" : 2,\n",
        "                          \"tertiary\" : 3}\n",
        "\n",
        "month_encoded = {\"may\" : 0, \"jul\" : 1, \"jan\" : 2, \"nov\" : 3, \"jun\" : 4, \"aug\" : 5, \"feb\" : 6, \"apr\" : 7, \"oct\" : 8, \"dec\" : 9, \"sep\" : 10, \"mar\" : 11}\n",
        "\n",
        "day_encode = {19 : 1, 20 : 2, 31 : 3, 29 : 4, 28 : 5, 7: 6, 17 : 7, 6:8, 18:9, 21:10, 8:11, 26:12, 5:13, 14:14, 9:15, 11:16, 27:17, 23:18, 16:19, 24:20, 15:21, 2:22, 13:23, 12:24, 25:25, 4:26, 3:27, 22:28, 30:29, 10:30, 1:31}\n",
        "\n",
        "Y = {\"yes\" : 1, \"no\" : 0}\n",
        "\n",
        "call_type = {\"telephone\" : 2, \"cellular\" : 3, \"unknown\" : 1}\n",
        "\n",
        "prev_outcome = {\"success\" : 4, \"other\" : 3, \"failure\" : 2, \"unknown\" : 1}\n",
        "\n",
        "num_call_encode1 = {}\n",
        "calls_list = [ 1,  2,  3,  5,  4,  6,  7,  8,  9, 10, 11, 12, 13, 19, 14, 24, 16,32, 18, 22, 15, 17, 25, 21, 43, 51, 63, 41, 26, 28, 55, 50, 38, 23,20, 29, 31, 37, 30, 46, 27, 58, 33, 35, 34, 36, 39, 44]\n",
        "for i in calls_list:\n",
        "  if i > 18:\n",
        "    num_call_encode1[i] = 18\n",
        "  elif i <= 18:\n",
        "    num_call_encode1[i] = i\n",
        "\n",
        "num_calls_encode2 = {}\n",
        "for i, j in zip([18, 16, 12, 14, 13, 15, 10, 8, 7, 9, 6, 5, 11, 17, 4, 3, 2, 1], range(1, 49)):\n",
        "  num_calls_encode2[i] = j\n"
      ],
      "metadata": {
        "id": "cG4CrsKYZEx2"
      },
      "execution_count": 45,
      "outputs": []
    },
    {
      "cell_type": "code",
      "source": [
        "#Create a copy of dataset and map the new encoded values into new dataset\n",
        "data_2 = customer_data.copy()\n",
        "data_2[\"job\"] = data_2[\"job\"].replace(\"unknown\", NaN)\n",
        "data_2[\"job\"] = data_2[\"job\"].replace(\"admin.\", \"admin\")\n",
        "data_2[\"education_qual\"] = data_2[\"education_qual\"].replace(\"unknown\", NaN)\n",
        "data_2[\"Job\"] = data_2[\"job\"].map(job_encode)\n",
        "data_2[\"Education_qual\"] = data_2[\"education_qual\"].map(education_qual_encoded)\n",
        "data_2[\"Month\"] = data_2[\"mon\"].map(month_encoded)\n",
        "data_2[\"outcome\"] = data_2[\"y\"].map(Y)\n",
        "data_2[\"Call_type\"] = data_2[\"call_type\"].map(call_type)\n",
        "data_2[\"Marital\"] = data_2[\"marital\"].map(marital_encoded)\n",
        "data_2[\"Prev_outcome\"] = data_2[\"prev_outcome\"].map(prev_outcome)\n",
        "data_2[\"Day\"] = data_2[\"day\"].map(day_encode)\n",
        "data_2[\"num_calls\"] = data_2[\"num_calls\"].map(num_call_encode1)\n",
        "data_2[\"num_calls\"] = data_2[\"num_calls\"].map(num_calls_encode2)\n",
        "data_2.drop([\"job\", \"education_qual\", \"mon\", \"y\", \"call_type\",\"prev_outcome\", \"marital\"],axis = 1, inplace = True)\n",
        "\n",
        "#Rearranged the columns for our convinence\n",
        "data_2 = data_2[[\"age\", \"Marital\",\"Education_qual\",\"Job\",\"Month\",\"Call_type\", \"Day\",\"dur\", \"num_calls\", \"Prev_outcome\",\"outcome\"]]\n"
      ],
      "metadata": {
        "id": "RldvXzV8ZlQ7"
      },
      "execution_count": 46,
      "outputs": []
    },
    {
      "cell_type": "code",
      "source": [
        "#after encoding find the unknown values in data\n",
        "data_2.isnull().sum()"
      ],
      "metadata": {
        "colab": {
          "base_uri": "https://localhost:8080/"
        },
        "id": "yJJCSg-Faam2",
        "outputId": "bb3bde08-23e0-4bca-8e68-d5ad5c2e2c90"
      },
      "execution_count": 47,
      "outputs": [
        {
          "output_type": "execute_result",
          "data": {
            "text/plain": [
              "age                  0\n",
              "Marital              0\n",
              "Education_qual    1857\n",
              "Job                288\n",
              "Month                0\n",
              "Call_type            0\n",
              "Day                  0\n",
              "dur                  0\n",
              "num_calls            0\n",
              "Prev_outcome         0\n",
              "outcome              0\n",
              "dtype: int64"
            ]
          },
          "metadata": {},
          "execution_count": 47
        }
      ]
    },
    {
      "cell_type": "markdown",
      "source": [
        "In Educational Qualification we have 1857 missing values and in Job we have 288 missing Values.\n",
        "\n"
      ],
      "metadata": {
        "id": "dS0oPiXEbBc2"
      }
    },
    {
      "cell_type": "code",
      "source": [
        "imputer = KNNImputer()\n",
        "data_2 = imputer.fit_transform(data_2)\n",
        "data_2 = pd.DataFrame(data_2 ,columns = [\"age\", \"Marital\",\"Education_qual\",\"Job\",\"Month\",\"Call_type\", \"day\",\"dur\", \"Num_calls\", \"Prev_outcome\",\"outcome\"])\n",
        "data_2 = data_2[data_2.columns].astype(int)\n",
        "data_2.isnull().sum()"
      ],
      "metadata": {
        "colab": {
          "base_uri": "https://localhost:8080/"
        },
        "id": "JYCA6FCnau_t",
        "outputId": "20c2565f-2acb-455e-c40f-5db1e7d55953"
      },
      "execution_count": 48,
      "outputs": [
        {
          "output_type": "execute_result",
          "data": {
            "text/plain": [
              "age               0\n",
              "Marital           0\n",
              "Education_qual    0\n",
              "Job               0\n",
              "Month             0\n",
              "Call_type         0\n",
              "day               0\n",
              "dur               0\n",
              "Num_calls         0\n",
              "Prev_outcome      0\n",
              "outcome           0\n",
              "dtype: int64"
            ]
          },
          "metadata": {},
          "execution_count": 48
        }
      ]
    },
    {
      "cell_type": "markdown",
      "source": [
        "KNN Imputer:\n",
        "\n",
        "Using KNN Imputer, we're filling in missing values by estimating them based on the characteristics of similar neighboring data points."
      ],
      "metadata": {
        "id": "G35NY5itblnC"
      }
    },
    {
      "cell_type": "code",
      "source": [
        "data_2.head()"
      ],
      "metadata": {
        "colab": {
          "base_uri": "https://localhost:8080/",
          "height": 206
        },
        "id": "XzK8jUZRbiIi",
        "outputId": "4cc8d605-7f46-4f2e-99a8-7b906ea5a497"
      },
      "execution_count": 49,
      "outputs": [
        {
          "output_type": "execute_result",
          "data": {
            "text/plain": [
              "   age  Marital  Education_qual  Job  Month  Call_type  day  dur  Num_calls  \\\n",
              "0   58        1               3    8      0          1   13  261         18   \n",
              "1   44        3               2    5      0          1   13  151         18   \n",
              "2   33        1               2    2      0          1   13   76         18   \n",
              "3   47        1               1    1      0          1   13   92         18   \n",
              "4   33        3               1    4      0          1   13  198         18   \n",
              "\n",
              "   Prev_outcome  outcome  \n",
              "0             1        0  \n",
              "1             1        0  \n",
              "2             1        0  \n",
              "3             1        0  \n",
              "4             1        0  "
            ],
            "text/html": [
              "\n",
              "  <div id=\"df-05777358-474c-460a-9516-d93a93fce3e4\" class=\"colab-df-container\">\n",
              "    <div>\n",
              "<style scoped>\n",
              "    .dataframe tbody tr th:only-of-type {\n",
              "        vertical-align: middle;\n",
              "    }\n",
              "\n",
              "    .dataframe tbody tr th {\n",
              "        vertical-align: top;\n",
              "    }\n",
              "\n",
              "    .dataframe thead th {\n",
              "        text-align: right;\n",
              "    }\n",
              "</style>\n",
              "<table border=\"1\" class=\"dataframe\">\n",
              "  <thead>\n",
              "    <tr style=\"text-align: right;\">\n",
              "      <th></th>\n",
              "      <th>age</th>\n",
              "      <th>Marital</th>\n",
              "      <th>Education_qual</th>\n",
              "      <th>Job</th>\n",
              "      <th>Month</th>\n",
              "      <th>Call_type</th>\n",
              "      <th>day</th>\n",
              "      <th>dur</th>\n",
              "      <th>Num_calls</th>\n",
              "      <th>Prev_outcome</th>\n",
              "      <th>outcome</th>\n",
              "    </tr>\n",
              "  </thead>\n",
              "  <tbody>\n",
              "    <tr>\n",
              "      <th>0</th>\n",
              "      <td>58</td>\n",
              "      <td>1</td>\n",
              "      <td>3</td>\n",
              "      <td>8</td>\n",
              "      <td>0</td>\n",
              "      <td>1</td>\n",
              "      <td>13</td>\n",
              "      <td>261</td>\n",
              "      <td>18</td>\n",
              "      <td>1</td>\n",
              "      <td>0</td>\n",
              "    </tr>\n",
              "    <tr>\n",
              "      <th>1</th>\n",
              "      <td>44</td>\n",
              "      <td>3</td>\n",
              "      <td>2</td>\n",
              "      <td>5</td>\n",
              "      <td>0</td>\n",
              "      <td>1</td>\n",
              "      <td>13</td>\n",
              "      <td>151</td>\n",
              "      <td>18</td>\n",
              "      <td>1</td>\n",
              "      <td>0</td>\n",
              "    </tr>\n",
              "    <tr>\n",
              "      <th>2</th>\n",
              "      <td>33</td>\n",
              "      <td>1</td>\n",
              "      <td>2</td>\n",
              "      <td>2</td>\n",
              "      <td>0</td>\n",
              "      <td>1</td>\n",
              "      <td>13</td>\n",
              "      <td>76</td>\n",
              "      <td>18</td>\n",
              "      <td>1</td>\n",
              "      <td>0</td>\n",
              "    </tr>\n",
              "    <tr>\n",
              "      <th>3</th>\n",
              "      <td>47</td>\n",
              "      <td>1</td>\n",
              "      <td>1</td>\n",
              "      <td>1</td>\n",
              "      <td>0</td>\n",
              "      <td>1</td>\n",
              "      <td>13</td>\n",
              "      <td>92</td>\n",
              "      <td>18</td>\n",
              "      <td>1</td>\n",
              "      <td>0</td>\n",
              "    </tr>\n",
              "    <tr>\n",
              "      <th>4</th>\n",
              "      <td>33</td>\n",
              "      <td>3</td>\n",
              "      <td>1</td>\n",
              "      <td>4</td>\n",
              "      <td>0</td>\n",
              "      <td>1</td>\n",
              "      <td>13</td>\n",
              "      <td>198</td>\n",
              "      <td>18</td>\n",
              "      <td>1</td>\n",
              "      <td>0</td>\n",
              "    </tr>\n",
              "  </tbody>\n",
              "</table>\n",
              "</div>\n",
              "    <div class=\"colab-df-buttons\">\n",
              "\n",
              "  <div class=\"colab-df-container\">\n",
              "    <button class=\"colab-df-convert\" onclick=\"convertToInteractive('df-05777358-474c-460a-9516-d93a93fce3e4')\"\n",
              "            title=\"Convert this dataframe to an interactive table.\"\n",
              "            style=\"display:none;\">\n",
              "\n",
              "  <svg xmlns=\"http://www.w3.org/2000/svg\" height=\"24px\" viewBox=\"0 -960 960 960\">\n",
              "    <path d=\"M120-120v-720h720v720H120Zm60-500h600v-160H180v160Zm220 220h160v-160H400v160Zm0 220h160v-160H400v160ZM180-400h160v-160H180v160Zm440 0h160v-160H620v160ZM180-180h160v-160H180v160Zm440 0h160v-160H620v160Z\"/>\n",
              "  </svg>\n",
              "    </button>\n",
              "\n",
              "  <style>\n",
              "    .colab-df-container {\n",
              "      display:flex;\n",
              "      gap: 12px;\n",
              "    }\n",
              "\n",
              "    .colab-df-convert {\n",
              "      background-color: #E8F0FE;\n",
              "      border: none;\n",
              "      border-radius: 50%;\n",
              "      cursor: pointer;\n",
              "      display: none;\n",
              "      fill: #1967D2;\n",
              "      height: 32px;\n",
              "      padding: 0 0 0 0;\n",
              "      width: 32px;\n",
              "    }\n",
              "\n",
              "    .colab-df-convert:hover {\n",
              "      background-color: #E2EBFA;\n",
              "      box-shadow: 0px 1px 2px rgba(60, 64, 67, 0.3), 0px 1px 3px 1px rgba(60, 64, 67, 0.15);\n",
              "      fill: #174EA6;\n",
              "    }\n",
              "\n",
              "    .colab-df-buttons div {\n",
              "      margin-bottom: 4px;\n",
              "    }\n",
              "\n",
              "    [theme=dark] .colab-df-convert {\n",
              "      background-color: #3B4455;\n",
              "      fill: #D2E3FC;\n",
              "    }\n",
              "\n",
              "    [theme=dark] .colab-df-convert:hover {\n",
              "      background-color: #434B5C;\n",
              "      box-shadow: 0px 1px 3px 1px rgba(0, 0, 0, 0.15);\n",
              "      filter: drop-shadow(0px 1px 2px rgba(0, 0, 0, 0.3));\n",
              "      fill: #FFFFFF;\n",
              "    }\n",
              "  </style>\n",
              "\n",
              "    <script>\n",
              "      const buttonEl =\n",
              "        document.querySelector('#df-05777358-474c-460a-9516-d93a93fce3e4 button.colab-df-convert');\n",
              "      buttonEl.style.display =\n",
              "        google.colab.kernel.accessAllowed ? 'block' : 'none';\n",
              "\n",
              "      async function convertToInteractive(key) {\n",
              "        const element = document.querySelector('#df-05777358-474c-460a-9516-d93a93fce3e4');\n",
              "        const dataTable =\n",
              "          await google.colab.kernel.invokeFunction('convertToInteractive',\n",
              "                                                    [key], {});\n",
              "        if (!dataTable) return;\n",
              "\n",
              "        const docLinkHtml = 'Like what you see? Visit the ' +\n",
              "          '<a target=\"_blank\" href=https://colab.research.google.com/notebooks/data_table.ipynb>data table notebook</a>'\n",
              "          + ' to learn more about interactive tables.';\n",
              "        element.innerHTML = '';\n",
              "        dataTable['output_type'] = 'display_data';\n",
              "        await google.colab.output.renderOutput(dataTable, element);\n",
              "        const docLink = document.createElement('div');\n",
              "        docLink.innerHTML = docLinkHtml;\n",
              "        element.appendChild(docLink);\n",
              "      }\n",
              "    </script>\n",
              "  </div>\n",
              "\n",
              "\n",
              "<div id=\"df-5544dcab-af42-4e16-8199-b55dc5f5611e\">\n",
              "  <button class=\"colab-df-quickchart\" onclick=\"quickchart('df-5544dcab-af42-4e16-8199-b55dc5f5611e')\"\n",
              "            title=\"Suggest charts\"\n",
              "            style=\"display:none;\">\n",
              "\n",
              "<svg xmlns=\"http://www.w3.org/2000/svg\" height=\"24px\"viewBox=\"0 0 24 24\"\n",
              "     width=\"24px\">\n",
              "    <g>\n",
              "        <path d=\"M19 3H5c-1.1 0-2 .9-2 2v14c0 1.1.9 2 2 2h14c1.1 0 2-.9 2-2V5c0-1.1-.9-2-2-2zM9 17H7v-7h2v7zm4 0h-2V7h2v10zm4 0h-2v-4h2v4z\"/>\n",
              "    </g>\n",
              "</svg>\n",
              "  </button>\n",
              "\n",
              "<style>\n",
              "  .colab-df-quickchart {\n",
              "      --bg-color: #E8F0FE;\n",
              "      --fill-color: #1967D2;\n",
              "      --hover-bg-color: #E2EBFA;\n",
              "      --hover-fill-color: #174EA6;\n",
              "      --disabled-fill-color: #AAA;\n",
              "      --disabled-bg-color: #DDD;\n",
              "  }\n",
              "\n",
              "  [theme=dark] .colab-df-quickchart {\n",
              "      --bg-color: #3B4455;\n",
              "      --fill-color: #D2E3FC;\n",
              "      --hover-bg-color: #434B5C;\n",
              "      --hover-fill-color: #FFFFFF;\n",
              "      --disabled-bg-color: #3B4455;\n",
              "      --disabled-fill-color: #666;\n",
              "  }\n",
              "\n",
              "  .colab-df-quickchart {\n",
              "    background-color: var(--bg-color);\n",
              "    border: none;\n",
              "    border-radius: 50%;\n",
              "    cursor: pointer;\n",
              "    display: none;\n",
              "    fill: var(--fill-color);\n",
              "    height: 32px;\n",
              "    padding: 0;\n",
              "    width: 32px;\n",
              "  }\n",
              "\n",
              "  .colab-df-quickchart:hover {\n",
              "    background-color: var(--hover-bg-color);\n",
              "    box-shadow: 0 1px 2px rgba(60, 64, 67, 0.3), 0 1px 3px 1px rgba(60, 64, 67, 0.15);\n",
              "    fill: var(--button-hover-fill-color);\n",
              "  }\n",
              "\n",
              "  .colab-df-quickchart-complete:disabled,\n",
              "  .colab-df-quickchart-complete:disabled:hover {\n",
              "    background-color: var(--disabled-bg-color);\n",
              "    fill: var(--disabled-fill-color);\n",
              "    box-shadow: none;\n",
              "  }\n",
              "\n",
              "  .colab-df-spinner {\n",
              "    border: 2px solid var(--fill-color);\n",
              "    border-color: transparent;\n",
              "    border-bottom-color: var(--fill-color);\n",
              "    animation:\n",
              "      spin 1s steps(1) infinite;\n",
              "  }\n",
              "\n",
              "  @keyframes spin {\n",
              "    0% {\n",
              "      border-color: transparent;\n",
              "      border-bottom-color: var(--fill-color);\n",
              "      border-left-color: var(--fill-color);\n",
              "    }\n",
              "    20% {\n",
              "      border-color: transparent;\n",
              "      border-left-color: var(--fill-color);\n",
              "      border-top-color: var(--fill-color);\n",
              "    }\n",
              "    30% {\n",
              "      border-color: transparent;\n",
              "      border-left-color: var(--fill-color);\n",
              "      border-top-color: var(--fill-color);\n",
              "      border-right-color: var(--fill-color);\n",
              "    }\n",
              "    40% {\n",
              "      border-color: transparent;\n",
              "      border-right-color: var(--fill-color);\n",
              "      border-top-color: var(--fill-color);\n",
              "    }\n",
              "    60% {\n",
              "      border-color: transparent;\n",
              "      border-right-color: var(--fill-color);\n",
              "    }\n",
              "    80% {\n",
              "      border-color: transparent;\n",
              "      border-right-color: var(--fill-color);\n",
              "      border-bottom-color: var(--fill-color);\n",
              "    }\n",
              "    90% {\n",
              "      border-color: transparent;\n",
              "      border-bottom-color: var(--fill-color);\n",
              "    }\n",
              "  }\n",
              "</style>\n",
              "\n",
              "  <script>\n",
              "    async function quickchart(key) {\n",
              "      const quickchartButtonEl =\n",
              "        document.querySelector('#' + key + ' button');\n",
              "      quickchartButtonEl.disabled = true;  // To prevent multiple clicks.\n",
              "      quickchartButtonEl.classList.add('colab-df-spinner');\n",
              "      try {\n",
              "        const charts = await google.colab.kernel.invokeFunction(\n",
              "            'suggestCharts', [key], {});\n",
              "      } catch (error) {\n",
              "        console.error('Error during call to suggestCharts:', error);\n",
              "      }\n",
              "      quickchartButtonEl.classList.remove('colab-df-spinner');\n",
              "      quickchartButtonEl.classList.add('colab-df-quickchart-complete');\n",
              "    }\n",
              "    (() => {\n",
              "      let quickchartButtonEl =\n",
              "        document.querySelector('#df-5544dcab-af42-4e16-8199-b55dc5f5611e button');\n",
              "      quickchartButtonEl.style.display =\n",
              "        google.colab.kernel.accessAllowed ? 'block' : 'none';\n",
              "    })();\n",
              "  </script>\n",
              "</div>\n",
              "    </div>\n",
              "  </div>\n"
            ]
          },
          "metadata": {},
          "execution_count": 49
        }
      ]
    },
    {
      "cell_type": "code",
      "source": [
        "#Seperating the Feature data and Outcome\n",
        "X = data_2.drop([\"outcome\"], axis=  1)\n",
        "y = data_2[\"outcome\"]\n",
        "\n",
        "#Reshaping the data using numpy array\n",
        "X = np.array(X).reshape(data_2.shape[0], -1)\n",
        "y = np.array(y).reshape(-1, 1).flatten()"
      ],
      "metadata": {
        "id": "ozmxOcDbb1sP"
      },
      "execution_count": 50,
      "outputs": []
    },
    {
      "cell_type": "markdown",
      "source": [
        "Train - Test Split"
      ],
      "metadata": {
        "id": "rCXdiuZ4cc2z"
      }
    },
    {
      "cell_type": "code",
      "source": [
        "#splitting\n",
        "X_train, X_test, y_train, y_test = train_test_split(X, y, test_size = 0.3, random_state = 8)\n",
        "\n",
        "#Here SMOTE technique is used to handle imbalanced dataset\n",
        "smote = SMOTE(random_state = 7, sampling_strategy = \"all\")\n",
        "s_X_train, s_y_train = smote.fit_resample(X_train, y_train)"
      ],
      "metadata": {
        "id": "FGM7f9CScgAa"
      },
      "execution_count": 51,
      "outputs": []
    },
    {
      "cell_type": "markdown",
      "source": [
        "**Logistic Regression**"
      ],
      "metadata": {
        "id": "zOeOKtQJdO4v"
      }
    },
    {
      "cell_type": "code",
      "source": [
        "log = LogisticRegression()\n",
        "log.fit(s_X_train, s_y_train)\n",
        "y_pred_log = log.predict(X_test)\n",
        "y_predict_prob_log = log.predict_proba(X_test)\n",
        "score_log = roc_auc_score(y_test, y_predict_prob_log[:, 1])\n",
        "acc_log = accuracy_score(y_test, y_pred_log)\n",
        "print( \"ROC score : \",score_log, \"Train score : \",log.score(s_X_train, s_y_train), \"Test score : \",log.score(X_test, y_test),\"Accuracy Score : \",acc_log)"
      ],
      "metadata": {
        "colab": {
          "base_uri": "https://localhost:8080/"
        },
        "id": "teoWr3qEdRVg",
        "outputId": "b062bbf4-17b5-4192-8fdb-1ac2e79cfeb0"
      },
      "execution_count": 52,
      "outputs": [
        {
          "output_type": "stream",
          "name": "stdout",
          "text": [
            "ROC score :  0.8654248403871898 Train score :  0.7902752949588845 Test score :  0.7904747861987614 Accuracy Score :  0.7904747861987614\n"
          ]
        },
        {
          "output_type": "stream",
          "name": "stderr",
          "text": [
            "/usr/local/lib/python3.10/dist-packages/sklearn/linear_model/_logistic.py:458: ConvergenceWarning:\n",
            "\n",
            "lbfgs failed to converge (status=1):\n",
            "STOP: TOTAL NO. of ITERATIONS REACHED LIMIT.\n",
            "\n",
            "Increase the number of iterations (max_iter) or scale the data as shown in:\n",
            "    https://scikit-learn.org/stable/modules/preprocessing.html\n",
            "Please also refer to the documentation for alternative solver options:\n",
            "    https://scikit-learn.org/stable/modules/linear_model.html#logistic-regression\n",
            "\n"
          ]
        }
      ]
    },
    {
      "cell_type": "code",
      "source": [
        "con_mat_log = pd.DataFrame(confusion_matrix(y_test,y_pred_log),index = [\"Act possitive(Non Customer)\", \"At Negative(Customer)\"], columns = [\"Pred Possitive(Non Customer)\", \"Pred Negative(Customer)\"])\n",
        "con_mat_log"
      ],
      "metadata": {
        "colab": {
          "base_uri": "https://localhost:8080/",
          "height": 112
        },
        "id": "OSM5aApHdaky",
        "outputId": "9aa8029b-1fcc-4d70-9e07-c10f61fbb4c4"
      },
      "execution_count": 53,
      "outputs": [
        {
          "output_type": "execute_result",
          "data": {
            "text/plain": [
              "                             Pred Possitive(Non Customer)  \\\n",
              "Act possitive(Non Customer)                          9473   \n",
              "At Negative(Customer)                                 363   \n",
              "\n",
              "                             Pred Negative(Customer)  \n",
              "Act possitive(Non Customer)                     2479  \n",
              "At Negative(Customer)                           1249  "
            ],
            "text/html": [
              "\n",
              "  <div id=\"df-601a11ee-c069-4229-841b-2fa99c6e322d\" class=\"colab-df-container\">\n",
              "    <div>\n",
              "<style scoped>\n",
              "    .dataframe tbody tr th:only-of-type {\n",
              "        vertical-align: middle;\n",
              "    }\n",
              "\n",
              "    .dataframe tbody tr th {\n",
              "        vertical-align: top;\n",
              "    }\n",
              "\n",
              "    .dataframe thead th {\n",
              "        text-align: right;\n",
              "    }\n",
              "</style>\n",
              "<table border=\"1\" class=\"dataframe\">\n",
              "  <thead>\n",
              "    <tr style=\"text-align: right;\">\n",
              "      <th></th>\n",
              "      <th>Pred Possitive(Non Customer)</th>\n",
              "      <th>Pred Negative(Customer)</th>\n",
              "    </tr>\n",
              "  </thead>\n",
              "  <tbody>\n",
              "    <tr>\n",
              "      <th>Act possitive(Non Customer)</th>\n",
              "      <td>9473</td>\n",
              "      <td>2479</td>\n",
              "    </tr>\n",
              "    <tr>\n",
              "      <th>At Negative(Customer)</th>\n",
              "      <td>363</td>\n",
              "      <td>1249</td>\n",
              "    </tr>\n",
              "  </tbody>\n",
              "</table>\n",
              "</div>\n",
              "    <div class=\"colab-df-buttons\">\n",
              "\n",
              "  <div class=\"colab-df-container\">\n",
              "    <button class=\"colab-df-convert\" onclick=\"convertToInteractive('df-601a11ee-c069-4229-841b-2fa99c6e322d')\"\n",
              "            title=\"Convert this dataframe to an interactive table.\"\n",
              "            style=\"display:none;\">\n",
              "\n",
              "  <svg xmlns=\"http://www.w3.org/2000/svg\" height=\"24px\" viewBox=\"0 -960 960 960\">\n",
              "    <path d=\"M120-120v-720h720v720H120Zm60-500h600v-160H180v160Zm220 220h160v-160H400v160Zm0 220h160v-160H400v160ZM180-400h160v-160H180v160Zm440 0h160v-160H620v160ZM180-180h160v-160H180v160Zm440 0h160v-160H620v160Z\"/>\n",
              "  </svg>\n",
              "    </button>\n",
              "\n",
              "  <style>\n",
              "    .colab-df-container {\n",
              "      display:flex;\n",
              "      gap: 12px;\n",
              "    }\n",
              "\n",
              "    .colab-df-convert {\n",
              "      background-color: #E8F0FE;\n",
              "      border: none;\n",
              "      border-radius: 50%;\n",
              "      cursor: pointer;\n",
              "      display: none;\n",
              "      fill: #1967D2;\n",
              "      height: 32px;\n",
              "      padding: 0 0 0 0;\n",
              "      width: 32px;\n",
              "    }\n",
              "\n",
              "    .colab-df-convert:hover {\n",
              "      background-color: #E2EBFA;\n",
              "      box-shadow: 0px 1px 2px rgba(60, 64, 67, 0.3), 0px 1px 3px 1px rgba(60, 64, 67, 0.15);\n",
              "      fill: #174EA6;\n",
              "    }\n",
              "\n",
              "    .colab-df-buttons div {\n",
              "      margin-bottom: 4px;\n",
              "    }\n",
              "\n",
              "    [theme=dark] .colab-df-convert {\n",
              "      background-color: #3B4455;\n",
              "      fill: #D2E3FC;\n",
              "    }\n",
              "\n",
              "    [theme=dark] .colab-df-convert:hover {\n",
              "      background-color: #434B5C;\n",
              "      box-shadow: 0px 1px 3px 1px rgba(0, 0, 0, 0.15);\n",
              "      filter: drop-shadow(0px 1px 2px rgba(0, 0, 0, 0.3));\n",
              "      fill: #FFFFFF;\n",
              "    }\n",
              "  </style>\n",
              "\n",
              "    <script>\n",
              "      const buttonEl =\n",
              "        document.querySelector('#df-601a11ee-c069-4229-841b-2fa99c6e322d button.colab-df-convert');\n",
              "      buttonEl.style.display =\n",
              "        google.colab.kernel.accessAllowed ? 'block' : 'none';\n",
              "\n",
              "      async function convertToInteractive(key) {\n",
              "        const element = document.querySelector('#df-601a11ee-c069-4229-841b-2fa99c6e322d');\n",
              "        const dataTable =\n",
              "          await google.colab.kernel.invokeFunction('convertToInteractive',\n",
              "                                                    [key], {});\n",
              "        if (!dataTable) return;\n",
              "\n",
              "        const docLinkHtml = 'Like what you see? Visit the ' +\n",
              "          '<a target=\"_blank\" href=https://colab.research.google.com/notebooks/data_table.ipynb>data table notebook</a>'\n",
              "          + ' to learn more about interactive tables.';\n",
              "        element.innerHTML = '';\n",
              "        dataTable['output_type'] = 'display_data';\n",
              "        await google.colab.output.renderOutput(dataTable, element);\n",
              "        const docLink = document.createElement('div');\n",
              "        docLink.innerHTML = docLinkHtml;\n",
              "        element.appendChild(docLink);\n",
              "      }\n",
              "    </script>\n",
              "  </div>\n",
              "\n",
              "\n",
              "<div id=\"df-e3f2b16b-5bf0-4ced-8ccc-064438ff8b5b\">\n",
              "  <button class=\"colab-df-quickchart\" onclick=\"quickchart('df-e3f2b16b-5bf0-4ced-8ccc-064438ff8b5b')\"\n",
              "            title=\"Suggest charts\"\n",
              "            style=\"display:none;\">\n",
              "\n",
              "<svg xmlns=\"http://www.w3.org/2000/svg\" height=\"24px\"viewBox=\"0 0 24 24\"\n",
              "     width=\"24px\">\n",
              "    <g>\n",
              "        <path d=\"M19 3H5c-1.1 0-2 .9-2 2v14c0 1.1.9 2 2 2h14c1.1 0 2-.9 2-2V5c0-1.1-.9-2-2-2zM9 17H7v-7h2v7zm4 0h-2V7h2v10zm4 0h-2v-4h2v4z\"/>\n",
              "    </g>\n",
              "</svg>\n",
              "  </button>\n",
              "\n",
              "<style>\n",
              "  .colab-df-quickchart {\n",
              "      --bg-color: #E8F0FE;\n",
              "      --fill-color: #1967D2;\n",
              "      --hover-bg-color: #E2EBFA;\n",
              "      --hover-fill-color: #174EA6;\n",
              "      --disabled-fill-color: #AAA;\n",
              "      --disabled-bg-color: #DDD;\n",
              "  }\n",
              "\n",
              "  [theme=dark] .colab-df-quickchart {\n",
              "      --bg-color: #3B4455;\n",
              "      --fill-color: #D2E3FC;\n",
              "      --hover-bg-color: #434B5C;\n",
              "      --hover-fill-color: #FFFFFF;\n",
              "      --disabled-bg-color: #3B4455;\n",
              "      --disabled-fill-color: #666;\n",
              "  }\n",
              "\n",
              "  .colab-df-quickchart {\n",
              "    background-color: var(--bg-color);\n",
              "    border: none;\n",
              "    border-radius: 50%;\n",
              "    cursor: pointer;\n",
              "    display: none;\n",
              "    fill: var(--fill-color);\n",
              "    height: 32px;\n",
              "    padding: 0;\n",
              "    width: 32px;\n",
              "  }\n",
              "\n",
              "  .colab-df-quickchart:hover {\n",
              "    background-color: var(--hover-bg-color);\n",
              "    box-shadow: 0 1px 2px rgba(60, 64, 67, 0.3), 0 1px 3px 1px rgba(60, 64, 67, 0.15);\n",
              "    fill: var(--button-hover-fill-color);\n",
              "  }\n",
              "\n",
              "  .colab-df-quickchart-complete:disabled,\n",
              "  .colab-df-quickchart-complete:disabled:hover {\n",
              "    background-color: var(--disabled-bg-color);\n",
              "    fill: var(--disabled-fill-color);\n",
              "    box-shadow: none;\n",
              "  }\n",
              "\n",
              "  .colab-df-spinner {\n",
              "    border: 2px solid var(--fill-color);\n",
              "    border-color: transparent;\n",
              "    border-bottom-color: var(--fill-color);\n",
              "    animation:\n",
              "      spin 1s steps(1) infinite;\n",
              "  }\n",
              "\n",
              "  @keyframes spin {\n",
              "    0% {\n",
              "      border-color: transparent;\n",
              "      border-bottom-color: var(--fill-color);\n",
              "      border-left-color: var(--fill-color);\n",
              "    }\n",
              "    20% {\n",
              "      border-color: transparent;\n",
              "      border-left-color: var(--fill-color);\n",
              "      border-top-color: var(--fill-color);\n",
              "    }\n",
              "    30% {\n",
              "      border-color: transparent;\n",
              "      border-left-color: var(--fill-color);\n",
              "      border-top-color: var(--fill-color);\n",
              "      border-right-color: var(--fill-color);\n",
              "    }\n",
              "    40% {\n",
              "      border-color: transparent;\n",
              "      border-right-color: var(--fill-color);\n",
              "      border-top-color: var(--fill-color);\n",
              "    }\n",
              "    60% {\n",
              "      border-color: transparent;\n",
              "      border-right-color: var(--fill-color);\n",
              "    }\n",
              "    80% {\n",
              "      border-color: transparent;\n",
              "      border-right-color: var(--fill-color);\n",
              "      border-bottom-color: var(--fill-color);\n",
              "    }\n",
              "    90% {\n",
              "      border-color: transparent;\n",
              "      border-bottom-color: var(--fill-color);\n",
              "    }\n",
              "  }\n",
              "</style>\n",
              "\n",
              "  <script>\n",
              "    async function quickchart(key) {\n",
              "      const quickchartButtonEl =\n",
              "        document.querySelector('#' + key + ' button');\n",
              "      quickchartButtonEl.disabled = true;  // To prevent multiple clicks.\n",
              "      quickchartButtonEl.classList.add('colab-df-spinner');\n",
              "      try {\n",
              "        const charts = await google.colab.kernel.invokeFunction(\n",
              "            'suggestCharts', [key], {});\n",
              "      } catch (error) {\n",
              "        console.error('Error during call to suggestCharts:', error);\n",
              "      }\n",
              "      quickchartButtonEl.classList.remove('colab-df-spinner');\n",
              "      quickchartButtonEl.classList.add('colab-df-quickchart-complete');\n",
              "    }\n",
              "    (() => {\n",
              "      let quickchartButtonEl =\n",
              "        document.querySelector('#df-e3f2b16b-5bf0-4ced-8ccc-064438ff8b5b button');\n",
              "      quickchartButtonEl.style.display =\n",
              "        google.colab.kernel.accessAllowed ? 'block' : 'none';\n",
              "    })();\n",
              "  </script>\n",
              "</div>\n",
              "    </div>\n",
              "  </div>\n"
            ]
          },
          "metadata": {},
          "execution_count": 53
        }
      ]
    },
    {
      "cell_type": "code",
      "source": [
        "fpr_log, tpr_log, threshold_log = roc_curve(y_test, log.predict_proba(X_test)[:, 1])\n",
        "plt.plot(fpr_log, tpr_log, \"g--\")"
      ],
      "metadata": {
        "colab": {
          "base_uri": "https://localhost:8080/",
          "height": 447
        },
        "id": "mzBYZNHWddoc",
        "outputId": "8ef047a6-b2b7-4099-d798-44dbe5e9f090"
      },
      "execution_count": 54,
      "outputs": [
        {
          "output_type": "execute_result",
          "data": {
            "text/plain": [
              "[<matplotlib.lines.Line2D at 0x7870f7acf640>]"
            ]
          },
          "metadata": {},
          "execution_count": 54
        },
        {
          "output_type": "display_data",
          "data": {
            "text/plain": [
              "<Figure size 640x480 with 1 Axes>"
            ],
            "image/png": "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\n"
          },
          "metadata": {}
        }
      ]
    },
    {
      "cell_type": "code",
      "source": [
        "confusion_matrix(y_test, y_pred_log)\n",
        "disp_log = ConfusionMatrixDisplay(confusion_matrix(y_test, y_pred_log), display_labels = log.classes_)\n",
        "print(classification_report(y_test, y_pred_log))\n",
        "disp_log.plot()"
      ],
      "metadata": {
        "colab": {
          "base_uri": "https://localhost:8080/",
          "height": 623
        },
        "id": "B4IGINE6dkGB",
        "outputId": "ad5c3c0b-0795-4b19-ab34-15bdfcc97c2a"
      },
      "execution_count": 55,
      "outputs": [
        {
          "output_type": "stream",
          "name": "stdout",
          "text": [
            "              precision    recall  f1-score   support\n",
            "\n",
            "           0       0.96      0.79      0.87     11952\n",
            "           1       0.34      0.77      0.47      1612\n",
            "\n",
            "    accuracy                           0.79     13564\n",
            "   macro avg       0.65      0.78      0.67     13564\n",
            "weighted avg       0.89      0.79      0.82     13564\n",
            "\n"
          ]
        },
        {
          "output_type": "execute_result",
          "data": {
            "text/plain": [
              "<sklearn.metrics._plot.confusion_matrix.ConfusionMatrixDisplay at 0x7870f8012d10>"
            ]
          },
          "metadata": {},
          "execution_count": 55
        },
        {
          "output_type": "display_data",
          "data": {
            "text/plain": [
              "<Figure size 640x480 with 2 Axes>"
            ],
            "image/png": "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\n"
          },
          "metadata": {}
        }
      ]
    },
    {
      "cell_type": "markdown",
      "source": [
        "**Random Forest Classifier**\n",
        "\n"
      ],
      "metadata": {
        "id": "m5ZnbjSSdsDS"
      }
    },
    {
      "cell_type": "code",
      "source": [
        "rf = RandomForestClassifier(max_depth = 8, n_jobs = -1)\n",
        "rf.fit(s_X_train, s_y_train)\n",
        "y_pred_rf = rf.predict(X_test)\n",
        "y_predict_prob_rf = rf.predict_proba(X_test)\n",
        "score_rf = roc_auc_score(y_test, y_predict_prob_rf[:, 1])\n",
        "acc_rf = accuracy_score(y_test, y_pred_rf)\n",
        "print(\"ROC score : \",score_rf, \"Train score : \",rf.score(s_X_train, s_y_train), \"Test score : \",rf.score(X_test, y_test), \"Accuracy Score : \",acc_rf)"
      ],
      "metadata": {
        "colab": {
          "base_uri": "https://localhost:8080/"
        },
        "id": "BaFYnn3Xdos9",
        "outputId": "1a43f377-0e68-4acd-bdcf-e341f2db3d2d"
      },
      "execution_count": 56,
      "outputs": [
        {
          "output_type": "stream",
          "name": "stdout",
          "text": [
            "ROC score :  0.9027346980976013 Train score :  0.8600107257776188 Test score :  0.8037452079032734 Accuracy Score :  0.8037452079032734\n"
          ]
        }
      ]
    },
    {
      "cell_type": "code",
      "source": [
        "con_mat_rf = pd.DataFrame(confusion_matrix(y_test,y_pred_rf), index = [\"Act possitive(Non Customer)\", \"At Negative(Customer)\"], columns = [\"Pred Possitive(Non Customer)\", \"Pred Negative(Customer)\"])\n",
        "con_mat_rf"
      ],
      "metadata": {
        "colab": {
          "base_uri": "https://localhost:8080/",
          "height": 112
        },
        "id": "jSh7DJnqeBTb",
        "outputId": "497f2428-77ef-4733-f8d1-8b7b01da0e53"
      },
      "execution_count": 57,
      "outputs": [
        {
          "output_type": "execute_result",
          "data": {
            "text/plain": [
              "                             Pred Possitive(Non Customer)  \\\n",
              "Act possitive(Non Customer)                          9503   \n",
              "At Negative(Customer)                                 213   \n",
              "\n",
              "                             Pred Negative(Customer)  \n",
              "Act possitive(Non Customer)                     2449  \n",
              "At Negative(Customer)                           1399  "
            ],
            "text/html": [
              "\n",
              "  <div id=\"df-dafb0510-9bd8-43ef-ad57-69db0e159157\" class=\"colab-df-container\">\n",
              "    <div>\n",
              "<style scoped>\n",
              "    .dataframe tbody tr th:only-of-type {\n",
              "        vertical-align: middle;\n",
              "    }\n",
              "\n",
              "    .dataframe tbody tr th {\n",
              "        vertical-align: top;\n",
              "    }\n",
              "\n",
              "    .dataframe thead th {\n",
              "        text-align: right;\n",
              "    }\n",
              "</style>\n",
              "<table border=\"1\" class=\"dataframe\">\n",
              "  <thead>\n",
              "    <tr style=\"text-align: right;\">\n",
              "      <th></th>\n",
              "      <th>Pred Possitive(Non Customer)</th>\n",
              "      <th>Pred Negative(Customer)</th>\n",
              "    </tr>\n",
              "  </thead>\n",
              "  <tbody>\n",
              "    <tr>\n",
              "      <th>Act possitive(Non Customer)</th>\n",
              "      <td>9503</td>\n",
              "      <td>2449</td>\n",
              "    </tr>\n",
              "    <tr>\n",
              "      <th>At Negative(Customer)</th>\n",
              "      <td>213</td>\n",
              "      <td>1399</td>\n",
              "    </tr>\n",
              "  </tbody>\n",
              "</table>\n",
              "</div>\n",
              "    <div class=\"colab-df-buttons\">\n",
              "\n",
              "  <div class=\"colab-df-container\">\n",
              "    <button class=\"colab-df-convert\" onclick=\"convertToInteractive('df-dafb0510-9bd8-43ef-ad57-69db0e159157')\"\n",
              "            title=\"Convert this dataframe to an interactive table.\"\n",
              "            style=\"display:none;\">\n",
              "\n",
              "  <svg xmlns=\"http://www.w3.org/2000/svg\" height=\"24px\" viewBox=\"0 -960 960 960\">\n",
              "    <path d=\"M120-120v-720h720v720H120Zm60-500h600v-160H180v160Zm220 220h160v-160H400v160Zm0 220h160v-160H400v160ZM180-400h160v-160H180v160Zm440 0h160v-160H620v160ZM180-180h160v-160H180v160Zm440 0h160v-160H620v160Z\"/>\n",
              "  </svg>\n",
              "    </button>\n",
              "\n",
              "  <style>\n",
              "    .colab-df-container {\n",
              "      display:flex;\n",
              "      gap: 12px;\n",
              "    }\n",
              "\n",
              "    .colab-df-convert {\n",
              "      background-color: #E8F0FE;\n",
              "      border: none;\n",
              "      border-radius: 50%;\n",
              "      cursor: pointer;\n",
              "      display: none;\n",
              "      fill: #1967D2;\n",
              "      height: 32px;\n",
              "      padding: 0 0 0 0;\n",
              "      width: 32px;\n",
              "    }\n",
              "\n",
              "    .colab-df-convert:hover {\n",
              "      background-color: #E2EBFA;\n",
              "      box-shadow: 0px 1px 2px rgba(60, 64, 67, 0.3), 0px 1px 3px 1px rgba(60, 64, 67, 0.15);\n",
              "      fill: #174EA6;\n",
              "    }\n",
              "\n",
              "    .colab-df-buttons div {\n",
              "      margin-bottom: 4px;\n",
              "    }\n",
              "\n",
              "    [theme=dark] .colab-df-convert {\n",
              "      background-color: #3B4455;\n",
              "      fill: #D2E3FC;\n",
              "    }\n",
              "\n",
              "    [theme=dark] .colab-df-convert:hover {\n",
              "      background-color: #434B5C;\n",
              "      box-shadow: 0px 1px 3px 1px rgba(0, 0, 0, 0.15);\n",
              "      filter: drop-shadow(0px 1px 2px rgba(0, 0, 0, 0.3));\n",
              "      fill: #FFFFFF;\n",
              "    }\n",
              "  </style>\n",
              "\n",
              "    <script>\n",
              "      const buttonEl =\n",
              "        document.querySelector('#df-dafb0510-9bd8-43ef-ad57-69db0e159157 button.colab-df-convert');\n",
              "      buttonEl.style.display =\n",
              "        google.colab.kernel.accessAllowed ? 'block' : 'none';\n",
              "\n",
              "      async function convertToInteractive(key) {\n",
              "        const element = document.querySelector('#df-dafb0510-9bd8-43ef-ad57-69db0e159157');\n",
              "        const dataTable =\n",
              "          await google.colab.kernel.invokeFunction('convertToInteractive',\n",
              "                                                    [key], {});\n",
              "        if (!dataTable) return;\n",
              "\n",
              "        const docLinkHtml = 'Like what you see? Visit the ' +\n",
              "          '<a target=\"_blank\" href=https://colab.research.google.com/notebooks/data_table.ipynb>data table notebook</a>'\n",
              "          + ' to learn more about interactive tables.';\n",
              "        element.innerHTML = '';\n",
              "        dataTable['output_type'] = 'display_data';\n",
              "        await google.colab.output.renderOutput(dataTable, element);\n",
              "        const docLink = document.createElement('div');\n",
              "        docLink.innerHTML = docLinkHtml;\n",
              "        element.appendChild(docLink);\n",
              "      }\n",
              "    </script>\n",
              "  </div>\n",
              "\n",
              "\n",
              "<div id=\"df-30fec430-834b-46be-9156-b194fc423b6e\">\n",
              "  <button class=\"colab-df-quickchart\" onclick=\"quickchart('df-30fec430-834b-46be-9156-b194fc423b6e')\"\n",
              "            title=\"Suggest charts\"\n",
              "            style=\"display:none;\">\n",
              "\n",
              "<svg xmlns=\"http://www.w3.org/2000/svg\" height=\"24px\"viewBox=\"0 0 24 24\"\n",
              "     width=\"24px\">\n",
              "    <g>\n",
              "        <path d=\"M19 3H5c-1.1 0-2 .9-2 2v14c0 1.1.9 2 2 2h14c1.1 0 2-.9 2-2V5c0-1.1-.9-2-2-2zM9 17H7v-7h2v7zm4 0h-2V7h2v10zm4 0h-2v-4h2v4z\"/>\n",
              "    </g>\n",
              "</svg>\n",
              "  </button>\n",
              "\n",
              "<style>\n",
              "  .colab-df-quickchart {\n",
              "      --bg-color: #E8F0FE;\n",
              "      --fill-color: #1967D2;\n",
              "      --hover-bg-color: #E2EBFA;\n",
              "      --hover-fill-color: #174EA6;\n",
              "      --disabled-fill-color: #AAA;\n",
              "      --disabled-bg-color: #DDD;\n",
              "  }\n",
              "\n",
              "  [theme=dark] .colab-df-quickchart {\n",
              "      --bg-color: #3B4455;\n",
              "      --fill-color: #D2E3FC;\n",
              "      --hover-bg-color: #434B5C;\n",
              "      --hover-fill-color: #FFFFFF;\n",
              "      --disabled-bg-color: #3B4455;\n",
              "      --disabled-fill-color: #666;\n",
              "  }\n",
              "\n",
              "  .colab-df-quickchart {\n",
              "    background-color: var(--bg-color);\n",
              "    border: none;\n",
              "    border-radius: 50%;\n",
              "    cursor: pointer;\n",
              "    display: none;\n",
              "    fill: var(--fill-color);\n",
              "    height: 32px;\n",
              "    padding: 0;\n",
              "    width: 32px;\n",
              "  }\n",
              "\n",
              "  .colab-df-quickchart:hover {\n",
              "    background-color: var(--hover-bg-color);\n",
              "    box-shadow: 0 1px 2px rgba(60, 64, 67, 0.3), 0 1px 3px 1px rgba(60, 64, 67, 0.15);\n",
              "    fill: var(--button-hover-fill-color);\n",
              "  }\n",
              "\n",
              "  .colab-df-quickchart-complete:disabled,\n",
              "  .colab-df-quickchart-complete:disabled:hover {\n",
              "    background-color: var(--disabled-bg-color);\n",
              "    fill: var(--disabled-fill-color);\n",
              "    box-shadow: none;\n",
              "  }\n",
              "\n",
              "  .colab-df-spinner {\n",
              "    border: 2px solid var(--fill-color);\n",
              "    border-color: transparent;\n",
              "    border-bottom-color: var(--fill-color);\n",
              "    animation:\n",
              "      spin 1s steps(1) infinite;\n",
              "  }\n",
              "\n",
              "  @keyframes spin {\n",
              "    0% {\n",
              "      border-color: transparent;\n",
              "      border-bottom-color: var(--fill-color);\n",
              "      border-left-color: var(--fill-color);\n",
              "    }\n",
              "    20% {\n",
              "      border-color: transparent;\n",
              "      border-left-color: var(--fill-color);\n",
              "      border-top-color: var(--fill-color);\n",
              "    }\n",
              "    30% {\n",
              "      border-color: transparent;\n",
              "      border-left-color: var(--fill-color);\n",
              "      border-top-color: var(--fill-color);\n",
              "      border-right-color: var(--fill-color);\n",
              "    }\n",
              "    40% {\n",
              "      border-color: transparent;\n",
              "      border-right-color: var(--fill-color);\n",
              "      border-top-color: var(--fill-color);\n",
              "    }\n",
              "    60% {\n",
              "      border-color: transparent;\n",
              "      border-right-color: var(--fill-color);\n",
              "    }\n",
              "    80% {\n",
              "      border-color: transparent;\n",
              "      border-right-color: var(--fill-color);\n",
              "      border-bottom-color: var(--fill-color);\n",
              "    }\n",
              "    90% {\n",
              "      border-color: transparent;\n",
              "      border-bottom-color: var(--fill-color);\n",
              "    }\n",
              "  }\n",
              "</style>\n",
              "\n",
              "  <script>\n",
              "    async function quickchart(key) {\n",
              "      const quickchartButtonEl =\n",
              "        document.querySelector('#' + key + ' button');\n",
              "      quickchartButtonEl.disabled = true;  // To prevent multiple clicks.\n",
              "      quickchartButtonEl.classList.add('colab-df-spinner');\n",
              "      try {\n",
              "        const charts = await google.colab.kernel.invokeFunction(\n",
              "            'suggestCharts', [key], {});\n",
              "      } catch (error) {\n",
              "        console.error('Error during call to suggestCharts:', error);\n",
              "      }\n",
              "      quickchartButtonEl.classList.remove('colab-df-spinner');\n",
              "      quickchartButtonEl.classList.add('colab-df-quickchart-complete');\n",
              "    }\n",
              "    (() => {\n",
              "      let quickchartButtonEl =\n",
              "        document.querySelector('#df-30fec430-834b-46be-9156-b194fc423b6e button');\n",
              "      quickchartButtonEl.style.display =\n",
              "        google.colab.kernel.accessAllowed ? 'block' : 'none';\n",
              "    })();\n",
              "  </script>\n",
              "</div>\n",
              "    </div>\n",
              "  </div>\n"
            ]
          },
          "metadata": {},
          "execution_count": 57
        }
      ]
    },
    {
      "cell_type": "code",
      "source": [
        "importance_rf = rf.feature_importances_\n",
        "for i in zip(data_2.columns, importance_rf):\n",
        "  print(i)"
      ],
      "metadata": {
        "colab": {
          "base_uri": "https://localhost:8080/"
        },
        "id": "zEfhXKD1eGCy",
        "outputId": "5a7e38af-5987-4041-844f-73f447b9b8a7"
      },
      "execution_count": 58,
      "outputs": [
        {
          "output_type": "stream",
          "name": "stdout",
          "text": [
            "('age', 0.02837010481830239)\n",
            "('Marital', 0.004052270043938446)\n",
            "('Education_qual', 0.013509150452865257)\n",
            "('Job', 0.03606457490831771)\n",
            "('Month', 0.12912344143762816)\n",
            "('Call_type', 0.10049894078996739)\n",
            "('day', 0.040189720715107256)\n",
            "('dur', 0.5689219690775259)\n",
            "('Num_calls', 0.029018537924170026)\n",
            "('Prev_outcome', 0.05025128983217724)\n"
          ]
        }
      ]
    },
    {
      "cell_type": "code",
      "source": [
        "fpr_rf, tpr_rf, threshold_rf = roc_curve(y_test, rf.predict_proba(X_test)[:, 1])\n",
        "plt.plot(fpr_rf, tpr_rf, \"--\")"
      ],
      "metadata": {
        "colab": {
          "base_uri": "https://localhost:8080/",
          "height": 447
        },
        "id": "QHbqyUtbeMWP",
        "outputId": "457c0674-c2a5-4a73-f379-cd81ad770d79"
      },
      "execution_count": 59,
      "outputs": [
        {
          "output_type": "execute_result",
          "data": {
            "text/plain": [
              "[<matplotlib.lines.Line2D at 0x7870dd3b7f70>]"
            ]
          },
          "metadata": {},
          "execution_count": 59
        },
        {
          "output_type": "display_data",
          "data": {
            "text/plain": [
              "<Figure size 640x480 with 1 Axes>"
            ],
            "image/png": "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\n"
          },
          "metadata": {}
        }
      ]
    },
    {
      "cell_type": "code",
      "source": [
        "confusion_matrix(y_test, y_pred_rf)\n",
        "disp_rf = ConfusionMatrixDisplay(confusion_matrix(y_test, y_pred_rf), display_labels = rf.classes_)\n",
        "print(classification_report(y_test, y_pred_rf))\n",
        "disp_rf.plot()"
      ],
      "metadata": {
        "colab": {
          "base_uri": "https://localhost:8080/",
          "height": 623
        },
        "id": "ekYI8TxKeOLw",
        "outputId": "b546cf09-75e3-45d6-ce14-735c71a4bf9f"
      },
      "execution_count": 60,
      "outputs": [
        {
          "output_type": "stream",
          "name": "stdout",
          "text": [
            "              precision    recall  f1-score   support\n",
            "\n",
            "           0       0.98      0.80      0.88     11952\n",
            "           1       0.36      0.87      0.51      1612\n",
            "\n",
            "    accuracy                           0.80     13564\n",
            "   macro avg       0.67      0.83      0.69     13564\n",
            "weighted avg       0.91      0.80      0.83     13564\n",
            "\n"
          ]
        },
        {
          "output_type": "execute_result",
          "data": {
            "text/plain": [
              "<sklearn.metrics._plot.confusion_matrix.ConfusionMatrixDisplay at 0x7870dd4138b0>"
            ]
          },
          "metadata": {},
          "execution_count": 60
        },
        {
          "output_type": "display_data",
          "data": {
            "text/plain": [
              "<Figure size 640x480 with 2 Axes>"
            ],
            "image/png": "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\n"
          },
          "metadata": {}
        }
      ]
    },
    {
      "cell_type": "markdown",
      "source": [
        "**Decision Tree**"
      ],
      "metadata": {
        "id": "EIW3hXXKeV7H"
      }
    },
    {
      "cell_type": "code",
      "source": [
        "dt = DecisionTreeClassifier(max_depth = 8,max_leaf_nodes = 15, random_state = 42)\n",
        "dt.fit(s_X_train, s_y_train)\n",
        "y_pred_dt = dt.predict(X_test)\n",
        "acc_df = accuracy_score(y_test,y_pred_dt)\n",
        "y_predict_prob_dt = dt.predict_proba(X_test)\n",
        "score_dt = roc_auc_score(y_test, y_predict_prob_dt[:, 1])\n",
        "print( \"ROC score : \",score_dt, \"Train score : \",dt.score(s_X_train, s_y_train), \"Test score : \",dt.score(X_test, y_test),\"Accuracy Score : \",acc_df)"
      ],
      "metadata": {
        "colab": {
          "base_uri": "https://localhost:8080/"
        },
        "id": "-zp75RfUeSLU",
        "outputId": "3bfd5062-f499-4c59-a767-7a95f9b639f7"
      },
      "execution_count": 61,
      "outputs": [
        {
          "output_type": "stream",
          "name": "stdout",
          "text": [
            "ROC score :  0.8694601607422245 Train score :  0.8116374687164819 Test score :  0.7549395458566794 Accuracy Score :  0.7549395458566794\n"
          ]
        }
      ]
    },
    {
      "cell_type": "code",
      "source": [
        "con_mat_dt = pd.DataFrame(confusion_matrix(y_test,y_pred_dt), index = [\"Act possitive(Non Customer)\", \"At Negative(Customer)\"], columns = [\"Pred Possitive(Non Customer)\", \"Pred Negative(Customer)\"])\n",
        "con_mat_dt"
      ],
      "metadata": {
        "colab": {
          "base_uri": "https://localhost:8080/",
          "height": 112
        },
        "id": "KmrMUbBCede6",
        "outputId": "6e144557-0882-4f5e-f602-3949f1627196"
      },
      "execution_count": 62,
      "outputs": [
        {
          "output_type": "execute_result",
          "data": {
            "text/plain": [
              "                             Pred Possitive(Non Customer)  \\\n",
              "Act possitive(Non Customer)                          8799   \n",
              "At Negative(Customer)                                 171   \n",
              "\n",
              "                             Pred Negative(Customer)  \n",
              "Act possitive(Non Customer)                     3153  \n",
              "At Negative(Customer)                           1441  "
            ],
            "text/html": [
              "\n",
              "  <div id=\"df-ef884a50-bd05-4230-a7ba-4482b5e07e04\" class=\"colab-df-container\">\n",
              "    <div>\n",
              "<style scoped>\n",
              "    .dataframe tbody tr th:only-of-type {\n",
              "        vertical-align: middle;\n",
              "    }\n",
              "\n",
              "    .dataframe tbody tr th {\n",
              "        vertical-align: top;\n",
              "    }\n",
              "\n",
              "    .dataframe thead th {\n",
              "        text-align: right;\n",
              "    }\n",
              "</style>\n",
              "<table border=\"1\" class=\"dataframe\">\n",
              "  <thead>\n",
              "    <tr style=\"text-align: right;\">\n",
              "      <th></th>\n",
              "      <th>Pred Possitive(Non Customer)</th>\n",
              "      <th>Pred Negative(Customer)</th>\n",
              "    </tr>\n",
              "  </thead>\n",
              "  <tbody>\n",
              "    <tr>\n",
              "      <th>Act possitive(Non Customer)</th>\n",
              "      <td>8799</td>\n",
              "      <td>3153</td>\n",
              "    </tr>\n",
              "    <tr>\n",
              "      <th>At Negative(Customer)</th>\n",
              "      <td>171</td>\n",
              "      <td>1441</td>\n",
              "    </tr>\n",
              "  </tbody>\n",
              "</table>\n",
              "</div>\n",
              "    <div class=\"colab-df-buttons\">\n",
              "\n",
              "  <div class=\"colab-df-container\">\n",
              "    <button class=\"colab-df-convert\" onclick=\"convertToInteractive('df-ef884a50-bd05-4230-a7ba-4482b5e07e04')\"\n",
              "            title=\"Convert this dataframe to an interactive table.\"\n",
              "            style=\"display:none;\">\n",
              "\n",
              "  <svg xmlns=\"http://www.w3.org/2000/svg\" height=\"24px\" viewBox=\"0 -960 960 960\">\n",
              "    <path d=\"M120-120v-720h720v720H120Zm60-500h600v-160H180v160Zm220 220h160v-160H400v160Zm0 220h160v-160H400v160ZM180-400h160v-160H180v160Zm440 0h160v-160H620v160ZM180-180h160v-160H180v160Zm440 0h160v-160H620v160Z\"/>\n",
              "  </svg>\n",
              "    </button>\n",
              "\n",
              "  <style>\n",
              "    .colab-df-container {\n",
              "      display:flex;\n",
              "      gap: 12px;\n",
              "    }\n",
              "\n",
              "    .colab-df-convert {\n",
              "      background-color: #E8F0FE;\n",
              "      border: none;\n",
              "      border-radius: 50%;\n",
              "      cursor: pointer;\n",
              "      display: none;\n",
              "      fill: #1967D2;\n",
              "      height: 32px;\n",
              "      padding: 0 0 0 0;\n",
              "      width: 32px;\n",
              "    }\n",
              "\n",
              "    .colab-df-convert:hover {\n",
              "      background-color: #E2EBFA;\n",
              "      box-shadow: 0px 1px 2px rgba(60, 64, 67, 0.3), 0px 1px 3px 1px rgba(60, 64, 67, 0.15);\n",
              "      fill: #174EA6;\n",
              "    }\n",
              "\n",
              "    .colab-df-buttons div {\n",
              "      margin-bottom: 4px;\n",
              "    }\n",
              "\n",
              "    [theme=dark] .colab-df-convert {\n",
              "      background-color: #3B4455;\n",
              "      fill: #D2E3FC;\n",
              "    }\n",
              "\n",
              "    [theme=dark] .colab-df-convert:hover {\n",
              "      background-color: #434B5C;\n",
              "      box-shadow: 0px 1px 3px 1px rgba(0, 0, 0, 0.15);\n",
              "      filter: drop-shadow(0px 1px 2px rgba(0, 0, 0, 0.3));\n",
              "      fill: #FFFFFF;\n",
              "    }\n",
              "  </style>\n",
              "\n",
              "    <script>\n",
              "      const buttonEl =\n",
              "        document.querySelector('#df-ef884a50-bd05-4230-a7ba-4482b5e07e04 button.colab-df-convert');\n",
              "      buttonEl.style.display =\n",
              "        google.colab.kernel.accessAllowed ? 'block' : 'none';\n",
              "\n",
              "      async function convertToInteractive(key) {\n",
              "        const element = document.querySelector('#df-ef884a50-bd05-4230-a7ba-4482b5e07e04');\n",
              "        const dataTable =\n",
              "          await google.colab.kernel.invokeFunction('convertToInteractive',\n",
              "                                                    [key], {});\n",
              "        if (!dataTable) return;\n",
              "\n",
              "        const docLinkHtml = 'Like what you see? Visit the ' +\n",
              "          '<a target=\"_blank\" href=https://colab.research.google.com/notebooks/data_table.ipynb>data table notebook</a>'\n",
              "          + ' to learn more about interactive tables.';\n",
              "        element.innerHTML = '';\n",
              "        dataTable['output_type'] = 'display_data';\n",
              "        await google.colab.output.renderOutput(dataTable, element);\n",
              "        const docLink = document.createElement('div');\n",
              "        docLink.innerHTML = docLinkHtml;\n",
              "        element.appendChild(docLink);\n",
              "      }\n",
              "    </script>\n",
              "  </div>\n",
              "\n",
              "\n",
              "<div id=\"df-d2e3404d-e7a6-42c8-b71c-ccc765f3863f\">\n",
              "  <button class=\"colab-df-quickchart\" onclick=\"quickchart('df-d2e3404d-e7a6-42c8-b71c-ccc765f3863f')\"\n",
              "            title=\"Suggest charts\"\n",
              "            style=\"display:none;\">\n",
              "\n",
              "<svg xmlns=\"http://www.w3.org/2000/svg\" height=\"24px\"viewBox=\"0 0 24 24\"\n",
              "     width=\"24px\">\n",
              "    <g>\n",
              "        <path d=\"M19 3H5c-1.1 0-2 .9-2 2v14c0 1.1.9 2 2 2h14c1.1 0 2-.9 2-2V5c0-1.1-.9-2-2-2zM9 17H7v-7h2v7zm4 0h-2V7h2v10zm4 0h-2v-4h2v4z\"/>\n",
              "    </g>\n",
              "</svg>\n",
              "  </button>\n",
              "\n",
              "<style>\n",
              "  .colab-df-quickchart {\n",
              "      --bg-color: #E8F0FE;\n",
              "      --fill-color: #1967D2;\n",
              "      --hover-bg-color: #E2EBFA;\n",
              "      --hover-fill-color: #174EA6;\n",
              "      --disabled-fill-color: #AAA;\n",
              "      --disabled-bg-color: #DDD;\n",
              "  }\n",
              "\n",
              "  [theme=dark] .colab-df-quickchart {\n",
              "      --bg-color: #3B4455;\n",
              "      --fill-color: #D2E3FC;\n",
              "      --hover-bg-color: #434B5C;\n",
              "      --hover-fill-color: #FFFFFF;\n",
              "      --disabled-bg-color: #3B4455;\n",
              "      --disabled-fill-color: #666;\n",
              "  }\n",
              "\n",
              "  .colab-df-quickchart {\n",
              "    background-color: var(--bg-color);\n",
              "    border: none;\n",
              "    border-radius: 50%;\n",
              "    cursor: pointer;\n",
              "    display: none;\n",
              "    fill: var(--fill-color);\n",
              "    height: 32px;\n",
              "    padding: 0;\n",
              "    width: 32px;\n",
              "  }\n",
              "\n",
              "  .colab-df-quickchart:hover {\n",
              "    background-color: var(--hover-bg-color);\n",
              "    box-shadow: 0 1px 2px rgba(60, 64, 67, 0.3), 0 1px 3px 1px rgba(60, 64, 67, 0.15);\n",
              "    fill: var(--button-hover-fill-color);\n",
              "  }\n",
              "\n",
              "  .colab-df-quickchart-complete:disabled,\n",
              "  .colab-df-quickchart-complete:disabled:hover {\n",
              "    background-color: var(--disabled-bg-color);\n",
              "    fill: var(--disabled-fill-color);\n",
              "    box-shadow: none;\n",
              "  }\n",
              "\n",
              "  .colab-df-spinner {\n",
              "    border: 2px solid var(--fill-color);\n",
              "    border-color: transparent;\n",
              "    border-bottom-color: var(--fill-color);\n",
              "    animation:\n",
              "      spin 1s steps(1) infinite;\n",
              "  }\n",
              "\n",
              "  @keyframes spin {\n",
              "    0% {\n",
              "      border-color: transparent;\n",
              "      border-bottom-color: var(--fill-color);\n",
              "      border-left-color: var(--fill-color);\n",
              "    }\n",
              "    20% {\n",
              "      border-color: transparent;\n",
              "      border-left-color: var(--fill-color);\n",
              "      border-top-color: var(--fill-color);\n",
              "    }\n",
              "    30% {\n",
              "      border-color: transparent;\n",
              "      border-left-color: var(--fill-color);\n",
              "      border-top-color: var(--fill-color);\n",
              "      border-right-color: var(--fill-color);\n",
              "    }\n",
              "    40% {\n",
              "      border-color: transparent;\n",
              "      border-right-color: var(--fill-color);\n",
              "      border-top-color: var(--fill-color);\n",
              "    }\n",
              "    60% {\n",
              "      border-color: transparent;\n",
              "      border-right-color: var(--fill-color);\n",
              "    }\n",
              "    80% {\n",
              "      border-color: transparent;\n",
              "      border-right-color: var(--fill-color);\n",
              "      border-bottom-color: var(--fill-color);\n",
              "    }\n",
              "    90% {\n",
              "      border-color: transparent;\n",
              "      border-bottom-color: var(--fill-color);\n",
              "    }\n",
              "  }\n",
              "</style>\n",
              "\n",
              "  <script>\n",
              "    async function quickchart(key) {\n",
              "      const quickchartButtonEl =\n",
              "        document.querySelector('#' + key + ' button');\n",
              "      quickchartButtonEl.disabled = true;  // To prevent multiple clicks.\n",
              "      quickchartButtonEl.classList.add('colab-df-spinner');\n",
              "      try {\n",
              "        const charts = await google.colab.kernel.invokeFunction(\n",
              "            'suggestCharts', [key], {});\n",
              "      } catch (error) {\n",
              "        console.error('Error during call to suggestCharts:', error);\n",
              "      }\n",
              "      quickchartButtonEl.classList.remove('colab-df-spinner');\n",
              "      quickchartButtonEl.classList.add('colab-df-quickchart-complete');\n",
              "    }\n",
              "    (() => {\n",
              "      let quickchartButtonEl =\n",
              "        document.querySelector('#df-d2e3404d-e7a6-42c8-b71c-ccc765f3863f button');\n",
              "      quickchartButtonEl.style.display =\n",
              "        google.colab.kernel.accessAllowed ? 'block' : 'none';\n",
              "    })();\n",
              "  </script>\n",
              "</div>\n",
              "    </div>\n",
              "  </div>\n"
            ]
          },
          "metadata": {},
          "execution_count": 62
        }
      ]
    },
    {
      "cell_type": "code",
      "source": [
        "fpr_dt, tpr_dt, threshold_dt = roc_curve(y_test, dt.predict_proba(X_test)[:, 1])\n",
        "plt.plot(fpr_dt, tpr_dt, \"g.\")"
      ],
      "metadata": {
        "colab": {
          "base_uri": "https://localhost:8080/",
          "height": 447
        },
        "id": "gQ82frxBegvq",
        "outputId": "50b18eb7-1b9c-4841-e9ce-5e1afbf071a7"
      },
      "execution_count": 63,
      "outputs": [
        {
          "output_type": "execute_result",
          "data": {
            "text/plain": [
              "[<matplotlib.lines.Line2D at 0x7870dc2bfac0>]"
            ]
          },
          "metadata": {},
          "execution_count": 63
        },
        {
          "output_type": "display_data",
          "data": {
            "text/plain": [
              "<Figure size 640x480 with 1 Axes>"
            ],
            "image/png": "iVBORw0KGgoAAAANSUhEUgAAAiMAAAGdCAYAAADAAnMpAAAAOXRFWHRTb2Z0d2FyZQBNYXRwbG90bGliIHZlcnNpb24zLjcuMSwgaHR0cHM6Ly9tYXRwbG90bGliLm9yZy/bCgiHAAAACXBIWXMAAA9hAAAPYQGoP6dpAAAia0lEQVR4nO3df1BVdf7H8de9V7nY5EWNFVTuSoplpfkDk0XXaWvYmEpb/9iJyUZdh9LKbUpmtyR/UFni9k2XmaQQo63vTK1WU02jDK2xOq3FjhPITLupSWpyK1Bz47JYoPd+vn/49RYJykW4H+7l+Zi5f3Q8h/vm5HSfnXt+OIwxRgAAAJY4bQ8AAAD6N2IEAABYRYwAAACriBEAAGAVMQIAAKwiRgAAgFXECAAAsIoYAQAAVg2wPUBXBINBffXVVxo8eLAcDoftcQAAQBcYY9Tc3KyRI0fK6ez8+EdUxMhXX30lr9drewwAANAN9fX1SklJ6fTPoyJGBg8eLOnsL+PxeCxPAwAAusLv98vr9YY+xzsTFTFy7qsZj8dDjAAAEGUudooFJ7ACAACriBEAAGAVMQIAAKwiRgAAgFXECAAAsIoYAQAAVhEjAADAKmIEAABYRYwAAACrwo6RDz74QHPmzNHIkSPlcDj0zjvvXHSbXbt2aerUqXK73UpLS9PLL7/cjVEBAEAsCjtGWlpaNGnSJBUXF3dp/cOHD+v222/XTTfdpNraWj388MO655579N5774U9LAAA6Fk+v087D++Uz++zNkPYz6a59dZbdeutt3Z5/ZKSEl155ZVav369JOmaa67R7t279ec//1nZ2dnhvj0AAOghZTVlWrxtsYImKKfDqdLZpcqdmhvxOXr9nJGqqiplZWW1W5adna2qqqpOt2ltbZXf72/3AgAAPcfn94VCRJKCJqgl25ZYOULS6zHS0NCgpKSkdsuSkpLk9/v13XffdbhNYWGhEhISQi+v19vbYwIA0KP6wtcfF3Lwm4OhEDknYAKqO1kX8Vn65NU0+fn5ampqCr3q6+ttjwQAQJeV1ZRpdNFo3fy/N2t00WiV1ZTZHuk8464YJ6ejfQa4HC6lDUuL+Cy9HiPJyclqbGxst6yxsVEej0eDBg3qcBu32y2Px9PuBQBAJHX3yEZf+vrjQlI8KSqdXSqXwyXpbIhsmr1JKZ6UiM8S9gms4crMzFR5eXm7ZTt27FBmZmZvvzUAAN1yKSd2XujrDxsf9BeSOzVX2WnZqjtZp7RhadbmC/vIyH//+1/V1taqtrZW0tlLd2tra3X06FFJZ79iWbBgQWj9++67T4cOHdIjjzyi/fv36/nnn9frr7+uZcuW9cxvAABAD7rUIxt96euPrkjxpOhXqb+yGkphx8jHH3+sKVOmaMqUKZKkvLw8TZkyRatXr5Ykff3116EwkaQrr7xS27dv144dOzRp0iStX79eL774Ipf1AgD6pEs9sbMvff0RLRzGGGN7iIvx+/1KSEhQU1MT548AAHqVz+/T6KLR7YLE5XDpyMNHwgoKn99n/esP27r6+d0nr6YBAMCWnjqy0Re+/ogWHBkBAKADHNm4dF39/O71q2kAAIhGKZ4UIiRC+JoGAABYRYwAAACriBEgxvX152MAADECRKGuBkY0PB8DAIgRIMp0NTCi5fkYAECMAH3IxY54hBMYfenx4ABwIcQI0Ed05YhHOIERbc/HANB/ESNAH9DVIx7hBAbPxwAQLbjpGdAHdPWR4+cCY8m2JQqYwEUDo688HhwALoQYAfqAc0c8fvpgro6OeIQbGNxFEkBfx9c0QB8Q7lcqPIALQCzhQXlAH8KDuQDEEh6UB0QhvlIB0B/xNQ0AALCKGAEAAFYRIwAAwCpiBPh/PN0WAOzgBFZAZ2/Ffu4OqE6HU6WzS5U7Ndf2WADQL3BkBP0eT7cFALuIEfR7PN0WAOwiRtDv8XRbALCLGEG/x9NtAcAubgcP/D9uxQ4APYvbwaNf8/l9OvjNQY27YlyXw4JbsQOAHcQIYg6X6QJAdOGcEcQULtMFgOhDjCCmcJkuAEQfYgQxhct0ASD6ECOIKVymCwDRh0t7EZO4TBcA7OPSXvRrXKYLANGDr2kAAIBVxAgAALCKGAEAAFYRIwAAwCpiBAAAWEWMAAAAq4gRAABgFTECAACsIkYAAIBVxAgAALCKGAEAAFYRIwAAwCpiBAAAWEWMAAAAq4gRAABgFTECAACsIkYAAIBVxAgAALCKGAEAAFYRIwAAwCpiBAAAWEWMAAAAq4gRAABgVbdipLi4WKmpqYqPj1dGRob27NlzwfWLiop09dVXa9CgQfJ6vVq2bJm+//77bg0MAABiS9gxsnXrVuXl5amgoEA1NTWaNGmSsrOzdezYsQ7Xf+2117R8+XIVFBRo3759Kisr09atW/XYY49d8vAAACD6hR0jGzZs0L333qtFixbp2muvVUlJiS677DK99NJLHa7/0UcfaebMmZo3b55SU1N1yy236K677rro0RTEJp/fp52Hd8rn99keBQDQR4QVI21tbaqurlZWVtYPP8DpVFZWlqqqqjrcZsaMGaqurg7Fx6FDh1ReXq7bbrut0/dpbW2V3+9v90L0K6sp0+ii0br5f2/W6KLRKqspsz0SAKAPCCtGTpw4oUAgoKSkpHbLk5KS1NDQ0OE28+bN05NPPqlf/vKXGjhwoMaOHatf/epXF/yaprCwUAkJCaGX1+sNZ0z0QT6/T4u3LVbQBCVJQRPUkm1LOEICAOj9q2l27dqltWvX6vnnn1dNTY3eeustbd++XWvWrOl0m/z8fDU1NYVe9fX1vT0metnBbw6GQuScgAmo7mSdpYkAAH3FgHBWTkxMlMvlUmNjY7vljY2NSk5O7nCbVatWaf78+brnnnskSRMnTlRLS4sWL16sFStWyOk8v4fcbrfcbnc4o6GPG3fFODkdznZB4nK4lDYszeJUAIC+IKwjI3FxcUpPT1dlZWVoWTAYVGVlpTIzMzvc5tSpU+cFh8vlkiQZY8KdF1EqxZOi0tmlcjnO/rt3OVzaNHuTUjwplicDANgW1pERScrLy9PChQs1bdo0TZ8+XUVFRWppadGiRYskSQsWLNCoUaNUWFgoSZozZ442bNigKVOmKCMjQ3V1dVq1apXmzJkTihL0D7lTc5Wdlq26k3VKG5ZGiAAAJHUjRnJycnT8+HGtXr1aDQ0Nmjx5sioqKkIntR49erTdkZCVK1fK4XBo5cqV+vLLL/Wzn/1Mc+bM0dNPP91zvwWiRoonhQgBALTjMFHwXYnf71dCQoKamprk8XhsjwMAALqgq5/fPJsGAABYRYwAAACriBEAAGAVMQIAAKwiRgAAgFXECAAAsIoYAQAAVhEjAADAKmIEAABYRYwAAACriBEAAGAVMQIAAKwiRgAAgFXECAAAsIoYAQAAVhEjAADAKmIEAABYRYwAAACriBEAAGAVMQIAAKwiRgAAgFXECAAAsIoYAQAAVhEjAADAKmIEAABYRYwAAACriBEAAGAVMQIAAKwiRgAAgFXECAAAsIoYAQAAVhEjAADAKmIEAABYRYwAAACriBEAAGAVMQIAAKwiRgAAgFXECAAAsIoYAQAAVhEjAADAKmIEAABYRYwAAACriJF+wuf3aefhnfL5fbZHAQCgnQG2B0DvK6sp0+JtixU0QTkdTpXOLlXu1FzbYwEAIIkjIzHP5/eFQkSSgiaoJduWcIQEANBnECMx7uA3B0Mhck7ABFR3ss7SRAAAtEeMxLhxV4yT09H+X7PL4VLasDRLEwEA0B4xEuNSPCkqnV0ql8Ml6WyIbJq9SSmeFMuTAQBwlsMYY2wPcTF+v18JCQlqamqSx+OxPU5U8vl9qjtZp7RhaYQIACAiuvr5zdU0/USKJ4UIAQD0SXxNE4O4pwgAIJpwZCTGcE8RAEC04chIDOGeIgCAaESMxBDuKQIAiEbESAzhniIAgGhEjMQQ7ikCAIhG3YqR4uJipaamKj4+XhkZGdqzZ88F1//222+1dOlSjRgxQm63W1dddZXKy8u7NTAuLHdqro48fEQ7F+7UkYePcPIqAKDPC/tqmq1btyovL08lJSXKyMhQUVGRsrOzdeDAAQ0fPvy89dva2vTrX/9aw4cP15tvvqlRo0bpiy++0JAhQ3pifnSAe4oAAKJJ2HdgzcjI0A033KCNGzdKkoLBoLxerx588EEtX778vPVLSkr0P//zP9q/f78GDhzYrSG5AysAANGnq5/fYX1N09bWpurqamVlZf3wA5xOZWVlqaqqqsNt3n33XWVmZmrp0qVKSkrShAkTtHbtWgUCgU7fp7W1VX6/v90LAADEprBi5MSJEwoEAkpKSmq3PCkpSQ0NDR1uc+jQIb355psKBAIqLy/XqlWrtH79ej311FOdvk9hYaESEhJCL6/XG86YAAAgivT61TTBYFDDhw9XaWmp0tPTlZOToxUrVqikpKTTbfLz89XU1BR61dfX9/aYAADAkrBOYE1MTJTL5VJjY2O75Y2NjUpOTu5wmxEjRmjgwIFyuVyhZddcc40aGhrU1tamuLi487Zxu91yu93hjAYAAKJUWEdG4uLilJ6ersrKytCyYDCoyspKZWZmdrjNzJkzVVdXp2DwhzuDfvbZZxoxYkSHIQIAAPqXsL+mycvL0+bNm/XKK69o3759uv/++9XS0qJFixZJkhYsWKD8/PzQ+vfff79Onjyphx56SJ999pm2b9+utWvXaunSpT33WwAAgKgV9n1GcnJydPz4ca1evVoNDQ2aPHmyKioqQie1Hj16VE7nD43j9Xr13nvvadmyZbr++us1atQoPfTQQ3r00Ud77rcAAABRK+z7jNjAfUYAAIg+vXKfEQAAgJ5GjAAAAKuIEQAAYBUxAgAArCJGAACAVcQIAACwihgBAABWESMAAMAqYgQAAFhFjAAAAKuIEQAAYBUxAgAArCJGAACAVcQIAACwihgBAABWESMAAMAqYgQAAFhFjAAAAKuIEQAAYBUxAgAArCJGAACAVcQIAACwihgBAABWESMAAMAqYgQAAFhFjAAAAKuIEQAAYBUxAgAArCJGAACAVcQIAACwihgBAABWESMAAMAqYgQAAFhFjAAAAKuIEQAAYBUxAgAArCJGAACAVcRIBPn8Pu08vFM+v8/2KAAA9BkDbA/QX5TVlGnxtsUKmqCcDqdKZ5cqd2qu7bEAALCOIyMR4PP7QiEiSUET1JJtSzhCAgCAiJGIOPjNwVCInBMwAdWdrLM0EQAAfQcxEgHjrhgnp6P9rnY5XEoblmZpIgAA+g5iJAJSPCkqnV0ql8Ml6WyIbJq9SSmeFMuTAQBgn8MYY2wPcTF+v18JCQlqamqSx+OxPU63+fw+1Z2sU9qwNEIEABDzuvr5zdU0EZTiSSFCAAD4Cb6mAQAAVhEjAADAKmIEAABYRYwAAACriJFexvNoAAC4MK6m6UU8jwYAgIvjyEgv4Xk0AAB0DTHSS3geDQAAXUOM9BKeRwMAQNcQI73kvbr39OM77TsdTp5HAwBAB4iRXnDufBGjHz32x0jZadn2hgIAoI/qVowUFxcrNTVV8fHxysjI0J49e7q03ZYtW+RwODR37tzuvG3U6Oh8kaCCnC8CAEAHwo6RrVu3Ki8vTwUFBaqpqdGkSZOUnZ2tY8eOXXC7I0eO6A9/+INmzZrV7WGjBeeLAADQdWHHyIYNG3Tvvfdq0aJFuvbaa1VSUqLLLrtML730UqfbBAIB3X333XriiSc0ZsyYSxo4GqR4UlQ6u1Quh0vS2RDhfBEAADoW1k3P2traVF1drfz8/NAyp9OprKwsVVVVdbrdk08+qeHDhys3N1f/+Mc/Lvo+ra2tam1tDf2z3+8PZ8w+IXdqrrLTslV3sk5pw9IIEQAAOhFWjJw4cUKBQEBJSUntliclJWn//v0dbrN7926VlZWptra2y+9TWFioJ554IpzR+qQUTwoRAgDARfTq1TTNzc2aP3++Nm/erMTExC5vl5+fr6amptCrvr6+F6cEAAA2hXVkJDExUS6XS42Nje2WNzY2Kjk5+bz1P//8cx05ckRz5swJLQsGz15lMmDAAB04cEBjx449bzu32y232x3OaAAAIEqFdWQkLi5O6enpqqysDC0LBoOqrKxUZmbmeeuPHz9en3zyiWpra0OvO+64QzfddJNqa2vl9Xov/TcAAABRLeyn9ubl5WnhwoWaNm2apk+frqKiIrW0tGjRokWSpAULFmjUqFEqLCxUfHy8JkyY0G77IUOGSNJ5ywEAQP8Udozk5OTo+PHjWr16tRoaGjR58mRVVFSETmo9evSonE5u7AoAALrGYX78AJU+yu/3KyEhQU1NTfJ4PLbHAQAAXdDVz28OYQAAAKuIEQAAYBUxAgAArCJGAACAVcQIAACwihgBAABWESMAAMAqYgQAAFhFjAAAAKuIEQAAYBUxAgAArCJGAACAVcQIAACwihgBAABWESMAAMAqYgQAAFhFjAAAAKuIEQAAYBUxAgAArCJGAACAVcQIAACwihgBAABWESMAAMAqYgQAAFhFjAAAAKuIEQAAYBUxAgAArCJGAACAVcQIAACwihgBAABWESMAAMAqYgQAAFhFjAAAAKuIEQAAYBUxAgAArCJGAACAVcQIAACwihgBAABWESMAAMAqYgQAAFhFjAAAAKuIEQAAYBUxAgAArCJGAACAVcQIAACwihgBAABWESMAAMAqYgQAAFhFjAAAAKuIEQAAYBUxAgAArCJGAACAVcQIAACwihgBAABWESMAAMAqYgQAAFjVrRgpLi5Wamqq4uPjlZGRoT179nS67ubNmzVr1iwNHTpUQ4cOVVZW1gXXBwAA/UvYMbJ161bl5eWpoKBANTU1mjRpkrKzs3Xs2LEO19+1a5fuuusu7dy5U1VVVfJ6vbrlllv05ZdfXvLwAAAg+jmMMSacDTIyMnTDDTdo48aNkqRgMCiv16sHH3xQy5cvv+j2gUBAQ4cO1caNG7VgwYIuvaff71dCQoKamprk8XjCGRcAAFjS1c/vsI6MtLW1qbq6WllZWT/8AKdTWVlZqqqq6tLPOHXqlE6fPq1hw4Z1uk5ra6v8fn+7FwAAiE1hxciJEycUCASUlJTUbnlSUpIaGhq69DMeffRRjRw5sl3Q/FRhYaESEhJCL6/XG86YAAAgikT0app169Zpy5YtevvttxUfH9/pevn5+Wpqagq96uvrIzglAACIpAHhrJyYmCiXy6XGxsZ2yxsbG5WcnHzBbZ999lmtW7dO77//vq6//voLrut2u+V2u8MZDQAARKmwjozExcUpPT1dlZWVoWXBYFCVlZXKzMzsdLtnnnlGa9asUUVFhaZNm9b9aQEAQMwJ68iIJOXl5WnhwoWaNm2apk+frqKiIrW0tGjRokWSpAULFmjUqFEqLCyUJP3pT3/S6tWr9dprryk1NTV0bsnll1+uyy+/vAd/FQAAEI3CjpGcnBwdP35cq1evVkNDgyZPnqyKiorQSa1Hjx6V0/nDAZcXXnhBbW1t+u1vf9vu5xQUFOjxxx+/tOkBAEDUC/s+IzZwnxEAAKJPr9xnBAAAoKcRIwAAwCpiBAAAWEWMAAAAq4gRAABgFTECAACsIkYAAIBVxAgAALCKGAEAAFYRIwAAwCpiBAAAWEWMAAAAq4gRAABgFTECAACsIkYAAIBVxAgAALCKGAEAAFYRIwAAwCpiBAAAWEWMAAAAq4gRAABgFTECAACsIkYAAIBVxAgAALCKGAEAAFYRIwAAwCpiBAAAWEWM/IjP79POwzvl8/tsjwIAQL8xwPYAfUVZTZkWb1usoAnK6XCqdHapcqfm2h4LAICYx5ERnT0ici5EJCloglqybQlHSAAAiABiRNLBbw6GQuScgAmo7mSdpYkAAOg/iBFJ464YJ6ej/a5wOVxKG5ZmaSIAAPoPYkRSiidFpbNL5XK4JJ0NkU2zNynFk2J5MgAAYp/DGGNsD3Exfr9fCQkJampqksfj6bX38fl9qjtZp7RhaYQIAACXqKuf31xN8yMpnhQiBACACONrGgAAYBUxAgAArCJGAACAVcQIAACwihgBAABWESMAAMAqYgQAAFhFjAAAAKuIEQAAYBUxAgAArCJGAACAVcQIAACwihgBAABWESMAAMAqYgQAAFhFjAAAAKuIEQAAYBUxAgAArCJGAACAVcQIAACwihgBAABWdStGiouLlZqaqvj4eGVkZGjPnj0XXP+NN97Q+PHjFR8fr4kTJ6q8vLxbwwIAgNgTdoxs3bpVeXl5KigoUE1NjSZNmqTs7GwdO3asw/U/+ugj3XXXXcrNzdXevXs1d+5czZ07V//6178uefhL5fP7tPPwTvn8PtujAADQbzmMMSacDTIyMnTDDTdo48aNkqRgMCiv16sHH3xQy5cvP2/9nJwctbS0aNu2baFlv/jFLzR58mSVlJR06T39fr8SEhLU1NQkj8cTzridKqsp0+JtixU0QTkdTpXOLlXu1Nwe+dkAAKDrn99hHRlpa2tTdXW1srKyfvgBTqeysrJUVVXV4TZVVVXt1pek7OzsTteXpNbWVvn9/navnuTz+0IhIklBE9SSbUs4QgIAgAVhxciJEycUCASUlJTUbnlSUpIaGho63KahoSGs9SWpsLBQCQkJoZfX6w1nzIs6+M3BUIicEzAB1Z2s69H3AQAAF9cnr6bJz89XU1NT6FVfX9+jP3/cFePkdLT/1V0Ol9KGpfXo+wAAgIsLK0YSExPlcrnU2NjYbnljY6OSk5M73CY5OTms9SXJ7XbL4/G0e/WkFE+KSmeXyuVwSTobIptmb1KKJ6VH3wcAAFxcWDESFxen9PR0VVZWhpYFg0FVVlYqMzOzw20yMzPbrS9JO3bs6HT9SMmdmqsjDx/RzoU7deThI5y8CgCAJQPC3SAvL08LFy7UtGnTNH36dBUVFamlpUWLFi2SJC1YsECjRo1SYWGhJOmhhx7SjTfeqPXr1+v222/Xli1b9PHHH6u0tLRnf5NuSPGkcDQEAADLwo6RnJwcHT9+XKtXr1ZDQ4MmT56sioqK0EmqR48eldP5wwGXGTNm6LXXXtPKlSv12GOPady4cXrnnXc0YcKEnvstAABA1Ar7PiM29MZ9RgAAQO/qlfuMAAAA9DRiBAAAWEWMAAAAq4gRAABgFTECAACsIkYAAIBVxAgAALCKGAEAAFYRIwAAwKqwbwdvw7mbxPr9fsuTAACArjr3uX2xm71HRYw0NzdLkrxer+VJAABAuJqbm5WQkNDpn0fFs2mCwaC++uorDR48WA6Ho8d+rt/vl9frVX19Pc+86UXs58hhX0cG+zky2M+R0Zv72Rij5uZmjRw5st1DdH8qKo6MOJ1OpaSk9NrP93g8/EWPAPZz5LCvI4P9HBns58jorf18oSMi53ACKwAAsIoYAQAAVvXrGHG73SooKJDb7bY9SkxjP0cO+zoy2M+RwX6OjL6wn6PiBFYAABC7+vWREQAAYB8xAgAArCJGAACAVcQIAACwKuZjpLi4WKmpqYqPj1dGRob27NlzwfXfeOMNjR8/XvHx8Zo4caLKy8sjNGl0C2c/b968WbNmzdLQoUM1dOhQZWVlXfTfC34Q7t/pc7Zs2SKHw6G5c+f27oAxItz9/O2332rp0qUaMWKE3G63rrrqKv770QXh7ueioiJdffXVGjRokLxer5YtW6bvv/8+QtNGpw8++EBz5szRyJEj5XA49M4771x0m127dmnq1Klyu91KS0vTyy+/3LtDmhi2ZcsWExcXZ1566SXz73//29x7771myJAhprGxscP1P/zwQ+NyucwzzzxjPv30U7Ny5UozcOBA88knn0R48ugS7n6eN2+eKS4uNnv37jX79u0zv/vd70xCQoLx+XwRnjz6hLuvzzl8+LAZNWqUmTVrlvnNb34TmWGjWLj7ubW11UybNs3cdtttZvfu3ebw4cNm165dpra2NsKTR5dw9/Orr75q3G63efXVV83hw4fNe++9Z0aMGGGWLVsW4cmjS3l5uVmxYoV56623jCTz9ttvX3D9Q4cOmcsuu8zk5eWZTz/91Dz33HPG5XKZioqKXpsxpmNk+vTpZunSpaF/DgQCZuTIkaawsLDD9e+8805z++23t1uWkZFhlixZ0qtzRrtw9/NPnTlzxgwePNi88sorvTVizOjOvj5z5oyZMWOGefHFF83ChQuJkS4Idz+/8MILZsyYMaatrS1SI8aEcPfz0qVLzc0339xuWV5enpk5c2avzhlLuhIjjzzyiLnuuuvaLcvJyTHZ2dm9NlfMfk3T1tam6upqZWVlhZY5nU5lZWWpqqqqw22qqqrarS9J2dnZna6P7u3nnzp16pROnz6tYcOG9daYMaG7+/rJJ5/U8OHDlZubG4kxo1539vO7776rzMxMLV26VElJSZowYYLWrl2rQCAQqbGjTnf284wZM1RdXR36KufQoUMqLy/XbbfdFpGZ+wsbn4VR8aC87jhx4oQCgYCSkpLaLU9KStL+/fs73KahoaHD9RsaGnptzmjXnf38U48++qhGjhx53l9+tNedfb17926VlZWptrY2AhPGhu7s50OHDunvf/+77r77bpWXl6uurk4PPPCATp8+rYKCgkiMHXW6s5/nzZunEydO6Je//KWMMTpz5ozuu+8+PfbYY5EYud/o7LPQ7/fru+++06BBg3r8PWP2yAiiw7p167Rlyxa9/fbbio+Ptz1OTGlubtb8+fO1efNmJSYm2h4npgWDQQ0fPlylpaVKT09XTk6OVqxYoZKSEtujxZRdu3Zp7dq1ev7551VTU6O33npL27dv15o1a2yPhksUs0dGEhMT5XK51NjY2G55Y2OjkpOTO9wmOTk5rPXRvf18zrPPPqt169bp/fff1/XXX9+bY8aEcPf1559/riNHjmjOnDmhZcFgUJI0YMAAHThwQGPHju3doaNQd/5OjxgxQgMHDpTL5Qotu+aaa9TQ0KC2tjbFxcX16szRqDv7edWqVZo/f77uueceSdLEiRPV0tKixYsXa8WKFXI6+f/rntDZZ6HH4+mVoyJSDB8ZiYuLU3p6uiorK0PLgsGgKisrlZmZ2eE2mZmZ7daXpB07dnS6Prq3nyXpmWee0Zo1a1RRUaFp06ZFYtSoF+6+Hj9+vD755BPV1taGXnfccYduuukm1dbWyuv1RnL8qNGdv9MzZ85UXV1dKPYk6bPPPtOIESMIkU50Zz+fOnXqvOA4F4CGx6z1GCufhb12amwfsGXLFuN2u83LL79sPv30U7N48WIzZMgQ09DQYIwxZv78+Wb58uWh9T/88EMzYMAA8+yzz5p9+/aZgoICLu3tgnD387p160xcXJx58803zddffx16NTc32/oVoka4+/qnuJqma8Ldz0ePHjWDBw82v//9782BAwfMtm3bzPDhw81TTz1l61eICuHu54KCAjN48GDz17/+1Rw6dMj87W9/M2PHjjV33nmnrV8hKjQ3N5u9e/eavXv3Gklmw4YNZu/eveaLL74wxhizfPlyM3/+/ND65y7t/eMf/2j27dtniouLubT3Uj333HPm5z//uYmLizPTp083//znP0N/duONN5qFCxe2W//11183V111lYmLizPXXXed2b59e4Qnjk7h7OfRo0cbSee9CgoKIj94FAr37/SPESNdF+5+/uijj0xGRoZxu91mzJgx5umnnzZnzpyJ8NTRJ5z9fPr0afP444+bsWPHmvj4eOP1es0DDzxg/vOf/0R+8Ciyc+fODv+be27fLly40Nx4443nbTN58mQTFxdnxowZY/7yl7/06owOYzi2BQAA7InZc0YAAEB0IEYAAIBVxAgAALCKGAEAAFYRIwAAwCpiBAAAWEWMAAAAq4gRAABgFTECAACsIkYAAIBVxAgAALCKGAEAAFb9H8RL8UEj55Q7AAAAAElFTkSuQmCC\n"
          },
          "metadata": {}
        }
      ]
    },
    {
      "cell_type": "code",
      "source": [
        "importance_dt = dt.feature_importances_\n",
        "for i in zip(data_2.columns, importance_dt):\n",
        "  print(i)"
      ],
      "metadata": {
        "colab": {
          "base_uri": "https://localhost:8080/"
        },
        "id": "PQ27cE8oekXr",
        "outputId": "9b41b816-7be4-4414-947d-0032568ca53f"
      },
      "execution_count": 64,
      "outputs": [
        {
          "output_type": "stream",
          "name": "stdout",
          "text": [
            "('age', 0.0)\n",
            "('Marital', 0.0)\n",
            "('Education_qual', 0.0)\n",
            "('Job', 0.0)\n",
            "('Month', 0.18529145531716643)\n",
            "('Call_type', 0.1251966535098208)\n",
            "('day', 0.03365039642781037)\n",
            "('dur', 0.6011611900750118)\n",
            "('Num_calls', 0.0)\n",
            "('Prev_outcome', 0.05470030467019072)\n"
          ]
        }
      ]
    },
    {
      "cell_type": "code",
      "source": [
        "confusion_matrix(y_test, y_pred_dt)\n",
        "disp_dt = ConfusionMatrixDisplay(confusion_matrix(y_test, y_pred_dt), display_labels = dt.classes_)\n",
        "print(classification_report(y_test, y_pred_dt))\n",
        "disp_dt.plot()"
      ],
      "metadata": {
        "colab": {
          "base_uri": "https://localhost:8080/",
          "height": 623
        },
        "id": "gwD4wM99eoj0",
        "outputId": "0bf87327-c2dc-402f-d6b3-9665fb73abe6"
      },
      "execution_count": 65,
      "outputs": [
        {
          "output_type": "stream",
          "name": "stdout",
          "text": [
            "              precision    recall  f1-score   support\n",
            "\n",
            "           0       0.98      0.74      0.84     11952\n",
            "           1       0.31      0.89      0.46      1612\n",
            "\n",
            "    accuracy                           0.75     13564\n",
            "   macro avg       0.65      0.82      0.65     13564\n",
            "weighted avg       0.90      0.75      0.80     13564\n",
            "\n"
          ]
        },
        {
          "output_type": "execute_result",
          "data": {
            "text/plain": [
              "<sklearn.metrics._plot.confusion_matrix.ConfusionMatrixDisplay at 0x7870f6ba0730>"
            ]
          },
          "metadata": {},
          "execution_count": 65
        },
        {
          "output_type": "display_data",
          "data": {
            "text/plain": [
              "<Figure size 640x480 with 2 Axes>"
            ],
            "image/png": "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\n"
          },
          "metadata": {}
        }
      ]
    },
    {
      "cell_type": "markdown",
      "source": [
        "***XGB classifier***"
      ],
      "metadata": {
        "id": "Gb0iUvKdewHW"
      }
    },
    {
      "cell_type": "code",
      "source": [
        "smallest_class_count = y_train.sum()\n",
        "largest_class_count = len(y_train) - smallest_class_count\n",
        "spw = largest_class_count / smallest_class_count\n",
        "\n",
        "xgb = XGBClassifier(booster='gbtree',\n",
        "\t\t\tmax_depth=20, learning_rate=0.04,\n",
        "\t\t\tn_estimators=100,\n",
        "\t\t\tscale_pos_weight=spw,\n",
        "\t\t\trandom_state=42,\n",
        "\t\t\tn_jobs=-1,\n",
        "      gamma = 47)\n",
        "\n",
        "xgb.fit(X_train, y_train)\n",
        "\n",
        "y_pred_xgb = xgb.predict(X_test)\n",
        "y_predict_prob_xgb = xgb.predict_proba(X_test)\n",
        "score_xgb =roc_auc_score(y_test, y_predict_prob_xgb[:, 1])\n",
        "acc_xgb = accuracy_score(y_test,y_pred_xgb)\n",
        "print(\"ROC score : \",score_xgb, \"Train Score : \",xgb.score(s_X_train, s_y_train), \"Test Score : \", xgb.score(X_test, y_test),  \"Accuracy score : \",acc_xgb)\n"
      ],
      "metadata": {
        "colab": {
          "base_uri": "https://localhost:8080/"
        },
        "id": "3BE8VFcker1n",
        "outputId": "83256a71-17d0-4363-8993-45cfe75d78d1"
      },
      "execution_count": 66,
      "outputs": [
        {
          "output_type": "stream",
          "name": "stdout",
          "text": [
            "ROC score :  0.923043056219917 Train Score :  0.8457275652484805 Test Score :  0.8265260984960189 Accuracy score :  0.8265260984960189\n"
          ]
        }
      ]
    },
    {
      "cell_type": "code",
      "source": [
        "con_mat_xgb = pd.DataFrame(confusion_matrix(y_test,y_pred_xgb), index = [\"Act possitive(Non Customer)\", \"At Negative(Customer)\"], columns = [\"Pred Possitive(Non Customer)\", \"Pred Negative(Customer)\"])\n",
        "con_mat_xgb"
      ],
      "metadata": {
        "colab": {
          "base_uri": "https://localhost:8080/",
          "height": 112
        },
        "id": "EsAs4lT4fBzO",
        "outputId": "eb40dccb-6bde-41e8-df29-2e6beb77aa46"
      },
      "execution_count": 67,
      "outputs": [
        {
          "output_type": "execute_result",
          "data": {
            "text/plain": [
              "                             Pred Possitive(Non Customer)  \\\n",
              "Act possitive(Non Customer)                          9770   \n",
              "At Negative(Customer)                                 171   \n",
              "\n",
              "                             Pred Negative(Customer)  \n",
              "Act possitive(Non Customer)                     2182  \n",
              "At Negative(Customer)                           1441  "
            ],
            "text/html": [
              "\n",
              "  <div id=\"df-3517e0d9-c91d-4289-95b8-df55859001a9\" class=\"colab-df-container\">\n",
              "    <div>\n",
              "<style scoped>\n",
              "    .dataframe tbody tr th:only-of-type {\n",
              "        vertical-align: middle;\n",
              "    }\n",
              "\n",
              "    .dataframe tbody tr th {\n",
              "        vertical-align: top;\n",
              "    }\n",
              "\n",
              "    .dataframe thead th {\n",
              "        text-align: right;\n",
              "    }\n",
              "</style>\n",
              "<table border=\"1\" class=\"dataframe\">\n",
              "  <thead>\n",
              "    <tr style=\"text-align: right;\">\n",
              "      <th></th>\n",
              "      <th>Pred Possitive(Non Customer)</th>\n",
              "      <th>Pred Negative(Customer)</th>\n",
              "    </tr>\n",
              "  </thead>\n",
              "  <tbody>\n",
              "    <tr>\n",
              "      <th>Act possitive(Non Customer)</th>\n",
              "      <td>9770</td>\n",
              "      <td>2182</td>\n",
              "    </tr>\n",
              "    <tr>\n",
              "      <th>At Negative(Customer)</th>\n",
              "      <td>171</td>\n",
              "      <td>1441</td>\n",
              "    </tr>\n",
              "  </tbody>\n",
              "</table>\n",
              "</div>\n",
              "    <div class=\"colab-df-buttons\">\n",
              "\n",
              "  <div class=\"colab-df-container\">\n",
              "    <button class=\"colab-df-convert\" onclick=\"convertToInteractive('df-3517e0d9-c91d-4289-95b8-df55859001a9')\"\n",
              "            title=\"Convert this dataframe to an interactive table.\"\n",
              "            style=\"display:none;\">\n",
              "\n",
              "  <svg xmlns=\"http://www.w3.org/2000/svg\" height=\"24px\" viewBox=\"0 -960 960 960\">\n",
              "    <path d=\"M120-120v-720h720v720H120Zm60-500h600v-160H180v160Zm220 220h160v-160H400v160Zm0 220h160v-160H400v160ZM180-400h160v-160H180v160Zm440 0h160v-160H620v160ZM180-180h160v-160H180v160Zm440 0h160v-160H620v160Z\"/>\n",
              "  </svg>\n",
              "    </button>\n",
              "\n",
              "  <style>\n",
              "    .colab-df-container {\n",
              "      display:flex;\n",
              "      gap: 12px;\n",
              "    }\n",
              "\n",
              "    .colab-df-convert {\n",
              "      background-color: #E8F0FE;\n",
              "      border: none;\n",
              "      border-radius: 50%;\n",
              "      cursor: pointer;\n",
              "      display: none;\n",
              "      fill: #1967D2;\n",
              "      height: 32px;\n",
              "      padding: 0 0 0 0;\n",
              "      width: 32px;\n",
              "    }\n",
              "\n",
              "    .colab-df-convert:hover {\n",
              "      background-color: #E2EBFA;\n",
              "      box-shadow: 0px 1px 2px rgba(60, 64, 67, 0.3), 0px 1px 3px 1px rgba(60, 64, 67, 0.15);\n",
              "      fill: #174EA6;\n",
              "    }\n",
              "\n",
              "    .colab-df-buttons div {\n",
              "      margin-bottom: 4px;\n",
              "    }\n",
              "\n",
              "    [theme=dark] .colab-df-convert {\n",
              "      background-color: #3B4455;\n",
              "      fill: #D2E3FC;\n",
              "    }\n",
              "\n",
              "    [theme=dark] .colab-df-convert:hover {\n",
              "      background-color: #434B5C;\n",
              "      box-shadow: 0px 1px 3px 1px rgba(0, 0, 0, 0.15);\n",
              "      filter: drop-shadow(0px 1px 2px rgba(0, 0, 0, 0.3));\n",
              "      fill: #FFFFFF;\n",
              "    }\n",
              "  </style>\n",
              "\n",
              "    <script>\n",
              "      const buttonEl =\n",
              "        document.querySelector('#df-3517e0d9-c91d-4289-95b8-df55859001a9 button.colab-df-convert');\n",
              "      buttonEl.style.display =\n",
              "        google.colab.kernel.accessAllowed ? 'block' : 'none';\n",
              "\n",
              "      async function convertToInteractive(key) {\n",
              "        const element = document.querySelector('#df-3517e0d9-c91d-4289-95b8-df55859001a9');\n",
              "        const dataTable =\n",
              "          await google.colab.kernel.invokeFunction('convertToInteractive',\n",
              "                                                    [key], {});\n",
              "        if (!dataTable) return;\n",
              "\n",
              "        const docLinkHtml = 'Like what you see? Visit the ' +\n",
              "          '<a target=\"_blank\" href=https://colab.research.google.com/notebooks/data_table.ipynb>data table notebook</a>'\n",
              "          + ' to learn more about interactive tables.';\n",
              "        element.innerHTML = '';\n",
              "        dataTable['output_type'] = 'display_data';\n",
              "        await google.colab.output.renderOutput(dataTable, element);\n",
              "        const docLink = document.createElement('div');\n",
              "        docLink.innerHTML = docLinkHtml;\n",
              "        element.appendChild(docLink);\n",
              "      }\n",
              "    </script>\n",
              "  </div>\n",
              "\n",
              "\n",
              "<div id=\"df-14aa7bd2-3e0c-4031-970b-cbc88563720d\">\n",
              "  <button class=\"colab-df-quickchart\" onclick=\"quickchart('df-14aa7bd2-3e0c-4031-970b-cbc88563720d')\"\n",
              "            title=\"Suggest charts\"\n",
              "            style=\"display:none;\">\n",
              "\n",
              "<svg xmlns=\"http://www.w3.org/2000/svg\" height=\"24px\"viewBox=\"0 0 24 24\"\n",
              "     width=\"24px\">\n",
              "    <g>\n",
              "        <path d=\"M19 3H5c-1.1 0-2 .9-2 2v14c0 1.1.9 2 2 2h14c1.1 0 2-.9 2-2V5c0-1.1-.9-2-2-2zM9 17H7v-7h2v7zm4 0h-2V7h2v10zm4 0h-2v-4h2v4z\"/>\n",
              "    </g>\n",
              "</svg>\n",
              "  </button>\n",
              "\n",
              "<style>\n",
              "  .colab-df-quickchart {\n",
              "      --bg-color: #E8F0FE;\n",
              "      --fill-color: #1967D2;\n",
              "      --hover-bg-color: #E2EBFA;\n",
              "      --hover-fill-color: #174EA6;\n",
              "      --disabled-fill-color: #AAA;\n",
              "      --disabled-bg-color: #DDD;\n",
              "  }\n",
              "\n",
              "  [theme=dark] .colab-df-quickchart {\n",
              "      --bg-color: #3B4455;\n",
              "      --fill-color: #D2E3FC;\n",
              "      --hover-bg-color: #434B5C;\n",
              "      --hover-fill-color: #FFFFFF;\n",
              "      --disabled-bg-color: #3B4455;\n",
              "      --disabled-fill-color: #666;\n",
              "  }\n",
              "\n",
              "  .colab-df-quickchart {\n",
              "    background-color: var(--bg-color);\n",
              "    border: none;\n",
              "    border-radius: 50%;\n",
              "    cursor: pointer;\n",
              "    display: none;\n",
              "    fill: var(--fill-color);\n",
              "    height: 32px;\n",
              "    padding: 0;\n",
              "    width: 32px;\n",
              "  }\n",
              "\n",
              "  .colab-df-quickchart:hover {\n",
              "    background-color: var(--hover-bg-color);\n",
              "    box-shadow: 0 1px 2px rgba(60, 64, 67, 0.3), 0 1px 3px 1px rgba(60, 64, 67, 0.15);\n",
              "    fill: var(--button-hover-fill-color);\n",
              "  }\n",
              "\n",
              "  .colab-df-quickchart-complete:disabled,\n",
              "  .colab-df-quickchart-complete:disabled:hover {\n",
              "    background-color: var(--disabled-bg-color);\n",
              "    fill: var(--disabled-fill-color);\n",
              "    box-shadow: none;\n",
              "  }\n",
              "\n",
              "  .colab-df-spinner {\n",
              "    border: 2px solid var(--fill-color);\n",
              "    border-color: transparent;\n",
              "    border-bottom-color: var(--fill-color);\n",
              "    animation:\n",
              "      spin 1s steps(1) infinite;\n",
              "  }\n",
              "\n",
              "  @keyframes spin {\n",
              "    0% {\n",
              "      border-color: transparent;\n",
              "      border-bottom-color: var(--fill-color);\n",
              "      border-left-color: var(--fill-color);\n",
              "    }\n",
              "    20% {\n",
              "      border-color: transparent;\n",
              "      border-left-color: var(--fill-color);\n",
              "      border-top-color: var(--fill-color);\n",
              "    }\n",
              "    30% {\n",
              "      border-color: transparent;\n",
              "      border-left-color: var(--fill-color);\n",
              "      border-top-color: var(--fill-color);\n",
              "      border-right-color: var(--fill-color);\n",
              "    }\n",
              "    40% {\n",
              "      border-color: transparent;\n",
              "      border-right-color: var(--fill-color);\n",
              "      border-top-color: var(--fill-color);\n",
              "    }\n",
              "    60% {\n",
              "      border-color: transparent;\n",
              "      border-right-color: var(--fill-color);\n",
              "    }\n",
              "    80% {\n",
              "      border-color: transparent;\n",
              "      border-right-color: var(--fill-color);\n",
              "      border-bottom-color: var(--fill-color);\n",
              "    }\n",
              "    90% {\n",
              "      border-color: transparent;\n",
              "      border-bottom-color: var(--fill-color);\n",
              "    }\n",
              "  }\n",
              "</style>\n",
              "\n",
              "  <script>\n",
              "    async function quickchart(key) {\n",
              "      const quickchartButtonEl =\n",
              "        document.querySelector('#' + key + ' button');\n",
              "      quickchartButtonEl.disabled = true;  // To prevent multiple clicks.\n",
              "      quickchartButtonEl.classList.add('colab-df-spinner');\n",
              "      try {\n",
              "        const charts = await google.colab.kernel.invokeFunction(\n",
              "            'suggestCharts', [key], {});\n",
              "      } catch (error) {\n",
              "        console.error('Error during call to suggestCharts:', error);\n",
              "      }\n",
              "      quickchartButtonEl.classList.remove('colab-df-spinner');\n",
              "      quickchartButtonEl.classList.add('colab-df-quickchart-complete');\n",
              "    }\n",
              "    (() => {\n",
              "      let quickchartButtonEl =\n",
              "        document.querySelector('#df-14aa7bd2-3e0c-4031-970b-cbc88563720d button');\n",
              "      quickchartButtonEl.style.display =\n",
              "        google.colab.kernel.accessAllowed ? 'block' : 'none';\n",
              "    })();\n",
              "  </script>\n",
              "</div>\n",
              "    </div>\n",
              "  </div>\n"
            ]
          },
          "metadata": {},
          "execution_count": 67
        }
      ]
    },
    {
      "cell_type": "code",
      "source": [
        "X = data_2.drop([\"outcome\"], axis=  1)\n",
        "importance_xgb = xgb.feature_importances_\n",
        "for i in zip(X.columns, importance_xgb):\n",
        "  print(i)"
      ],
      "metadata": {
        "colab": {
          "base_uri": "https://localhost:8080/"
        },
        "id": "a9digy_EfK2c",
        "outputId": "8fffb43c-0b14-48ff-db63-e1b4ed1e30f7"
      },
      "execution_count": 68,
      "outputs": [
        {
          "output_type": "stream",
          "name": "stdout",
          "text": [
            "('age', 0.043514106)\n",
            "('Marital', 0.037096344)\n",
            "('Education_qual', 0.034981295)\n",
            "('Job', 0.050347053)\n",
            "('Month', 0.10756513)\n",
            "('Call_type', 0.20419432)\n",
            "('day', 0.044066597)\n",
            "('dur', 0.29899412)\n",
            "('Num_calls', 0.04126904)\n",
            "('Prev_outcome', 0.13797192)\n"
          ]
        }
      ]
    },
    {
      "cell_type": "code",
      "source": [
        "fpr_xgb, tpr_xgb, threshold_xgb = roc_curve(y_test, xgb.predict_proba(X_test)[:, 1])\n",
        "plt.plot(fpr_xgb, tpr_xgb, \"r--\")"
      ],
      "metadata": {
        "colab": {
          "base_uri": "https://localhost:8080/",
          "height": 447
        },
        "id": "1AvfVevYfMg3",
        "outputId": "948f25fc-1c52-4af4-f626-e6c5ad50a63a"
      },
      "execution_count": 69,
      "outputs": [
        {
          "output_type": "execute_result",
          "data": {
            "text/plain": [
              "[<matplotlib.lines.Line2D at 0x7870dc2367a0>]"
            ]
          },
          "metadata": {},
          "execution_count": 69
        },
        {
          "output_type": "display_data",
          "data": {
            "text/plain": [
              "<Figure size 640x480 with 1 Axes>"
            ],
            "image/png": "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\n"
          },
          "metadata": {}
        }
      ]
    },
    {
      "cell_type": "code",
      "source": [
        "confusion_matrix(y_test, y_pred_xgb)\n",
        "disp_knn = ConfusionMatrixDisplay(confusion_matrix(y_test, y_pred_xgb), display_labels = xgb.classes_)\n",
        "print(classification_report(y_test, y_pred_xgb))\n",
        "disp_knn.plot()"
      ],
      "metadata": {
        "colab": {
          "base_uri": "https://localhost:8080/",
          "height": 623
        },
        "id": "f1W-1sXSfQ86",
        "outputId": "5d626348-6107-4903-bf26-25cbed16e96e"
      },
      "execution_count": 70,
      "outputs": [
        {
          "output_type": "stream",
          "name": "stdout",
          "text": [
            "              precision    recall  f1-score   support\n",
            "\n",
            "           0       0.98      0.82      0.89     11952\n",
            "           1       0.40      0.89      0.55      1612\n",
            "\n",
            "    accuracy                           0.83     13564\n",
            "   macro avg       0.69      0.86      0.72     13564\n",
            "weighted avg       0.91      0.83      0.85     13564\n",
            "\n"
          ]
        },
        {
          "output_type": "execute_result",
          "data": {
            "text/plain": [
              "<sklearn.metrics._plot.confusion_matrix.ConfusionMatrixDisplay at 0x7870dd413430>"
            ]
          },
          "metadata": {},
          "execution_count": 70
        },
        {
          "output_type": "display_data",
          "data": {
            "text/plain": [
              "<Figure size 640x480 with 2 Axes>"
            ],
            "image/png": "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\n"
          },
          "metadata": {}
        }
      ]
    },
    {
      "cell_type": "markdown",
      "source": [
        "**KNN**"
      ],
      "metadata": {
        "id": "J2IYtcoGfcCv"
      }
    },
    {
      "cell_type": "code",
      "source": [
        "knn = KNeighborsClassifier(120)\n",
        "knn.fit(s_X_train, s_y_train)\n",
        "y_pred_knn = knn.predict(X_test)\n",
        "y_predict_prob_knn = knn.predict_proba(X_test)\n",
        "score_knn = roc_auc_score(y_test, y_predict_prob_knn[:, 1])\n",
        "acc_knn = accuracy_score(y_test,y_pred_knn )\n",
        "print( \"ROC score : \", score_knn, \"Train Accuracy : \", knn.score(s_X_train, s_y_train), \"Test Accuracy : \",knn.score(X_test, y_test), \"Accuracy Score : \",acc_knn)\n"
      ],
      "metadata": {
        "colab": {
          "base_uri": "https://localhost:8080/"
        },
        "id": "Ta-bKlNufVrx",
        "outputId": "0e860b69-0b69-49cb-b85b-e854289dce99"
      },
      "execution_count": 71,
      "outputs": [
        {
          "output_type": "stream",
          "name": "stdout",
          "text": [
            "ROC score :  0.8591429147109529 Train Accuracy :  0.8080085806220951 Test Accuracy :  0.7596579180182836 Accuracy Score :  0.7596579180182836\n"
          ]
        }
      ]
    },
    {
      "cell_type": "code",
      "source": [
        "con_mat_knn = pd.DataFrame(confusion_matrix(y_test,y_pred_knn), index = [\"Act possitive(Non Customer)\", \"At Negative(Customer)\"], columns = [\"Pred Possitive(Non Customer)\", \"Pred Negative(Customer)\"])\n",
        "con_mat_knn"
      ],
      "metadata": {
        "colab": {
          "base_uri": "https://localhost:8080/",
          "height": 112
        },
        "id": "Qw5mE81FfiJ1",
        "outputId": "bd73e949-5a44-4b1d-8f04-bd2eaa495be7"
      },
      "execution_count": 72,
      "outputs": [
        {
          "output_type": "execute_result",
          "data": {
            "text/plain": [
              "                             Pred Possitive(Non Customer)  \\\n",
              "Act possitive(Non Customer)                          8976   \n",
              "At Negative(Customer)                                 284   \n",
              "\n",
              "                             Pred Negative(Customer)  \n",
              "Act possitive(Non Customer)                     2976  \n",
              "At Negative(Customer)                           1328  "
            ],
            "text/html": [
              "\n",
              "  <div id=\"df-46add641-1608-4f2a-89be-4d8f38c6848a\" class=\"colab-df-container\">\n",
              "    <div>\n",
              "<style scoped>\n",
              "    .dataframe tbody tr th:only-of-type {\n",
              "        vertical-align: middle;\n",
              "    }\n",
              "\n",
              "    .dataframe tbody tr th {\n",
              "        vertical-align: top;\n",
              "    }\n",
              "\n",
              "    .dataframe thead th {\n",
              "        text-align: right;\n",
              "    }\n",
              "</style>\n",
              "<table border=\"1\" class=\"dataframe\">\n",
              "  <thead>\n",
              "    <tr style=\"text-align: right;\">\n",
              "      <th></th>\n",
              "      <th>Pred Possitive(Non Customer)</th>\n",
              "      <th>Pred Negative(Customer)</th>\n",
              "    </tr>\n",
              "  </thead>\n",
              "  <tbody>\n",
              "    <tr>\n",
              "      <th>Act possitive(Non Customer)</th>\n",
              "      <td>8976</td>\n",
              "      <td>2976</td>\n",
              "    </tr>\n",
              "    <tr>\n",
              "      <th>At Negative(Customer)</th>\n",
              "      <td>284</td>\n",
              "      <td>1328</td>\n",
              "    </tr>\n",
              "  </tbody>\n",
              "</table>\n",
              "</div>\n",
              "    <div class=\"colab-df-buttons\">\n",
              "\n",
              "  <div class=\"colab-df-container\">\n",
              "    <button class=\"colab-df-convert\" onclick=\"convertToInteractive('df-46add641-1608-4f2a-89be-4d8f38c6848a')\"\n",
              "            title=\"Convert this dataframe to an interactive table.\"\n",
              "            style=\"display:none;\">\n",
              "\n",
              "  <svg xmlns=\"http://www.w3.org/2000/svg\" height=\"24px\" viewBox=\"0 -960 960 960\">\n",
              "    <path d=\"M120-120v-720h720v720H120Zm60-500h600v-160H180v160Zm220 220h160v-160H400v160Zm0 220h160v-160H400v160ZM180-400h160v-160H180v160Zm440 0h160v-160H620v160ZM180-180h160v-160H180v160Zm440 0h160v-160H620v160Z\"/>\n",
              "  </svg>\n",
              "    </button>\n",
              "\n",
              "  <style>\n",
              "    .colab-df-container {\n",
              "      display:flex;\n",
              "      gap: 12px;\n",
              "    }\n",
              "\n",
              "    .colab-df-convert {\n",
              "      background-color: #E8F0FE;\n",
              "      border: none;\n",
              "      border-radius: 50%;\n",
              "      cursor: pointer;\n",
              "      display: none;\n",
              "      fill: #1967D2;\n",
              "      height: 32px;\n",
              "      padding: 0 0 0 0;\n",
              "      width: 32px;\n",
              "    }\n",
              "\n",
              "    .colab-df-convert:hover {\n",
              "      background-color: #E2EBFA;\n",
              "      box-shadow: 0px 1px 2px rgba(60, 64, 67, 0.3), 0px 1px 3px 1px rgba(60, 64, 67, 0.15);\n",
              "      fill: #174EA6;\n",
              "    }\n",
              "\n",
              "    .colab-df-buttons div {\n",
              "      margin-bottom: 4px;\n",
              "    }\n",
              "\n",
              "    [theme=dark] .colab-df-convert {\n",
              "      background-color: #3B4455;\n",
              "      fill: #D2E3FC;\n",
              "    }\n",
              "\n",
              "    [theme=dark] .colab-df-convert:hover {\n",
              "      background-color: #434B5C;\n",
              "      box-shadow: 0px 1px 3px 1px rgba(0, 0, 0, 0.15);\n",
              "      filter: drop-shadow(0px 1px 2px rgba(0, 0, 0, 0.3));\n",
              "      fill: #FFFFFF;\n",
              "    }\n",
              "  </style>\n",
              "\n",
              "    <script>\n",
              "      const buttonEl =\n",
              "        document.querySelector('#df-46add641-1608-4f2a-89be-4d8f38c6848a button.colab-df-convert');\n",
              "      buttonEl.style.display =\n",
              "        google.colab.kernel.accessAllowed ? 'block' : 'none';\n",
              "\n",
              "      async function convertToInteractive(key) {\n",
              "        const element = document.querySelector('#df-46add641-1608-4f2a-89be-4d8f38c6848a');\n",
              "        const dataTable =\n",
              "          await google.colab.kernel.invokeFunction('convertToInteractive',\n",
              "                                                    [key], {});\n",
              "        if (!dataTable) return;\n",
              "\n",
              "        const docLinkHtml = 'Like what you see? Visit the ' +\n",
              "          '<a target=\"_blank\" href=https://colab.research.google.com/notebooks/data_table.ipynb>data table notebook</a>'\n",
              "          + ' to learn more about interactive tables.';\n",
              "        element.innerHTML = '';\n",
              "        dataTable['output_type'] = 'display_data';\n",
              "        await google.colab.output.renderOutput(dataTable, element);\n",
              "        const docLink = document.createElement('div');\n",
              "        docLink.innerHTML = docLinkHtml;\n",
              "        element.appendChild(docLink);\n",
              "      }\n",
              "    </script>\n",
              "  </div>\n",
              "\n",
              "\n",
              "<div id=\"df-705d2371-1a31-4fc4-881d-a52296c98129\">\n",
              "  <button class=\"colab-df-quickchart\" onclick=\"quickchart('df-705d2371-1a31-4fc4-881d-a52296c98129')\"\n",
              "            title=\"Suggest charts\"\n",
              "            style=\"display:none;\">\n",
              "\n",
              "<svg xmlns=\"http://www.w3.org/2000/svg\" height=\"24px\"viewBox=\"0 0 24 24\"\n",
              "     width=\"24px\">\n",
              "    <g>\n",
              "        <path d=\"M19 3H5c-1.1 0-2 .9-2 2v14c0 1.1.9 2 2 2h14c1.1 0 2-.9 2-2V5c0-1.1-.9-2-2-2zM9 17H7v-7h2v7zm4 0h-2V7h2v10zm4 0h-2v-4h2v4z\"/>\n",
              "    </g>\n",
              "</svg>\n",
              "  </button>\n",
              "\n",
              "<style>\n",
              "  .colab-df-quickchart {\n",
              "      --bg-color: #E8F0FE;\n",
              "      --fill-color: #1967D2;\n",
              "      --hover-bg-color: #E2EBFA;\n",
              "      --hover-fill-color: #174EA6;\n",
              "      --disabled-fill-color: #AAA;\n",
              "      --disabled-bg-color: #DDD;\n",
              "  }\n",
              "\n",
              "  [theme=dark] .colab-df-quickchart {\n",
              "      --bg-color: #3B4455;\n",
              "      --fill-color: #D2E3FC;\n",
              "      --hover-bg-color: #434B5C;\n",
              "      --hover-fill-color: #FFFFFF;\n",
              "      --disabled-bg-color: #3B4455;\n",
              "      --disabled-fill-color: #666;\n",
              "  }\n",
              "\n",
              "  .colab-df-quickchart {\n",
              "    background-color: var(--bg-color);\n",
              "    border: none;\n",
              "    border-radius: 50%;\n",
              "    cursor: pointer;\n",
              "    display: none;\n",
              "    fill: var(--fill-color);\n",
              "    height: 32px;\n",
              "    padding: 0;\n",
              "    width: 32px;\n",
              "  }\n",
              "\n",
              "  .colab-df-quickchart:hover {\n",
              "    background-color: var(--hover-bg-color);\n",
              "    box-shadow: 0 1px 2px rgba(60, 64, 67, 0.3), 0 1px 3px 1px rgba(60, 64, 67, 0.15);\n",
              "    fill: var(--button-hover-fill-color);\n",
              "  }\n",
              "\n",
              "  .colab-df-quickchart-complete:disabled,\n",
              "  .colab-df-quickchart-complete:disabled:hover {\n",
              "    background-color: var(--disabled-bg-color);\n",
              "    fill: var(--disabled-fill-color);\n",
              "    box-shadow: none;\n",
              "  }\n",
              "\n",
              "  .colab-df-spinner {\n",
              "    border: 2px solid var(--fill-color);\n",
              "    border-color: transparent;\n",
              "    border-bottom-color: var(--fill-color);\n",
              "    animation:\n",
              "      spin 1s steps(1) infinite;\n",
              "  }\n",
              "\n",
              "  @keyframes spin {\n",
              "    0% {\n",
              "      border-color: transparent;\n",
              "      border-bottom-color: var(--fill-color);\n",
              "      border-left-color: var(--fill-color);\n",
              "    }\n",
              "    20% {\n",
              "      border-color: transparent;\n",
              "      border-left-color: var(--fill-color);\n",
              "      border-top-color: var(--fill-color);\n",
              "    }\n",
              "    30% {\n",
              "      border-color: transparent;\n",
              "      border-left-color: var(--fill-color);\n",
              "      border-top-color: var(--fill-color);\n",
              "      border-right-color: var(--fill-color);\n",
              "    }\n",
              "    40% {\n",
              "      border-color: transparent;\n",
              "      border-right-color: var(--fill-color);\n",
              "      border-top-color: var(--fill-color);\n",
              "    }\n",
              "    60% {\n",
              "      border-color: transparent;\n",
              "      border-right-color: var(--fill-color);\n",
              "    }\n",
              "    80% {\n",
              "      border-color: transparent;\n",
              "      border-right-color: var(--fill-color);\n",
              "      border-bottom-color: var(--fill-color);\n",
              "    }\n",
              "    90% {\n",
              "      border-color: transparent;\n",
              "      border-bottom-color: var(--fill-color);\n",
              "    }\n",
              "  }\n",
              "</style>\n",
              "\n",
              "  <script>\n",
              "    async function quickchart(key) {\n",
              "      const quickchartButtonEl =\n",
              "        document.querySelector('#' + key + ' button');\n",
              "      quickchartButtonEl.disabled = true;  // To prevent multiple clicks.\n",
              "      quickchartButtonEl.classList.add('colab-df-spinner');\n",
              "      try {\n",
              "        const charts = await google.colab.kernel.invokeFunction(\n",
              "            'suggestCharts', [key], {});\n",
              "      } catch (error) {\n",
              "        console.error('Error during call to suggestCharts:', error);\n",
              "      }\n",
              "      quickchartButtonEl.classList.remove('colab-df-spinner');\n",
              "      quickchartButtonEl.classList.add('colab-df-quickchart-complete');\n",
              "    }\n",
              "    (() => {\n",
              "      let quickchartButtonEl =\n",
              "        document.querySelector('#df-705d2371-1a31-4fc4-881d-a52296c98129 button');\n",
              "      quickchartButtonEl.style.display =\n",
              "        google.colab.kernel.accessAllowed ? 'block' : 'none';\n",
              "    })();\n",
              "  </script>\n",
              "</div>\n",
              "    </div>\n",
              "  </div>\n"
            ]
          },
          "metadata": {},
          "execution_count": 72
        }
      ]
    },
    {
      "cell_type": "code",
      "source": [
        "fpr_knn, tpr_knn, threshold_knn = roc_curve(y_test, knn.predict_proba(X_test)[:, 1])\n",
        "plt.plot(fpr_knn, tpr_knn, \"y--\")"
      ],
      "metadata": {
        "colab": {
          "base_uri": "https://localhost:8080/",
          "height": 447
        },
        "id": "l4oUxOuTflAu",
        "outputId": "71edd504-18ea-4746-9ab6-cc862174454b"
      },
      "execution_count": 73,
      "outputs": [
        {
          "output_type": "execute_result",
          "data": {
            "text/plain": [
              "[<matplotlib.lines.Line2D at 0x7870d7f12a10>]"
            ]
          },
          "metadata": {},
          "execution_count": 73
        },
        {
          "output_type": "display_data",
          "data": {
            "text/plain": [
              "<Figure size 640x480 with 1 Axes>"
            ],
            "image/png": "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\n"
          },
          "metadata": {}
        }
      ]
    },
    {
      "cell_type": "code",
      "source": [
        "confusion_matrix(y_test, y_pred_knn)\n",
        "disp_log = ConfusionMatrixDisplay(confusion_matrix(y_test, y_pred_knn), display_labels = knn.classes_)\n",
        "print(classification_report(y_test, y_pred_knn))\n",
        "disp_knn.plot()"
      ],
      "metadata": {
        "colab": {
          "base_uri": "https://localhost:8080/",
          "height": 623
        },
        "id": "0KRlclRHfpoJ",
        "outputId": "ac0b90dd-49f0-418f-994c-a033e82a1823"
      },
      "execution_count": 74,
      "outputs": [
        {
          "output_type": "stream",
          "name": "stdout",
          "text": [
            "              precision    recall  f1-score   support\n",
            "\n",
            "           0       0.97      0.75      0.85     11952\n",
            "           1       0.31      0.82      0.45      1612\n",
            "\n",
            "    accuracy                           0.76     13564\n",
            "   macro avg       0.64      0.79      0.65     13564\n",
            "weighted avg       0.89      0.76      0.80     13564\n",
            "\n"
          ]
        },
        {
          "output_type": "execute_result",
          "data": {
            "text/plain": [
              "<sklearn.metrics._plot.confusion_matrix.ConfusionMatrixDisplay at 0x7870dd413430>"
            ]
          },
          "metadata": {},
          "execution_count": 74
        },
        {
          "output_type": "display_data",
          "data": {
            "text/plain": [
              "<Figure size 640x480 with 2 Axes>"
            ],
            "image/png": "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\n"
          },
          "metadata": {}
        }
      ]
    },
    {
      "cell_type": "markdown",
      "source": [
        "**Voting Classifier**"
      ],
      "metadata": {
        "id": "eX5rL27sf35q"
      }
    },
    {
      "cell_type": "code",
      "source": [
        "vc = VotingClassifier(estimators = [('log', log), ('rf', rf), ('dt', dt), (\"xgb\", xgb), (\"knn\", knn)],voting='soft')\n",
        "vc.fit(s_X_train, s_y_train)\n",
        "y_pred_vc = vc.predict(X_test)\n",
        "acc_vc = accuracy_score(y_test,y_pred_vc)\n",
        "y_predict_prob_vc = vc.predict_proba(X_test)\n",
        "score_vc = roc_auc_score(y_test, y_predict_prob_vc[:, 1])\n",
        "print(\"ROC : \", score_vc, \"Train Accuracy : \", vc.score(s_X_train, s_y_train), \"Test Accuracy : \", vc.score(X_test, y_test), \"Accuracy Score :\", acc_vc)\n"
      ],
      "metadata": {
        "colab": {
          "base_uri": "https://localhost:8080/"
        },
        "id": "362wuQK0fud7",
        "outputId": "07060da5-8b69-40bb-beca-1fbe188a9f0f"
      },
      "execution_count": 75,
      "outputs": [
        {
          "output_type": "stream",
          "name": "stderr",
          "text": [
            "/usr/local/lib/python3.10/dist-packages/sklearn/linear_model/_logistic.py:458: ConvergenceWarning:\n",
            "\n",
            "lbfgs failed to converge (status=1):\n",
            "STOP: TOTAL NO. of ITERATIONS REACHED LIMIT.\n",
            "\n",
            "Increase the number of iterations (max_iter) or scale the data as shown in:\n",
            "    https://scikit-learn.org/stable/modules/preprocessing.html\n",
            "Please also refer to the documentation for alternative solver options:\n",
            "    https://scikit-learn.org/stable/modules/linear_model.html#logistic-regression\n",
            "\n"
          ]
        },
        {
          "output_type": "stream",
          "name": "stdout",
          "text": [
            "ROC :  0.9022960639082385 Train Accuracy :  0.8471576689309975 Test Accuracy :  0.7714538484222944 Accuracy Score : 0.7714538484222944\n"
          ]
        }
      ]
    },
    {
      "cell_type": "code",
      "source": [
        "con_mat_vc= pd.DataFrame(confusion_matrix(y_test,y_pred_vc), index = [\"Act possitive(Non Customer)\", \"At Negative(Customer)\"], columns = [\"Pred Possitive(Non Customer)\", \"Pred Negative(Customer)\"])\n",
        "con_mat_vc"
      ],
      "metadata": {
        "colab": {
          "base_uri": "https://localhost:8080/",
          "height": 112
        },
        "id": "LH43JoMRf_wD",
        "outputId": "387ae480-2208-41c4-a601-84f1e442b8c3"
      },
      "execution_count": 76,
      "outputs": [
        {
          "output_type": "execute_result",
          "data": {
            "text/plain": [
              "                             Pred Possitive(Non Customer)  \\\n",
              "Act possitive(Non Customer)                          8985   \n",
              "At Negative(Customer)                                 133   \n",
              "\n",
              "                             Pred Negative(Customer)  \n",
              "Act possitive(Non Customer)                     2967  \n",
              "At Negative(Customer)                           1479  "
            ],
            "text/html": [
              "\n",
              "  <div id=\"df-3122bc84-68a8-4957-9f85-c3582e520bcc\" class=\"colab-df-container\">\n",
              "    <div>\n",
              "<style scoped>\n",
              "    .dataframe tbody tr th:only-of-type {\n",
              "        vertical-align: middle;\n",
              "    }\n",
              "\n",
              "    .dataframe tbody tr th {\n",
              "        vertical-align: top;\n",
              "    }\n",
              "\n",
              "    .dataframe thead th {\n",
              "        text-align: right;\n",
              "    }\n",
              "</style>\n",
              "<table border=\"1\" class=\"dataframe\">\n",
              "  <thead>\n",
              "    <tr style=\"text-align: right;\">\n",
              "      <th></th>\n",
              "      <th>Pred Possitive(Non Customer)</th>\n",
              "      <th>Pred Negative(Customer)</th>\n",
              "    </tr>\n",
              "  </thead>\n",
              "  <tbody>\n",
              "    <tr>\n",
              "      <th>Act possitive(Non Customer)</th>\n",
              "      <td>8985</td>\n",
              "      <td>2967</td>\n",
              "    </tr>\n",
              "    <tr>\n",
              "      <th>At Negative(Customer)</th>\n",
              "      <td>133</td>\n",
              "      <td>1479</td>\n",
              "    </tr>\n",
              "  </tbody>\n",
              "</table>\n",
              "</div>\n",
              "    <div class=\"colab-df-buttons\">\n",
              "\n",
              "  <div class=\"colab-df-container\">\n",
              "    <button class=\"colab-df-convert\" onclick=\"convertToInteractive('df-3122bc84-68a8-4957-9f85-c3582e520bcc')\"\n",
              "            title=\"Convert this dataframe to an interactive table.\"\n",
              "            style=\"display:none;\">\n",
              "\n",
              "  <svg xmlns=\"http://www.w3.org/2000/svg\" height=\"24px\" viewBox=\"0 -960 960 960\">\n",
              "    <path d=\"M120-120v-720h720v720H120Zm60-500h600v-160H180v160Zm220 220h160v-160H400v160Zm0 220h160v-160H400v160ZM180-400h160v-160H180v160Zm440 0h160v-160H620v160ZM180-180h160v-160H180v160Zm440 0h160v-160H620v160Z\"/>\n",
              "  </svg>\n",
              "    </button>\n",
              "\n",
              "  <style>\n",
              "    .colab-df-container {\n",
              "      display:flex;\n",
              "      gap: 12px;\n",
              "    }\n",
              "\n",
              "    .colab-df-convert {\n",
              "      background-color: #E8F0FE;\n",
              "      border: none;\n",
              "      border-radius: 50%;\n",
              "      cursor: pointer;\n",
              "      display: none;\n",
              "      fill: #1967D2;\n",
              "      height: 32px;\n",
              "      padding: 0 0 0 0;\n",
              "      width: 32px;\n",
              "    }\n",
              "\n",
              "    .colab-df-convert:hover {\n",
              "      background-color: #E2EBFA;\n",
              "      box-shadow: 0px 1px 2px rgba(60, 64, 67, 0.3), 0px 1px 3px 1px rgba(60, 64, 67, 0.15);\n",
              "      fill: #174EA6;\n",
              "    }\n",
              "\n",
              "    .colab-df-buttons div {\n",
              "      margin-bottom: 4px;\n",
              "    }\n",
              "\n",
              "    [theme=dark] .colab-df-convert {\n",
              "      background-color: #3B4455;\n",
              "      fill: #D2E3FC;\n",
              "    }\n",
              "\n",
              "    [theme=dark] .colab-df-convert:hover {\n",
              "      background-color: #434B5C;\n",
              "      box-shadow: 0px 1px 3px 1px rgba(0, 0, 0, 0.15);\n",
              "      filter: drop-shadow(0px 1px 2px rgba(0, 0, 0, 0.3));\n",
              "      fill: #FFFFFF;\n",
              "    }\n",
              "  </style>\n",
              "\n",
              "    <script>\n",
              "      const buttonEl =\n",
              "        document.querySelector('#df-3122bc84-68a8-4957-9f85-c3582e520bcc button.colab-df-convert');\n",
              "      buttonEl.style.display =\n",
              "        google.colab.kernel.accessAllowed ? 'block' : 'none';\n",
              "\n",
              "      async function convertToInteractive(key) {\n",
              "        const element = document.querySelector('#df-3122bc84-68a8-4957-9f85-c3582e520bcc');\n",
              "        const dataTable =\n",
              "          await google.colab.kernel.invokeFunction('convertToInteractive',\n",
              "                                                    [key], {});\n",
              "        if (!dataTable) return;\n",
              "\n",
              "        const docLinkHtml = 'Like what you see? Visit the ' +\n",
              "          '<a target=\"_blank\" href=https://colab.research.google.com/notebooks/data_table.ipynb>data table notebook</a>'\n",
              "          + ' to learn more about interactive tables.';\n",
              "        element.innerHTML = '';\n",
              "        dataTable['output_type'] = 'display_data';\n",
              "        await google.colab.output.renderOutput(dataTable, element);\n",
              "        const docLink = document.createElement('div');\n",
              "        docLink.innerHTML = docLinkHtml;\n",
              "        element.appendChild(docLink);\n",
              "      }\n",
              "    </script>\n",
              "  </div>\n",
              "\n",
              "\n",
              "<div id=\"df-ab085af6-a4c4-495e-85a4-8753b9621e38\">\n",
              "  <button class=\"colab-df-quickchart\" onclick=\"quickchart('df-ab085af6-a4c4-495e-85a4-8753b9621e38')\"\n",
              "            title=\"Suggest charts\"\n",
              "            style=\"display:none;\">\n",
              "\n",
              "<svg xmlns=\"http://www.w3.org/2000/svg\" height=\"24px\"viewBox=\"0 0 24 24\"\n",
              "     width=\"24px\">\n",
              "    <g>\n",
              "        <path d=\"M19 3H5c-1.1 0-2 .9-2 2v14c0 1.1.9 2 2 2h14c1.1 0 2-.9 2-2V5c0-1.1-.9-2-2-2zM9 17H7v-7h2v7zm4 0h-2V7h2v10zm4 0h-2v-4h2v4z\"/>\n",
              "    </g>\n",
              "</svg>\n",
              "  </button>\n",
              "\n",
              "<style>\n",
              "  .colab-df-quickchart {\n",
              "      --bg-color: #E8F0FE;\n",
              "      --fill-color: #1967D2;\n",
              "      --hover-bg-color: #E2EBFA;\n",
              "      --hover-fill-color: #174EA6;\n",
              "      --disabled-fill-color: #AAA;\n",
              "      --disabled-bg-color: #DDD;\n",
              "  }\n",
              "\n",
              "  [theme=dark] .colab-df-quickchart {\n",
              "      --bg-color: #3B4455;\n",
              "      --fill-color: #D2E3FC;\n",
              "      --hover-bg-color: #434B5C;\n",
              "      --hover-fill-color: #FFFFFF;\n",
              "      --disabled-bg-color: #3B4455;\n",
              "      --disabled-fill-color: #666;\n",
              "  }\n",
              "\n",
              "  .colab-df-quickchart {\n",
              "    background-color: var(--bg-color);\n",
              "    border: none;\n",
              "    border-radius: 50%;\n",
              "    cursor: pointer;\n",
              "    display: none;\n",
              "    fill: var(--fill-color);\n",
              "    height: 32px;\n",
              "    padding: 0;\n",
              "    width: 32px;\n",
              "  }\n",
              "\n",
              "  .colab-df-quickchart:hover {\n",
              "    background-color: var(--hover-bg-color);\n",
              "    box-shadow: 0 1px 2px rgba(60, 64, 67, 0.3), 0 1px 3px 1px rgba(60, 64, 67, 0.15);\n",
              "    fill: var(--button-hover-fill-color);\n",
              "  }\n",
              "\n",
              "  .colab-df-quickchart-complete:disabled,\n",
              "  .colab-df-quickchart-complete:disabled:hover {\n",
              "    background-color: var(--disabled-bg-color);\n",
              "    fill: var(--disabled-fill-color);\n",
              "    box-shadow: none;\n",
              "  }\n",
              "\n",
              "  .colab-df-spinner {\n",
              "    border: 2px solid var(--fill-color);\n",
              "    border-color: transparent;\n",
              "    border-bottom-color: var(--fill-color);\n",
              "    animation:\n",
              "      spin 1s steps(1) infinite;\n",
              "  }\n",
              "\n",
              "  @keyframes spin {\n",
              "    0% {\n",
              "      border-color: transparent;\n",
              "      border-bottom-color: var(--fill-color);\n",
              "      border-left-color: var(--fill-color);\n",
              "    }\n",
              "    20% {\n",
              "      border-color: transparent;\n",
              "      border-left-color: var(--fill-color);\n",
              "      border-top-color: var(--fill-color);\n",
              "    }\n",
              "    30% {\n",
              "      border-color: transparent;\n",
              "      border-left-color: var(--fill-color);\n",
              "      border-top-color: var(--fill-color);\n",
              "      border-right-color: var(--fill-color);\n",
              "    }\n",
              "    40% {\n",
              "      border-color: transparent;\n",
              "      border-right-color: var(--fill-color);\n",
              "      border-top-color: var(--fill-color);\n",
              "    }\n",
              "    60% {\n",
              "      border-color: transparent;\n",
              "      border-right-color: var(--fill-color);\n",
              "    }\n",
              "    80% {\n",
              "      border-color: transparent;\n",
              "      border-right-color: var(--fill-color);\n",
              "      border-bottom-color: var(--fill-color);\n",
              "    }\n",
              "    90% {\n",
              "      border-color: transparent;\n",
              "      border-bottom-color: var(--fill-color);\n",
              "    }\n",
              "  }\n",
              "</style>\n",
              "\n",
              "  <script>\n",
              "    async function quickchart(key) {\n",
              "      const quickchartButtonEl =\n",
              "        document.querySelector('#' + key + ' button');\n",
              "      quickchartButtonEl.disabled = true;  // To prevent multiple clicks.\n",
              "      quickchartButtonEl.classList.add('colab-df-spinner');\n",
              "      try {\n",
              "        const charts = await google.colab.kernel.invokeFunction(\n",
              "            'suggestCharts', [key], {});\n",
              "      } catch (error) {\n",
              "        console.error('Error during call to suggestCharts:', error);\n",
              "      }\n",
              "      quickchartButtonEl.classList.remove('colab-df-spinner');\n",
              "      quickchartButtonEl.classList.add('colab-df-quickchart-complete');\n",
              "    }\n",
              "    (() => {\n",
              "      let quickchartButtonEl =\n",
              "        document.querySelector('#df-ab085af6-a4c4-495e-85a4-8753b9621e38 button');\n",
              "      quickchartButtonEl.style.display =\n",
              "        google.colab.kernel.accessAllowed ? 'block' : 'none';\n",
              "    })();\n",
              "  </script>\n",
              "</div>\n",
              "    </div>\n",
              "  </div>\n"
            ]
          },
          "metadata": {},
          "execution_count": 76
        }
      ]
    },
    {
      "cell_type": "code",
      "source": [
        "fpr_vc, tpr_vc, threshold_vc = roc_curve(y_test, vc.predict_proba(X_test)[:, 1])\n",
        "plt.plot(fpr_vc, tpr_vc)"
      ],
      "metadata": {
        "colab": {
          "base_uri": "https://localhost:8080/",
          "height": 447
        },
        "id": "KwjmYTHJgGnX",
        "outputId": "f285ebef-0775-44f7-eb6b-4cc3fd74a41d"
      },
      "execution_count": 77,
      "outputs": [
        {
          "output_type": "execute_result",
          "data": {
            "text/plain": [
              "[<matplotlib.lines.Line2D at 0x7870d7e4f7c0>]"
            ]
          },
          "metadata": {},
          "execution_count": 77
        },
        {
          "output_type": "display_data",
          "data": {
            "text/plain": [
              "<Figure size 640x480 with 1 Axes>"
            ],
            "image/png": "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\n"
          },
          "metadata": {}
        }
      ]
    },
    {
      "cell_type": "code",
      "source": [
        "confusion_matrix(y_test, y_pred_vc)\n",
        "disp_vc = ConfusionMatrixDisplay(confusion_matrix(y_test, y_pred_vc), display_labels = vc.classes_)\n",
        "print(classification_report(y_test, y_pred_vc))\n",
        "disp_vc.plot()"
      ],
      "metadata": {
        "colab": {
          "base_uri": "https://localhost:8080/",
          "height": 623
        },
        "id": "CfIgqt3NgK5g",
        "outputId": "03ace9a4-cd0e-44ea-baa3-9443ea506495"
      },
      "execution_count": 78,
      "outputs": [
        {
          "output_type": "stream",
          "name": "stdout",
          "text": [
            "              precision    recall  f1-score   support\n",
            "\n",
            "           0       0.99      0.75      0.85     11952\n",
            "           1       0.33      0.92      0.49      1612\n",
            "\n",
            "    accuracy                           0.77     13564\n",
            "   macro avg       0.66      0.83      0.67     13564\n",
            "weighted avg       0.91      0.77      0.81     13564\n",
            "\n"
          ]
        },
        {
          "output_type": "execute_result",
          "data": {
            "text/plain": [
              "<sklearn.metrics._plot.confusion_matrix.ConfusionMatrixDisplay at 0x7870d7e31db0>"
            ]
          },
          "metadata": {},
          "execution_count": 78
        },
        {
          "output_type": "display_data",
          "data": {
            "text/plain": [
              "<Figure size 640x480 with 2 Axes>"
            ],
            "image/png": "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\n"
          },
          "metadata": {}
        }
      ]
    },
    {
      "cell_type": "markdown",
      "source": [
        "**Consolidating the results of all model to choose the best model**"
      ],
      "metadata": {
        "id": "x5a2NsmRgTE0"
      }
    },
    {
      "cell_type": "code",
      "source": [
        "info = {\"Model Name\" : [\"Logistic Regression\", \"Random Forest\", \"Desition Tree\", \"XGB Classifier\", \"KNeighboursClassifier\", \"Voting Classifier\"],\n",
        "        \"Test ROC Score\" : [score_log, score_rf, score_dt, score_xgb, score_knn, score_vc],\n",
        "        \"False Negatives(Customers Predicted as Non Customers)\" : [con_mat_log.iloc[1, 0], con_mat_rf.iloc[1, 0], con_mat_dt.iloc[1, 0], con_mat_xgb.iloc[1, 0], con_mat_knn.iloc[1, 0], con_mat_vc.iloc[1, 0]],\n",
        "        \"True Negatives(Customers Predicted exactly by the model)\" : [con_mat_log.iloc[1, 1], con_mat_rf.iloc[1, 1], con_mat_dt.iloc[1, 1], con_mat_xgb.iloc[1, 1], con_mat_knn.iloc[1, 1], con_mat_vc.iloc[1, 1]]}\n",
        "consolidated_result = pd.DataFrame(info)\n",
        "consolidated_result.sort_values(\"False Negatives(Customers Predicted as Non Customers)\")"
      ],
      "metadata": {
        "colab": {
          "base_uri": "https://localhost:8080/",
          "height": 237
        },
        "id": "8NpS5ihIgP3L",
        "outputId": "b182a0b3-887b-4dc0-dc0a-e880b97ec8a4"
      },
      "execution_count": 79,
      "outputs": [
        {
          "output_type": "execute_result",
          "data": {
            "text/plain": [
              "              Model Name  Test ROC Score  \\\n",
              "5      Voting Classifier        0.902296   \n",
              "2          Desition Tree        0.869460   \n",
              "3         XGB Classifier        0.923043   \n",
              "1          Random Forest        0.902735   \n",
              "4  KNeighboursClassifier        0.859143   \n",
              "0    Logistic Regression        0.865425   \n",
              "\n",
              "   False Negatives(Customers Predicted as Non Customers)  \\\n",
              "5                                                133       \n",
              "2                                                171       \n",
              "3                                                171       \n",
              "1                                                213       \n",
              "4                                                284       \n",
              "0                                                363       \n",
              "\n",
              "   True Negatives(Customers Predicted exactly by the model)  \n",
              "5                                               1479         \n",
              "2                                               1441         \n",
              "3                                               1441         \n",
              "1                                               1399         \n",
              "4                                               1328         \n",
              "0                                               1249         "
            ],
            "text/html": [
              "\n",
              "  <div id=\"df-d0bb08a7-3bf3-4358-beb7-61079a39921e\" class=\"colab-df-container\">\n",
              "    <div>\n",
              "<style scoped>\n",
              "    .dataframe tbody tr th:only-of-type {\n",
              "        vertical-align: middle;\n",
              "    }\n",
              "\n",
              "    .dataframe tbody tr th {\n",
              "        vertical-align: top;\n",
              "    }\n",
              "\n",
              "    .dataframe thead th {\n",
              "        text-align: right;\n",
              "    }\n",
              "</style>\n",
              "<table border=\"1\" class=\"dataframe\">\n",
              "  <thead>\n",
              "    <tr style=\"text-align: right;\">\n",
              "      <th></th>\n",
              "      <th>Model Name</th>\n",
              "      <th>Test ROC Score</th>\n",
              "      <th>False Negatives(Customers Predicted as Non Customers)</th>\n",
              "      <th>True Negatives(Customers Predicted exactly by the model)</th>\n",
              "    </tr>\n",
              "  </thead>\n",
              "  <tbody>\n",
              "    <tr>\n",
              "      <th>5</th>\n",
              "      <td>Voting Classifier</td>\n",
              "      <td>0.902296</td>\n",
              "      <td>133</td>\n",
              "      <td>1479</td>\n",
              "    </tr>\n",
              "    <tr>\n",
              "      <th>2</th>\n",
              "      <td>Desition Tree</td>\n",
              "      <td>0.869460</td>\n",
              "      <td>171</td>\n",
              "      <td>1441</td>\n",
              "    </tr>\n",
              "    <tr>\n",
              "      <th>3</th>\n",
              "      <td>XGB Classifier</td>\n",
              "      <td>0.923043</td>\n",
              "      <td>171</td>\n",
              "      <td>1441</td>\n",
              "    </tr>\n",
              "    <tr>\n",
              "      <th>1</th>\n",
              "      <td>Random Forest</td>\n",
              "      <td>0.902735</td>\n",
              "      <td>213</td>\n",
              "      <td>1399</td>\n",
              "    </tr>\n",
              "    <tr>\n",
              "      <th>4</th>\n",
              "      <td>KNeighboursClassifier</td>\n",
              "      <td>0.859143</td>\n",
              "      <td>284</td>\n",
              "      <td>1328</td>\n",
              "    </tr>\n",
              "    <tr>\n",
              "      <th>0</th>\n",
              "      <td>Logistic Regression</td>\n",
              "      <td>0.865425</td>\n",
              "      <td>363</td>\n",
              "      <td>1249</td>\n",
              "    </tr>\n",
              "  </tbody>\n",
              "</table>\n",
              "</div>\n",
              "    <div class=\"colab-df-buttons\">\n",
              "\n",
              "  <div class=\"colab-df-container\">\n",
              "    <button class=\"colab-df-convert\" onclick=\"convertToInteractive('df-d0bb08a7-3bf3-4358-beb7-61079a39921e')\"\n",
              "            title=\"Convert this dataframe to an interactive table.\"\n",
              "            style=\"display:none;\">\n",
              "\n",
              "  <svg xmlns=\"http://www.w3.org/2000/svg\" height=\"24px\" viewBox=\"0 -960 960 960\">\n",
              "    <path d=\"M120-120v-720h720v720H120Zm60-500h600v-160H180v160Zm220 220h160v-160H400v160Zm0 220h160v-160H400v160ZM180-400h160v-160H180v160Zm440 0h160v-160H620v160ZM180-180h160v-160H180v160Zm440 0h160v-160H620v160Z\"/>\n",
              "  </svg>\n",
              "    </button>\n",
              "\n",
              "  <style>\n",
              "    .colab-df-container {\n",
              "      display:flex;\n",
              "      gap: 12px;\n",
              "    }\n",
              "\n",
              "    .colab-df-convert {\n",
              "      background-color: #E8F0FE;\n",
              "      border: none;\n",
              "      border-radius: 50%;\n",
              "      cursor: pointer;\n",
              "      display: none;\n",
              "      fill: #1967D2;\n",
              "      height: 32px;\n",
              "      padding: 0 0 0 0;\n",
              "      width: 32px;\n",
              "    }\n",
              "\n",
              "    .colab-df-convert:hover {\n",
              "      background-color: #E2EBFA;\n",
              "      box-shadow: 0px 1px 2px rgba(60, 64, 67, 0.3), 0px 1px 3px 1px rgba(60, 64, 67, 0.15);\n",
              "      fill: #174EA6;\n",
              "    }\n",
              "\n",
              "    .colab-df-buttons div {\n",
              "      margin-bottom: 4px;\n",
              "    }\n",
              "\n",
              "    [theme=dark] .colab-df-convert {\n",
              "      background-color: #3B4455;\n",
              "      fill: #D2E3FC;\n",
              "    }\n",
              "\n",
              "    [theme=dark] .colab-df-convert:hover {\n",
              "      background-color: #434B5C;\n",
              "      box-shadow: 0px 1px 3px 1px rgba(0, 0, 0, 0.15);\n",
              "      filter: drop-shadow(0px 1px 2px rgba(0, 0, 0, 0.3));\n",
              "      fill: #FFFFFF;\n",
              "    }\n",
              "  </style>\n",
              "\n",
              "    <script>\n",
              "      const buttonEl =\n",
              "        document.querySelector('#df-d0bb08a7-3bf3-4358-beb7-61079a39921e button.colab-df-convert');\n",
              "      buttonEl.style.display =\n",
              "        google.colab.kernel.accessAllowed ? 'block' : 'none';\n",
              "\n",
              "      async function convertToInteractive(key) {\n",
              "        const element = document.querySelector('#df-d0bb08a7-3bf3-4358-beb7-61079a39921e');\n",
              "        const dataTable =\n",
              "          await google.colab.kernel.invokeFunction('convertToInteractive',\n",
              "                                                    [key], {});\n",
              "        if (!dataTable) return;\n",
              "\n",
              "        const docLinkHtml = 'Like what you see? Visit the ' +\n",
              "          '<a target=\"_blank\" href=https://colab.research.google.com/notebooks/data_table.ipynb>data table notebook</a>'\n",
              "          + ' to learn more about interactive tables.';\n",
              "        element.innerHTML = '';\n",
              "        dataTable['output_type'] = 'display_data';\n",
              "        await google.colab.output.renderOutput(dataTable, element);\n",
              "        const docLink = document.createElement('div');\n",
              "        docLink.innerHTML = docLinkHtml;\n",
              "        element.appendChild(docLink);\n",
              "      }\n",
              "    </script>\n",
              "  </div>\n",
              "\n",
              "\n",
              "<div id=\"df-8b31970b-d1e2-462e-b55c-75c741121e8b\">\n",
              "  <button class=\"colab-df-quickchart\" onclick=\"quickchart('df-8b31970b-d1e2-462e-b55c-75c741121e8b')\"\n",
              "            title=\"Suggest charts\"\n",
              "            style=\"display:none;\">\n",
              "\n",
              "<svg xmlns=\"http://www.w3.org/2000/svg\" height=\"24px\"viewBox=\"0 0 24 24\"\n",
              "     width=\"24px\">\n",
              "    <g>\n",
              "        <path d=\"M19 3H5c-1.1 0-2 .9-2 2v14c0 1.1.9 2 2 2h14c1.1 0 2-.9 2-2V5c0-1.1-.9-2-2-2zM9 17H7v-7h2v7zm4 0h-2V7h2v10zm4 0h-2v-4h2v4z\"/>\n",
              "    </g>\n",
              "</svg>\n",
              "  </button>\n",
              "\n",
              "<style>\n",
              "  .colab-df-quickchart {\n",
              "      --bg-color: #E8F0FE;\n",
              "      --fill-color: #1967D2;\n",
              "      --hover-bg-color: #E2EBFA;\n",
              "      --hover-fill-color: #174EA6;\n",
              "      --disabled-fill-color: #AAA;\n",
              "      --disabled-bg-color: #DDD;\n",
              "  }\n",
              "\n",
              "  [theme=dark] .colab-df-quickchart {\n",
              "      --bg-color: #3B4455;\n",
              "      --fill-color: #D2E3FC;\n",
              "      --hover-bg-color: #434B5C;\n",
              "      --hover-fill-color: #FFFFFF;\n",
              "      --disabled-bg-color: #3B4455;\n",
              "      --disabled-fill-color: #666;\n",
              "  }\n",
              "\n",
              "  .colab-df-quickchart {\n",
              "    background-color: var(--bg-color);\n",
              "    border: none;\n",
              "    border-radius: 50%;\n",
              "    cursor: pointer;\n",
              "    display: none;\n",
              "    fill: var(--fill-color);\n",
              "    height: 32px;\n",
              "    padding: 0;\n",
              "    width: 32px;\n",
              "  }\n",
              "\n",
              "  .colab-df-quickchart:hover {\n",
              "    background-color: var(--hover-bg-color);\n",
              "    box-shadow: 0 1px 2px rgba(60, 64, 67, 0.3), 0 1px 3px 1px rgba(60, 64, 67, 0.15);\n",
              "    fill: var(--button-hover-fill-color);\n",
              "  }\n",
              "\n",
              "  .colab-df-quickchart-complete:disabled,\n",
              "  .colab-df-quickchart-complete:disabled:hover {\n",
              "    background-color: var(--disabled-bg-color);\n",
              "    fill: var(--disabled-fill-color);\n",
              "    box-shadow: none;\n",
              "  }\n",
              "\n",
              "  .colab-df-spinner {\n",
              "    border: 2px solid var(--fill-color);\n",
              "    border-color: transparent;\n",
              "    border-bottom-color: var(--fill-color);\n",
              "    animation:\n",
              "      spin 1s steps(1) infinite;\n",
              "  }\n",
              "\n",
              "  @keyframes spin {\n",
              "    0% {\n",
              "      border-color: transparent;\n",
              "      border-bottom-color: var(--fill-color);\n",
              "      border-left-color: var(--fill-color);\n",
              "    }\n",
              "    20% {\n",
              "      border-color: transparent;\n",
              "      border-left-color: var(--fill-color);\n",
              "      border-top-color: var(--fill-color);\n",
              "    }\n",
              "    30% {\n",
              "      border-color: transparent;\n",
              "      border-left-color: var(--fill-color);\n",
              "      border-top-color: var(--fill-color);\n",
              "      border-right-color: var(--fill-color);\n",
              "    }\n",
              "    40% {\n",
              "      border-color: transparent;\n",
              "      border-right-color: var(--fill-color);\n",
              "      border-top-color: var(--fill-color);\n",
              "    }\n",
              "    60% {\n",
              "      border-color: transparent;\n",
              "      border-right-color: var(--fill-color);\n",
              "    }\n",
              "    80% {\n",
              "      border-color: transparent;\n",
              "      border-right-color: var(--fill-color);\n",
              "      border-bottom-color: var(--fill-color);\n",
              "    }\n",
              "    90% {\n",
              "      border-color: transparent;\n",
              "      border-bottom-color: var(--fill-color);\n",
              "    }\n",
              "  }\n",
              "</style>\n",
              "\n",
              "  <script>\n",
              "    async function quickchart(key) {\n",
              "      const quickchartButtonEl =\n",
              "        document.querySelector('#' + key + ' button');\n",
              "      quickchartButtonEl.disabled = true;  // To prevent multiple clicks.\n",
              "      quickchartButtonEl.classList.add('colab-df-spinner');\n",
              "      try {\n",
              "        const charts = await google.colab.kernel.invokeFunction(\n",
              "            'suggestCharts', [key], {});\n",
              "      } catch (error) {\n",
              "        console.error('Error during call to suggestCharts:', error);\n",
              "      }\n",
              "      quickchartButtonEl.classList.remove('colab-df-spinner');\n",
              "      quickchartButtonEl.classList.add('colab-df-quickchart-complete');\n",
              "    }\n",
              "    (() => {\n",
              "      let quickchartButtonEl =\n",
              "        document.querySelector('#df-8b31970b-d1e2-462e-b55c-75c741121e8b button');\n",
              "      quickchartButtonEl.style.display =\n",
              "        google.colab.kernel.accessAllowed ? 'block' : 'none';\n",
              "    })();\n",
              "  </script>\n",
              "</div>\n",
              "    </div>\n",
              "  </div>\n"
            ]
          },
          "metadata": {},
          "execution_count": 79
        }
      ]
    },
    {
      "cell_type": "markdown",
      "source": [
        "Since this is a problem such that the False Negative is more considered . Because if the False Negative rate increases We may lead to lose our Customer and that leads to loss for the company. So by analysing the various models the model with low False Negative Rate and High ROC Score Voting Classifier and is finalized for the deployment"
      ],
      "metadata": {
        "id": "tWEphH73giDa"
      }
    },
    {
      "cell_type": "markdown",
      "source": [
        "***Consolidated Plot of all models***"
      ],
      "metadata": {
        "id": "ijOIoUGngoMe"
      }
    },
    {
      "cell_type": "code",
      "source": [
        "fig = plt.figure(figsize = (10, 8))\n",
        "fig = plt.plot(fpr_log, tpr_log, \"g--\")\n",
        "plt.plot(fpr_xgb, tpr_xgb, \"r--\")\n",
        "plt.plot(fpr_vc, tpr_vc, \"b--\")\n",
        "plt.plot(fpr_knn, tpr_knn, \"y--\")\n",
        "plt.plot(fpr_rf, tpr_rf)\n",
        "plt.plot(fpr_dt, tpr_dt)"
      ],
      "metadata": {
        "colab": {
          "base_uri": "https://localhost:8080/",
          "height": 693
        },
        "id": "0IDlycbUgko5",
        "outputId": "78523242-7618-4a05-f2e8-f78012bd9a3e"
      },
      "execution_count": 80,
      "outputs": [
        {
          "output_type": "execute_result",
          "data": {
            "text/plain": [
              "[<matplotlib.lines.Line2D at 0x7870d7d9ad70>]"
            ]
          },
          "metadata": {},
          "execution_count": 80
        },
        {
          "output_type": "display_data",
          "data": {
            "text/plain": [
              "<Figure size 1000x800 with 1 Axes>"
            ],
            "image/png": "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\n"
          },
          "metadata": {}
        }
      ]
    },
    {
      "cell_type": "markdown",
      "source": [
        "# Finding the best Threshold value for all models based on the ROC score"
      ],
      "metadata": {
        "id": "2bbPlwZugx74"
      }
    },
    {
      "cell_type": "code",
      "source": [
        "pred=[]\n",
        "for model in [log,rf,dt,xgb, knn, vc]:\n",
        "    pred.append(pd.Series(model.predict_proba(X_test)[:,1]))\n",
        "final_prediction=pd.concat(pred,axis=1).mean(axis=1)\n",
        "print('Ensemble test roc-auc: {}'.format(roc_auc_score(y_test,final_prediction)))"
      ],
      "metadata": {
        "colab": {
          "base_uri": "https://localhost:8080/"
        },
        "id": "NEyo7GYKgudW",
        "outputId": "40575d39-cafc-4819-8a65-1e50617f781e"
      },
      "execution_count": 81,
      "outputs": [
        {
          "output_type": "stream",
          "name": "stdout",
          "text": [
            "Ensemble test roc-auc: 0.9066083398939017\n"
          ]
        }
      ]
    },
    {
      "cell_type": "code",
      "source": [
        "fpr, tpr, thresholds = roc_curve(y_test, final_prediction)\n",
        "#thresholds\n",
        "from sklearn.metrics import accuracy_score\n",
        "accuracy_ls = []\n",
        "for thres in thresholds:\n",
        "    y_pred = np.where(final_prediction>thres,1,0)\n",
        "    accuracy_ls.append(accuracy_score(y_test, y_pred, normalize=True))\n",
        "\n",
        "accuracy_ls = pd.concat([pd.Series(thresholds), pd.Series(accuracy_ls)],\n",
        "                        axis=1)\n",
        "accuracy_ls.columns = ['thresholds', 'accuracy']\n",
        "accuracy_ls.sort_values(by='accuracy', ascending=False, inplace=True)\n",
        "print(f\"----->>>>  {accuracy_ls.iloc[0, 0]} is the best Threshold value with the highest accuracy of {accuracy_ls.iloc[0, 1]} based on the mean of all models\" )\n",
        "accuracy_ls.head()"
      ],
      "metadata": {
        "colab": {
          "base_uri": "https://localhost:8080/",
          "height": 223
        },
        "id": "7er0_F0lg6QJ",
        "outputId": "696d1ec9-ec81-42fe-e948-3d9e9a5b6171"
      },
      "execution_count": 82,
      "outputs": [
        {
          "output_type": "stream",
          "name": "stdout",
          "text": [
            "----->>>>  0.8507268318323687 is the best Threshold value with the highest accuracy of 0.893394278973754 based on the mean of all models\n"
          ]
        },
        {
          "output_type": "execute_result",
          "data": {
            "text/plain": [
              "     thresholds  accuracy\n",
              "400    0.850727  0.893394\n",
              "433    0.843377  0.893394\n",
              "434    0.843191  0.893394\n",
              "399    0.851035  0.893321\n",
              "430    0.844110  0.893321"
            ],
            "text/html": [
              "\n",
              "  <div id=\"df-82c4b1d7-7aa5-4c9b-bab7-c32a29af3e9a\" class=\"colab-df-container\">\n",
              "    <div>\n",
              "<style scoped>\n",
              "    .dataframe tbody tr th:only-of-type {\n",
              "        vertical-align: middle;\n",
              "    }\n",
              "\n",
              "    .dataframe tbody tr th {\n",
              "        vertical-align: top;\n",
              "    }\n",
              "\n",
              "    .dataframe thead th {\n",
              "        text-align: right;\n",
              "    }\n",
              "</style>\n",
              "<table border=\"1\" class=\"dataframe\">\n",
              "  <thead>\n",
              "    <tr style=\"text-align: right;\">\n",
              "      <th></th>\n",
              "      <th>thresholds</th>\n",
              "      <th>accuracy</th>\n",
              "    </tr>\n",
              "  </thead>\n",
              "  <tbody>\n",
              "    <tr>\n",
              "      <th>400</th>\n",
              "      <td>0.850727</td>\n",
              "      <td>0.893394</td>\n",
              "    </tr>\n",
              "    <tr>\n",
              "      <th>433</th>\n",
              "      <td>0.843377</td>\n",
              "      <td>0.893394</td>\n",
              "    </tr>\n",
              "    <tr>\n",
              "      <th>434</th>\n",
              "      <td>0.843191</td>\n",
              "      <td>0.893394</td>\n",
              "    </tr>\n",
              "    <tr>\n",
              "      <th>399</th>\n",
              "      <td>0.851035</td>\n",
              "      <td>0.893321</td>\n",
              "    </tr>\n",
              "    <tr>\n",
              "      <th>430</th>\n",
              "      <td>0.844110</td>\n",
              "      <td>0.893321</td>\n",
              "    </tr>\n",
              "  </tbody>\n",
              "</table>\n",
              "</div>\n",
              "    <div class=\"colab-df-buttons\">\n",
              "\n",
              "  <div class=\"colab-df-container\">\n",
              "    <button class=\"colab-df-convert\" onclick=\"convertToInteractive('df-82c4b1d7-7aa5-4c9b-bab7-c32a29af3e9a')\"\n",
              "            title=\"Convert this dataframe to an interactive table.\"\n",
              "            style=\"display:none;\">\n",
              "\n",
              "  <svg xmlns=\"http://www.w3.org/2000/svg\" height=\"24px\" viewBox=\"0 -960 960 960\">\n",
              "    <path d=\"M120-120v-720h720v720H120Zm60-500h600v-160H180v160Zm220 220h160v-160H400v160Zm0 220h160v-160H400v160ZM180-400h160v-160H180v160Zm440 0h160v-160H620v160ZM180-180h160v-160H180v160Zm440 0h160v-160H620v160Z\"/>\n",
              "  </svg>\n",
              "    </button>\n",
              "\n",
              "  <style>\n",
              "    .colab-df-container {\n",
              "      display:flex;\n",
              "      gap: 12px;\n",
              "    }\n",
              "\n",
              "    .colab-df-convert {\n",
              "      background-color: #E8F0FE;\n",
              "      border: none;\n",
              "      border-radius: 50%;\n",
              "      cursor: pointer;\n",
              "      display: none;\n",
              "      fill: #1967D2;\n",
              "      height: 32px;\n",
              "      padding: 0 0 0 0;\n",
              "      width: 32px;\n",
              "    }\n",
              "\n",
              "    .colab-df-convert:hover {\n",
              "      background-color: #E2EBFA;\n",
              "      box-shadow: 0px 1px 2px rgba(60, 64, 67, 0.3), 0px 1px 3px 1px rgba(60, 64, 67, 0.15);\n",
              "      fill: #174EA6;\n",
              "    }\n",
              "\n",
              "    .colab-df-buttons div {\n",
              "      margin-bottom: 4px;\n",
              "    }\n",
              "\n",
              "    [theme=dark] .colab-df-convert {\n",
              "      background-color: #3B4455;\n",
              "      fill: #D2E3FC;\n",
              "    }\n",
              "\n",
              "    [theme=dark] .colab-df-convert:hover {\n",
              "      background-color: #434B5C;\n",
              "      box-shadow: 0px 1px 3px 1px rgba(0, 0, 0, 0.15);\n",
              "      filter: drop-shadow(0px 1px 2px rgba(0, 0, 0, 0.3));\n",
              "      fill: #FFFFFF;\n",
              "    }\n",
              "  </style>\n",
              "\n",
              "    <script>\n",
              "      const buttonEl =\n",
              "        document.querySelector('#df-82c4b1d7-7aa5-4c9b-bab7-c32a29af3e9a button.colab-df-convert');\n",
              "      buttonEl.style.display =\n",
              "        google.colab.kernel.accessAllowed ? 'block' : 'none';\n",
              "\n",
              "      async function convertToInteractive(key) {\n",
              "        const element = document.querySelector('#df-82c4b1d7-7aa5-4c9b-bab7-c32a29af3e9a');\n",
              "        const dataTable =\n",
              "          await google.colab.kernel.invokeFunction('convertToInteractive',\n",
              "                                                    [key], {});\n",
              "        if (!dataTable) return;\n",
              "\n",
              "        const docLinkHtml = 'Like what you see? Visit the ' +\n",
              "          '<a target=\"_blank\" href=https://colab.research.google.com/notebooks/data_table.ipynb>data table notebook</a>'\n",
              "          + ' to learn more about interactive tables.';\n",
              "        element.innerHTML = '';\n",
              "        dataTable['output_type'] = 'display_data';\n",
              "        await google.colab.output.renderOutput(dataTable, element);\n",
              "        const docLink = document.createElement('div');\n",
              "        docLink.innerHTML = docLinkHtml;\n",
              "        element.appendChild(docLink);\n",
              "      }\n",
              "    </script>\n",
              "  </div>\n",
              "\n",
              "\n",
              "<div id=\"df-9b2a6dc7-5e76-4ca7-8143-7baf5838b636\">\n",
              "  <button class=\"colab-df-quickchart\" onclick=\"quickchart('df-9b2a6dc7-5e76-4ca7-8143-7baf5838b636')\"\n",
              "            title=\"Suggest charts\"\n",
              "            style=\"display:none;\">\n",
              "\n",
              "<svg xmlns=\"http://www.w3.org/2000/svg\" height=\"24px\"viewBox=\"0 0 24 24\"\n",
              "     width=\"24px\">\n",
              "    <g>\n",
              "        <path d=\"M19 3H5c-1.1 0-2 .9-2 2v14c0 1.1.9 2 2 2h14c1.1 0 2-.9 2-2V5c0-1.1-.9-2-2-2zM9 17H7v-7h2v7zm4 0h-2V7h2v10zm4 0h-2v-4h2v4z\"/>\n",
              "    </g>\n",
              "</svg>\n",
              "  </button>\n",
              "\n",
              "<style>\n",
              "  .colab-df-quickchart {\n",
              "      --bg-color: #E8F0FE;\n",
              "      --fill-color: #1967D2;\n",
              "      --hover-bg-color: #E2EBFA;\n",
              "      --hover-fill-color: #174EA6;\n",
              "      --disabled-fill-color: #AAA;\n",
              "      --disabled-bg-color: #DDD;\n",
              "  }\n",
              "\n",
              "  [theme=dark] .colab-df-quickchart {\n",
              "      --bg-color: #3B4455;\n",
              "      --fill-color: #D2E3FC;\n",
              "      --hover-bg-color: #434B5C;\n",
              "      --hover-fill-color: #FFFFFF;\n",
              "      --disabled-bg-color: #3B4455;\n",
              "      --disabled-fill-color: #666;\n",
              "  }\n",
              "\n",
              "  .colab-df-quickchart {\n",
              "    background-color: var(--bg-color);\n",
              "    border: none;\n",
              "    border-radius: 50%;\n",
              "    cursor: pointer;\n",
              "    display: none;\n",
              "    fill: var(--fill-color);\n",
              "    height: 32px;\n",
              "    padding: 0;\n",
              "    width: 32px;\n",
              "  }\n",
              "\n",
              "  .colab-df-quickchart:hover {\n",
              "    background-color: var(--hover-bg-color);\n",
              "    box-shadow: 0 1px 2px rgba(60, 64, 67, 0.3), 0 1px 3px 1px rgba(60, 64, 67, 0.15);\n",
              "    fill: var(--button-hover-fill-color);\n",
              "  }\n",
              "\n",
              "  .colab-df-quickchart-complete:disabled,\n",
              "  .colab-df-quickchart-complete:disabled:hover {\n",
              "    background-color: var(--disabled-bg-color);\n",
              "    fill: var(--disabled-fill-color);\n",
              "    box-shadow: none;\n",
              "  }\n",
              "\n",
              "  .colab-df-spinner {\n",
              "    border: 2px solid var(--fill-color);\n",
              "    border-color: transparent;\n",
              "    border-bottom-color: var(--fill-color);\n",
              "    animation:\n",
              "      spin 1s steps(1) infinite;\n",
              "  }\n",
              "\n",
              "  @keyframes spin {\n",
              "    0% {\n",
              "      border-color: transparent;\n",
              "      border-bottom-color: var(--fill-color);\n",
              "      border-left-color: var(--fill-color);\n",
              "    }\n",
              "    20% {\n",
              "      border-color: transparent;\n",
              "      border-left-color: var(--fill-color);\n",
              "      border-top-color: var(--fill-color);\n",
              "    }\n",
              "    30% {\n",
              "      border-color: transparent;\n",
              "      border-left-color: var(--fill-color);\n",
              "      border-top-color: var(--fill-color);\n",
              "      border-right-color: var(--fill-color);\n",
              "    }\n",
              "    40% {\n",
              "      border-color: transparent;\n",
              "      border-right-color: var(--fill-color);\n",
              "      border-top-color: var(--fill-color);\n",
              "    }\n",
              "    60% {\n",
              "      border-color: transparent;\n",
              "      border-right-color: var(--fill-color);\n",
              "    }\n",
              "    80% {\n",
              "      border-color: transparent;\n",
              "      border-right-color: var(--fill-color);\n",
              "      border-bottom-color: var(--fill-color);\n",
              "    }\n",
              "    90% {\n",
              "      border-color: transparent;\n",
              "      border-bottom-color: var(--fill-color);\n",
              "    }\n",
              "  }\n",
              "</style>\n",
              "\n",
              "  <script>\n",
              "    async function quickchart(key) {\n",
              "      const quickchartButtonEl =\n",
              "        document.querySelector('#' + key + ' button');\n",
              "      quickchartButtonEl.disabled = true;  // To prevent multiple clicks.\n",
              "      quickchartButtonEl.classList.add('colab-df-spinner');\n",
              "      try {\n",
              "        const charts = await google.colab.kernel.invokeFunction(\n",
              "            'suggestCharts', [key], {});\n",
              "      } catch (error) {\n",
              "        console.error('Error during call to suggestCharts:', error);\n",
              "      }\n",
              "      quickchartButtonEl.classList.remove('colab-df-spinner');\n",
              "      quickchartButtonEl.classList.add('colab-df-quickchart-complete');\n",
              "    }\n",
              "    (() => {\n",
              "      let quickchartButtonEl =\n",
              "        document.querySelector('#df-9b2a6dc7-5e76-4ca7-8143-7baf5838b636 button');\n",
              "      quickchartButtonEl.style.display =\n",
              "        google.colab.kernel.accessAllowed ? 'block' : 'none';\n",
              "    })();\n",
              "  </script>\n",
              "</div>\n",
              "    </div>\n",
              "  </div>\n"
            ]
          },
          "metadata": {},
          "execution_count": 82
        }
      ]
    },
    {
      "cell_type": "markdown",
      "source": [
        "# Pickling the model:\n",
        "1. As we compared the models. The model with high AUCROC score of 92 and with less False Negative is taken for deployment.\n",
        "2. The select model got deployment is XGB classifier\n",
        "3. Before deployment the whole data should be trained by the model for the better accuracy of prediction of new data"
      ],
      "metadata": {
        "id": "rOmjS4FYhEl_"
      }
    },
    {
      "cell_type": "code",
      "source": [
        "from sklearn.model_selection import StratifiedKFold\n",
        "\n",
        "X = data_2.drop([\"outcome\"], axis=  1)\n",
        "y = data_2[\"outcome\"]\n",
        "\n",
        "X_full = np.array(X).reshape(data_2.shape[0], -1)\n",
        "y_full = np.array(y).reshape(-1, 1).flatten()\n",
        "\n",
        "xgb.fit(X_full, y_full)\n",
        "xgb.score(X_full, y_full)\n",
        "\n",
        "cv = StratifiedKFold(n_splits = 5, random_state = 42, shuffle = True)\n",
        "\n",
        "print(\"Train acccuracy of the model with whole data  : \",(cross_val_score(xgb, X, y, cv = cv)))\n"
      ],
      "metadata": {
        "colab": {
          "base_uri": "https://localhost:8080/"
        },
        "id": "gToaJxy8g-5Z",
        "outputId": "e0616b0c-4f6b-4e94-e37f-30d5ceab0038"
      },
      "execution_count": 83,
      "outputs": [
        {
          "output_type": "stream",
          "name": "stdout",
          "text": [
            "Train acccuracy of the model with whole data  :  [0.83158244 0.83488166 0.82824596 0.83012608 0.82592347]\n"
          ]
        }
      ]
    },
    {
      "cell_type": "code",
      "source": [
        "import pickle\n",
        "filename = \"XGB_model\"\n",
        "pickle.dump(xgb, open(filename, \"wb\"))\n"
      ],
      "metadata": {
        "id": "ffm6vlLuhYEg"
      },
      "execution_count": 84,
      "outputs": []
    }
